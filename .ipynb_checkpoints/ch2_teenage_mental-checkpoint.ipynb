{
 "cells": [
  {
   "cell_type": "code",
   "execution_count": 1,
   "metadata": {},
   "outputs": [],
   "source": [
    "import pandas as pd"
   ]
  },
  {
   "cell_type": "code",
   "execution_count": 2,
   "metadata": {},
   "outputs": [
    {
     "data": {
      "text/plain": [
       "DatetimeIndex(['2019-03-01', '2019-03-02', '2019-03-03', '2019-03-04',\n",
       "               '2019-03-05', '2019-03-06'],\n",
       "              dtype='datetime64[ns]', freq='D')"
      ]
     },
     "execution_count": 2,
     "metadata": {},
     "output_type": "execute_result"
    }
   ],
   "source": [
    "dates = pd.date_range('20190301', periods=6)\n",
    "dates"
   ]
  },
  {
   "cell_type": "markdown",
   "metadata": {},
   "source": [
    "위 코드는 pandas의 날짜형 변수를 사용하는 것으로 2019년 3월 1일부터 6일간을 dates라는 변수에 저장한 것이다. 날짜 등을 다루는 시계열 관련 함수를 지원한다는 것은 꽤 중요하다. 어떤 달은 31일, 어떤 달은 28일, 게다가 몇 년에 한번 29일. 이런 생각을 하지 않아도 된다는 것 하나만 봐도 중요한 일이다. pandas의 date_range 함수를 이용해서 날짜를 생성할 수 있다."
   ]
  },
  {
   "cell_type": "code",
   "execution_count": 3,
   "metadata": {},
   "outputs": [
    {
     "data": {
      "text/html": [
       "<div>\n",
       "<style scoped>\n",
       "    .dataframe tbody tr th:only-of-type {\n",
       "        vertical-align: middle;\n",
       "    }\n",
       "\n",
       "    .dataframe tbody tr th {\n",
       "        vertical-align: top;\n",
       "    }\n",
       "\n",
       "    .dataframe thead th {\n",
       "        text-align: right;\n",
       "    }\n",
       "</style>\n",
       "<table border=\"1\" class=\"dataframe\">\n",
       "  <thead>\n",
       "    <tr style=\"text-align: right;\">\n",
       "      <th></th>\n",
       "      <th>A</th>\n",
       "      <th>B</th>\n",
       "      <th>C</th>\n",
       "      <th>D</th>\n",
       "    </tr>\n",
       "  </thead>\n",
       "  <tbody>\n",
       "    <tr>\n",
       "      <th>2019-03-01</th>\n",
       "      <td>-0.646545</td>\n",
       "      <td>1.236250</td>\n",
       "      <td>-0.445690</td>\n",
       "      <td>1.038379</td>\n",
       "    </tr>\n",
       "    <tr>\n",
       "      <th>2019-03-02</th>\n",
       "      <td>-1.467046</td>\n",
       "      <td>-0.461063</td>\n",
       "      <td>-0.832978</td>\n",
       "      <td>-1.823713</td>\n",
       "    </tr>\n",
       "    <tr>\n",
       "      <th>2019-03-03</th>\n",
       "      <td>-0.675976</td>\n",
       "      <td>0.177212</td>\n",
       "      <td>1.323000</td>\n",
       "      <td>-1.931590</td>\n",
       "    </tr>\n",
       "    <tr>\n",
       "      <th>2019-03-04</th>\n",
       "      <td>0.682435</td>\n",
       "      <td>0.105700</td>\n",
       "      <td>-0.947581</td>\n",
       "      <td>0.733748</td>\n",
       "    </tr>\n",
       "    <tr>\n",
       "      <th>2019-03-05</th>\n",
       "      <td>-0.549690</td>\n",
       "      <td>-0.261367</td>\n",
       "      <td>0.014273</td>\n",
       "      <td>-0.112162</td>\n",
       "    </tr>\n",
       "    <tr>\n",
       "      <th>2019-03-06</th>\n",
       "      <td>0.093262</td>\n",
       "      <td>0.023726</td>\n",
       "      <td>0.136748</td>\n",
       "      <td>-0.763329</td>\n",
       "    </tr>\n",
       "  </tbody>\n",
       "</table>\n",
       "</div>"
      ],
      "text/plain": [
       "                   A         B         C         D\n",
       "2019-03-01 -0.646545  1.236250 -0.445690  1.038379\n",
       "2019-03-02 -1.467046 -0.461063 -0.832978 -1.823713\n",
       "2019-03-03 -0.675976  0.177212  1.323000 -1.931590\n",
       "2019-03-04  0.682435  0.105700 -0.947581  0.733748\n",
       "2019-03-05 -0.549690 -0.261367  0.014273 -0.112162\n",
       "2019-03-06  0.093262  0.023726  0.136748 -0.763329"
      ]
     },
     "execution_count": 3,
     "metadata": {},
     "output_type": "execute_result"
    }
   ],
   "source": [
    "import numpy as np\n",
    "df=pd.DataFrame(np.random.randn(6,4), index=dates, columns=['A','B','C','D'])\n",
    "df"
   ]
  },
  {
   "cell_type": "markdown",
   "metadata": {},
   "source": [
    "DataFrame은 pandas의 기본이 되는 중요한 구조이자 그 구조를 이용해서 데이터를 만드는 명령이다.  \n",
    "먼저 랜덤 변수를 6행, 4열로 만들기 위해 numpy라는 수치 연산 관련 모듈을 np라는 이름으로 import했다."
   ]
  },
  {
   "cell_type": "markdown",
   "metadata": {},
   "source": [
    "<img src=\"./ch2/img/img2-1.png\"/>\n",
    "\n",
    "그림 2-1.pandas DataFrame의 구조"
   ]
  },
  {
   "cell_type": "markdown",
   "metadata": {},
   "source": [
    "DataFrame은 그림 2-1에 있듯이 세로 방향의 축 제목을 의미하는 칼럼(column)과 각 행의 이름을 의미하는 인덱스(index) 그리고 내용인 밸류(value)로 되어 있다.  \n",
    "바로 위의 코드 3은 numpy가 제공하는 랜덤 변수로 밸류를 채웠다. 그리고, 코드2에서 만든 날짜로 인덱스를 지정하고, 칼럼 이름은 직접 'A','B','C','D'라고 입력한 것이다.  \n",
    "이렇게 해서 DataFrame을 만들 수 있다."
   ]
  },
  {
   "cell_type": "code",
   "execution_count": 4,
   "metadata": {},
   "outputs": [
    {
     "data": {
      "text/plain": [
       "pandas.core.frame.DataFrame"
      ]
     },
     "execution_count": 4,
     "metadata": {},
     "output_type": "execute_result"
    }
   ],
   "source": [
    "type(df)"
   ]
  },
  {
   "cell_type": "code",
   "execution_count": 5,
   "metadata": {},
   "outputs": [
    {
     "data": {
      "text/plain": [
       "Index(['A', 'B', 'C', 'D'], dtype='object')"
      ]
     },
     "execution_count": 5,
     "metadata": {},
     "output_type": "execute_result"
    }
   ],
   "source": [
    "df.columns"
   ]
  },
  {
   "cell_type": "code",
   "execution_count": 6,
   "metadata": {},
   "outputs": [
    {
     "data": {
      "text/plain": [
       "DatetimeIndex(['2019-03-01', '2019-03-02', '2019-03-03', '2019-03-04',\n",
       "               '2019-03-05', '2019-03-06'],\n",
       "              dtype='datetime64[ns]', freq='D')"
      ]
     },
     "execution_count": 6,
     "metadata": {},
     "output_type": "execute_result"
    }
   ],
   "source": [
    "df.index"
   ]
  },
  {
   "cell_type": "code",
   "execution_count": 7,
   "metadata": {},
   "outputs": [
    {
     "data": {
      "text/plain": [
       "array([[-0.64654458,  1.23624979, -0.44569009,  1.03837902],\n",
       "       [-1.46704644, -0.46106334, -0.83297815, -1.82371275],\n",
       "       [-0.67597636,  0.17721244,  1.32300048, -1.93159046],\n",
       "       [ 0.68243513,  0.10570009, -0.94758084,  0.73374785],\n",
       "       [-0.54969026, -0.26136739,  0.01427281, -0.11216154],\n",
       "       [ 0.09326215,  0.02372572,  0.13674826, -0.76332878]])"
      ]
     },
     "execution_count": 7,
     "metadata": {},
     "output_type": "execute_result"
    }
   ],
   "source": [
    "df.values"
   ]
  },
  {
   "cell_type": "markdown",
   "metadata": {},
   "source": [
    "방금 DataFrame을 저장하는 변수 df에서 칼럼과 인덱스, 밸류를 조회할 수 있다.  \n",
    "먼저 type 함수는 해당 변수 혹은 함수의 형(type)을 알려준다. 당연한 이야기지만, df변수는 pandas의 DataFrame클래스이다.  \n",
    "그리고, df 변수에서 columns, index, values 속성을 모두 조회할 수 있다."
   ]
  },
  {
   "cell_type": "code",
   "execution_count": 8,
   "metadata": {},
   "outputs": [
    {
     "data": {
      "text/html": [
       "<div>\n",
       "<style scoped>\n",
       "    .dataframe tbody tr th:only-of-type {\n",
       "        vertical-align: middle;\n",
       "    }\n",
       "\n",
       "    .dataframe tbody tr th {\n",
       "        vertical-align: top;\n",
       "    }\n",
       "\n",
       "    .dataframe thead th {\n",
       "        text-align: right;\n",
       "    }\n",
       "</style>\n",
       "<table border=\"1\" class=\"dataframe\">\n",
       "  <thead>\n",
       "    <tr style=\"text-align: right;\">\n",
       "      <th></th>\n",
       "      <th>A</th>\n",
       "      <th>B</th>\n",
       "      <th>C</th>\n",
       "      <th>D</th>\n",
       "    </tr>\n",
       "  </thead>\n",
       "  <tbody>\n",
       "    <tr>\n",
       "      <th>count</th>\n",
       "      <td>6.000000</td>\n",
       "      <td>6.000000</td>\n",
       "      <td>6.000000</td>\n",
       "      <td>6.000000</td>\n",
       "    </tr>\n",
       "    <tr>\n",
       "      <th>mean</th>\n",
       "      <td>-0.427260</td>\n",
       "      <td>0.136743</td>\n",
       "      <td>-0.125371</td>\n",
       "      <td>-0.476444</td>\n",
       "    </tr>\n",
       "    <tr>\n",
       "      <th>std</th>\n",
       "      <td>0.735997</td>\n",
       "      <td>0.589941</td>\n",
       "      <td>0.832506</td>\n",
       "      <td>1.257525</td>\n",
       "    </tr>\n",
       "    <tr>\n",
       "      <th>min</th>\n",
       "      <td>-1.467046</td>\n",
       "      <td>-0.461063</td>\n",
       "      <td>-0.947581</td>\n",
       "      <td>-1.931590</td>\n",
       "    </tr>\n",
       "    <tr>\n",
       "      <th>25%</th>\n",
       "      <td>-0.668618</td>\n",
       "      <td>-0.190094</td>\n",
       "      <td>-0.736156</td>\n",
       "      <td>-1.558617</td>\n",
       "    </tr>\n",
       "    <tr>\n",
       "      <th>50%</th>\n",
       "      <td>-0.598117</td>\n",
       "      <td>0.064713</td>\n",
       "      <td>-0.215709</td>\n",
       "      <td>-0.437745</td>\n",
       "    </tr>\n",
       "    <tr>\n",
       "      <th>75%</th>\n",
       "      <td>-0.067476</td>\n",
       "      <td>0.159334</td>\n",
       "      <td>0.106129</td>\n",
       "      <td>0.522271</td>\n",
       "    </tr>\n",
       "    <tr>\n",
       "      <th>max</th>\n",
       "      <td>0.682435</td>\n",
       "      <td>1.236250</td>\n",
       "      <td>1.323000</td>\n",
       "      <td>1.038379</td>\n",
       "    </tr>\n",
       "  </tbody>\n",
       "</table>\n",
       "</div>"
      ],
      "text/plain": [
       "              A         B         C         D\n",
       "count  6.000000  6.000000  6.000000  6.000000\n",
       "mean  -0.427260  0.136743 -0.125371 -0.476444\n",
       "std    0.735997  0.589941  0.832506  1.257525\n",
       "min   -1.467046 -0.461063 -0.947581 -1.931590\n",
       "25%   -0.668618 -0.190094 -0.736156 -1.558617\n",
       "50%   -0.598117  0.064713 -0.215709 -0.437745\n",
       "75%   -0.067476  0.159334  0.106129  0.522271\n",
       "max    0.682435  1.236250  1.323000  1.038379"
      ]
     },
     "execution_count": 8,
     "metadata": {},
     "output_type": "execute_result"
    }
   ],
   "source": [
    "df.describe()"
   ]
  },
  {
   "cell_type": "markdown",
   "metadata": {},
   "source": [
    "랜덤 변수를 사용했기 때문에 의미는 없지만, 통계적 개요를 보여주는 describe 함수가 있다.  \n",
    "개수, 평균, 표준편차, 최댓값/최솟값 등을 한눈에 알려준다."
   ]
  },
  {
   "cell_type": "code",
   "execution_count": 9,
   "metadata": {},
   "outputs": [
    {
     "data": {
      "text/html": [
       "<div>\n",
       "<style scoped>\n",
       "    .dataframe tbody tr th:only-of-type {\n",
       "        vertical-align: middle;\n",
       "    }\n",
       "\n",
       "    .dataframe tbody tr th {\n",
       "        vertical-align: top;\n",
       "    }\n",
       "\n",
       "    .dataframe thead th {\n",
       "        text-align: right;\n",
       "    }\n",
       "</style>\n",
       "<table border=\"1\" class=\"dataframe\">\n",
       "  <thead>\n",
       "    <tr style=\"text-align: right;\">\n",
       "      <th></th>\n",
       "      <th>A</th>\n",
       "      <th>B</th>\n",
       "      <th>C</th>\n",
       "      <th>D</th>\n",
       "    </tr>\n",
       "  </thead>\n",
       "  <tbody>\n",
       "    <tr>\n",
       "      <th>2019-03-02</th>\n",
       "      <td>-1.467046</td>\n",
       "      <td>-0.461063</td>\n",
       "      <td>-0.832978</td>\n",
       "      <td>-1.823713</td>\n",
       "    </tr>\n",
       "    <tr>\n",
       "      <th>2019-03-03</th>\n",
       "      <td>-0.675976</td>\n",
       "      <td>0.177212</td>\n",
       "      <td>1.323000</td>\n",
       "      <td>-1.931590</td>\n",
       "    </tr>\n",
       "    <tr>\n",
       "      <th>2019-03-01</th>\n",
       "      <td>-0.646545</td>\n",
       "      <td>1.236250</td>\n",
       "      <td>-0.445690</td>\n",
       "      <td>1.038379</td>\n",
       "    </tr>\n",
       "    <tr>\n",
       "      <th>2019-03-05</th>\n",
       "      <td>-0.549690</td>\n",
       "      <td>-0.261367</td>\n",
       "      <td>0.014273</td>\n",
       "      <td>-0.112162</td>\n",
       "    </tr>\n",
       "    <tr>\n",
       "      <th>2019-03-06</th>\n",
       "      <td>0.093262</td>\n",
       "      <td>0.023726</td>\n",
       "      <td>0.136748</td>\n",
       "      <td>-0.763329</td>\n",
       "    </tr>\n",
       "    <tr>\n",
       "      <th>2019-03-04</th>\n",
       "      <td>0.682435</td>\n",
       "      <td>0.105700</td>\n",
       "      <td>-0.947581</td>\n",
       "      <td>0.733748</td>\n",
       "    </tr>\n",
       "  </tbody>\n",
       "</table>\n",
       "</div>"
      ],
      "text/plain": [
       "                   A         B         C         D\n",
       "2019-03-02 -1.467046 -0.461063 -0.832978 -1.823713\n",
       "2019-03-03 -0.675976  0.177212  1.323000 -1.931590\n",
       "2019-03-01 -0.646545  1.236250 -0.445690  1.038379\n",
       "2019-03-05 -0.549690 -0.261367  0.014273 -0.112162\n",
       "2019-03-06  0.093262  0.023726  0.136748 -0.763329\n",
       "2019-03-04  0.682435  0.105700 -0.947581  0.733748"
      ]
     },
     "execution_count": 9,
     "metadata": {},
     "output_type": "execute_result"
    }
   ],
   "source": [
    "df.sort_values(by='A')"
   ]
  },
  {
   "cell_type": "code",
   "execution_count": 10,
   "metadata": {},
   "outputs": [
    {
     "data": {
      "text/html": [
       "<div>\n",
       "<style scoped>\n",
       "    .dataframe tbody tr th:only-of-type {\n",
       "        vertical-align: middle;\n",
       "    }\n",
       "\n",
       "    .dataframe tbody tr th {\n",
       "        vertical-align: top;\n",
       "    }\n",
       "\n",
       "    .dataframe thead th {\n",
       "        text-align: right;\n",
       "    }\n",
       "</style>\n",
       "<table border=\"1\" class=\"dataframe\">\n",
       "  <thead>\n",
       "    <tr style=\"text-align: right;\">\n",
       "      <th></th>\n",
       "      <th>A</th>\n",
       "      <th>B</th>\n",
       "      <th>C</th>\n",
       "      <th>D</th>\n",
       "    </tr>\n",
       "  </thead>\n",
       "  <tbody>\n",
       "    <tr>\n",
       "      <th>2019-03-04</th>\n",
       "      <td>0.682435</td>\n",
       "      <td>0.105700</td>\n",
       "      <td>-0.947581</td>\n",
       "      <td>0.733748</td>\n",
       "    </tr>\n",
       "    <tr>\n",
       "      <th>2019-03-06</th>\n",
       "      <td>0.093262</td>\n",
       "      <td>0.023726</td>\n",
       "      <td>0.136748</td>\n",
       "      <td>-0.763329</td>\n",
       "    </tr>\n",
       "    <tr>\n",
       "      <th>2019-03-05</th>\n",
       "      <td>-0.549690</td>\n",
       "      <td>-0.261367</td>\n",
       "      <td>0.014273</td>\n",
       "      <td>-0.112162</td>\n",
       "    </tr>\n",
       "    <tr>\n",
       "      <th>2019-03-01</th>\n",
       "      <td>-0.646545</td>\n",
       "      <td>1.236250</td>\n",
       "      <td>-0.445690</td>\n",
       "      <td>1.038379</td>\n",
       "    </tr>\n",
       "    <tr>\n",
       "      <th>2019-03-03</th>\n",
       "      <td>-0.675976</td>\n",
       "      <td>0.177212</td>\n",
       "      <td>1.323000</td>\n",
       "      <td>-1.931590</td>\n",
       "    </tr>\n",
       "    <tr>\n",
       "      <th>2019-03-02</th>\n",
       "      <td>-1.467046</td>\n",
       "      <td>-0.461063</td>\n",
       "      <td>-0.832978</td>\n",
       "      <td>-1.823713</td>\n",
       "    </tr>\n",
       "  </tbody>\n",
       "</table>\n",
       "</div>"
      ],
      "text/plain": [
       "                   A         B         C         D\n",
       "2019-03-04  0.682435  0.105700 -0.947581  0.733748\n",
       "2019-03-06  0.093262  0.023726  0.136748 -0.763329\n",
       "2019-03-05 -0.549690 -0.261367  0.014273 -0.112162\n",
       "2019-03-01 -0.646545  1.236250 -0.445690  1.038379\n",
       "2019-03-03 -0.675976  0.177212  1.323000 -1.931590\n",
       "2019-03-02 -1.467046 -0.461063 -0.832978 -1.823713"
      ]
     },
     "execution_count": 10,
     "metadata": {},
     "output_type": "execute_result"
    }
   ],
   "source": [
    "df.sort_values(by='A', ascending=False)"
   ]
  },
  {
   "cell_type": "markdown",
   "metadata": {},
   "source": [
    "정렬 기능은 sort_values라는 명령으로 수행 가능하다. by 옵션으로 정렬 기준이 되는 칼럼을 지정하고, ascending 옵션으로 내림차순이나 오름차순을 지정할 수 있다.\n",
    "ascending 옵션으로 내림차순이나 오름차순을 지정할 수 있다.\n",
    "ascending 옵션을 지정하지 않으면 기본 상태는 오름차순으로 정렬하는 것이고, False라고 지정하면 내림차순을 지정하는 것이다\n",
    "파이썬에서는 True/False를 지정할 때는 알파벳 첫 글자가 꼭 대문자여야 한다."
   ]
  },
  {
   "cell_type": "markdown",
   "metadata": {},
   "source": [
    "Pandas든 엑셀이든 데이터를 잘 사용하려면 원하는 것만 선택할 수 있어야 한다. 하나의 요소만 선택할 수도 있지만, 범위로 선택할 수도 있다. 이번에는 slice라는 데이터를 범위를 지정해서 선택하는 방법을 학습하려고 한다."
   ]
  },
  {
   "cell_type": "code",
   "execution_count": 11,
   "metadata": {},
   "outputs": [
    {
     "data": {
      "text/plain": [
       "2019-03-01   -0.646545\n",
       "2019-03-02   -1.467046\n",
       "2019-03-03   -0.675976\n",
       "2019-03-04    0.682435\n",
       "2019-03-05   -0.549690\n",
       "2019-03-06    0.093262\n",
       "Freq: D, Name: A, dtype: float64"
      ]
     },
     "execution_count": 11,
     "metadata": {},
     "output_type": "execute_result"
    }
   ],
   "source": [
    "df['A']"
   ]
  },
  {
   "cell_type": "markdown",
   "metadata": {},
   "source": [
    "먼저 간단하게 칼럼 이름만 입력하면 해당 칼럼의 내용이 나타난다."
   ]
  },
  {
   "cell_type": "code",
   "execution_count": 12,
   "metadata": {},
   "outputs": [
    {
     "data": {
      "text/plain": [
       "pandas.core.series.Series"
      ]
     },
     "execution_count": 12,
     "metadata": {},
     "output_type": "execute_result"
    }
   ],
   "source": [
    "type(df['A'])"
   ]
  },
  {
   "cell_type": "markdown",
   "metadata": {},
   "source": [
    "이때, 결과는 한 줄짜리 DataFrame 즉, Series로 나타난다. 사실 pandas에서 가장 작은 데이터형은 Series이고 그다음이 DataFrame이다. 실행된 결과 혹은 사용하는 입력으로만 보면 DataFrame이 훨씬 많다. 우리는 그냥 한 줄 짜리는 Series라고 이해하고 지나가자."
   ]
  },
  {
   "cell_type": "code",
   "execution_count": 13,
   "metadata": {},
   "outputs": [
    {
     "data": {
      "text/html": [
       "<div>\n",
       "<style scoped>\n",
       "    .dataframe tbody tr th:only-of-type {\n",
       "        vertical-align: middle;\n",
       "    }\n",
       "\n",
       "    .dataframe tbody tr th {\n",
       "        vertical-align: top;\n",
       "    }\n",
       "\n",
       "    .dataframe thead th {\n",
       "        text-align: right;\n",
       "    }\n",
       "</style>\n",
       "<table border=\"1\" class=\"dataframe\">\n",
       "  <thead>\n",
       "    <tr style=\"text-align: right;\">\n",
       "      <th></th>\n",
       "      <th>A</th>\n",
       "      <th>B</th>\n",
       "      <th>C</th>\n",
       "      <th>D</th>\n",
       "    </tr>\n",
       "  </thead>\n",
       "  <tbody>\n",
       "    <tr>\n",
       "      <th>2019-03-01</th>\n",
       "      <td>-0.646545</td>\n",
       "      <td>1.236250</td>\n",
       "      <td>-0.445690</td>\n",
       "      <td>1.038379</td>\n",
       "    </tr>\n",
       "    <tr>\n",
       "      <th>2019-03-02</th>\n",
       "      <td>-1.467046</td>\n",
       "      <td>-0.461063</td>\n",
       "      <td>-0.832978</td>\n",
       "      <td>-1.823713</td>\n",
       "    </tr>\n",
       "    <tr>\n",
       "      <th>2019-03-03</th>\n",
       "      <td>-0.675976</td>\n",
       "      <td>0.177212</td>\n",
       "      <td>1.323000</td>\n",
       "      <td>-1.931590</td>\n",
       "    </tr>\n",
       "  </tbody>\n",
       "</table>\n",
       "</div>"
      ],
      "text/plain": [
       "                   A         B         C         D\n",
       "2019-03-01 -0.646545  1.236250 -0.445690  1.038379\n",
       "2019-03-02 -1.467046 -0.461063 -0.832978 -1.823713\n",
       "2019-03-03 -0.675976  0.177212  1.323000 -1.931590"
      ]
     },
     "execution_count": 13,
     "metadata": {},
     "output_type": "execute_result"
    }
   ],
   "source": [
    "df[0:3]"
   ]
  },
  {
   "cell_type": "markdown",
   "metadata": {},
   "source": [
    "이 코드 13번은 행 기준으로 선택한 것이다. 여기서 파이썬을 처음 만나는 분들은 조심해야 하는 것이 0:3의 의미이다.  \n",
    "0:3 = 0, 1, 2  \n",
    "를 의미한다. 즉, 0부터 3 앞까지이다. 그래서 코드 3의 결과에서 0번, 1번, 2번 줄만 선택한 것이다."
   ]
  },
  {
   "cell_type": "code",
   "execution_count": 14,
   "metadata": {},
   "outputs": [
    {
     "data": {
      "text/plain": [
       "A   -0.646545\n",
       "B    1.236250\n",
       "C   -0.445690\n",
       "D    1.038379\n",
       "Name: 2019-03-01 00:00:00, dtype: float64"
      ]
     },
     "execution_count": 14,
     "metadata": {},
     "output_type": "execute_result"
    }
   ],
   "source": [
    "df.loc['2019-03-01']"
   ]
  },
  {
   "cell_type": "markdown",
   "metadata": {},
   "source": [
    "한가지, 코드 11은 열을 선택한 것이고 코드 13번은 열을 선택했다. 그러나, 직관적으로 어떨 때는 행이고, 어떨 때는 열인지 혼동이 오기도 한다. 그래서 명시적으로 loc 옵션을 사용하는 것이 나중에 코드를 관찰할 때 이해하기 쉽다. loc 옵션은 항상 행, 열의 순서로 입력하면 된다. 코드14처럼 작성하면 행만 의미한다."
   ]
  },
  {
   "cell_type": "code",
   "execution_count": 15,
   "metadata": {},
   "outputs": [
    {
     "data": {
      "text/plain": [
       "A   -0.646545\n",
       "Name: 2019-03-01 00:00:00, dtype: float64"
      ]
     },
     "execution_count": 15,
     "metadata": {},
     "output_type": "execute_result"
    }
   ],
   "source": [
    "df.loc['2019-03-01',['A']]"
   ]
  },
  {
   "cell_type": "markdown",
   "metadata": {},
   "source": [
    "행을 지정하고, 열도 그 뒤에 지정할 수 있다."
   ]
  },
  {
   "cell_type": "code",
   "execution_count": 16,
   "metadata": {},
   "outputs": [
    {
     "data": {
      "text/plain": [
       "A   -0.646545\n",
       "B    1.236250\n",
       "Name: 2019-03-01 00:00:00, dtype: float64"
      ]
     },
     "execution_count": 16,
     "metadata": {},
     "output_type": "execute_result"
    }
   ],
   "source": [
    "df.loc['2019-03-01', ['A','B']]"
   ]
  },
  {
   "cell_type": "markdown",
   "metadata": {},
   "source": [
    "다수의 열을 지정할 수 있다."
   ]
  },
  {
   "cell_type": "code",
   "execution_count": 17,
   "metadata": {},
   "outputs": [
    {
     "data": {
      "text/html": [
       "<div>\n",
       "<style scoped>\n",
       "    .dataframe tbody tr th:only-of-type {\n",
       "        vertical-align: middle;\n",
       "    }\n",
       "\n",
       "    .dataframe tbody tr th {\n",
       "        vertical-align: top;\n",
       "    }\n",
       "\n",
       "    .dataframe thead th {\n",
       "        text-align: right;\n",
       "    }\n",
       "</style>\n",
       "<table border=\"1\" class=\"dataframe\">\n",
       "  <thead>\n",
       "    <tr style=\"text-align: right;\">\n",
       "      <th></th>\n",
       "      <th>A</th>\n",
       "      <th>B</th>\n",
       "    </tr>\n",
       "  </thead>\n",
       "  <tbody>\n",
       "    <tr>\n",
       "      <th>2019-03-01</th>\n",
       "      <td>-0.646545</td>\n",
       "      <td>1.236250</td>\n",
       "    </tr>\n",
       "    <tr>\n",
       "      <th>2019-03-02</th>\n",
       "      <td>-1.467046</td>\n",
       "      <td>-0.461063</td>\n",
       "    </tr>\n",
       "  </tbody>\n",
       "</table>\n",
       "</div>"
      ],
      "text/plain": [
       "                   A         B\n",
       "2019-03-01 -0.646545  1.236250\n",
       "2019-03-02 -1.467046 -0.461063"
      ]
     },
     "execution_count": 17,
     "metadata": {},
     "output_type": "execute_result"
    }
   ],
   "source": [
    "df.loc['2019-03-01' : '2019-03-02', ['A','B']]"
   ]
  }
 ],
 "metadata": {
  "kernelspec": {
   "display_name": "Python 3 (ipykernel)",
   "language": "python",
   "name": "python3"
  },
  "language_info": {
   "codemirror_mode": {
    "name": "ipython",
    "version": 3
   },
   "file_extension": ".py",
   "mimetype": "text/x-python",
   "name": "python",
   "nbconvert_exporter": "python",
   "pygments_lexer": "ipython3",
   "version": "3.6.13"
  }
 },
 "nbformat": 4,
 "nbformat_minor": 2
}
