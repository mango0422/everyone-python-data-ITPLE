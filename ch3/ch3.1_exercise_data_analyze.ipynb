{
 "cells": [
  {
   "attachments": {},
   "cell_type": "markdown",
   "metadata": {},
   "source": [
    "파이썬의 가장 기본이 되는 데이터 구조 중 하나가 리스트(list)형 데이터 구조이다.  \n",
    "사용하기 아주 간편할 뿐 아니라 유용학도 강력하다.  \n",
    "리스트형의 기본적인 기능을 학습하고 다음을 진행하자."
   ]
  },
  {
   "cell_type": "code",
   "execution_count": 31,
   "metadata": {},
   "outputs": [
    {
     "data": {
      "text/plain": [
       "[1, 2, 3, 4, 5]"
      ]
     },
     "execution_count": 31,
     "metadata": {},
     "output_type": "execute_result"
    }
   ],
   "source": [
    "list1 = [1, 2, 3, 4, 5]\n",
    "list1"
   ]
  },
  {
   "attachments": {},
   "cell_type": "markdown",
   "metadata": {},
   "source": [
    "파이썬에서 리스트형 데이터는 대괄호로 선언한다.  \n",
    "위 코드처럼 대괄호 안에 데이터를 넣으면 리스트형 데이터가 된다."
   ]
  },
  {
   "cell_type": "code",
   "execution_count": 32,
   "metadata": {},
   "outputs": [
    {
     "data": {
      "text/plain": [
       "['a', 'b', 1, 2, 3]"
      ]
     },
     "execution_count": 32,
     "metadata": {},
     "output_type": "execute_result"
    }
   ],
   "source": [
    "list2 = ['a', 'b', 1, 2, 3]\n",
    "list2"
   ]
  },
  {
   "attachments": {},
   "cell_type": "markdown",
   "metadata": {},
   "source": [
    "다른 언어와 달리 파이썬의 리스트형에는 다양한 형태의 데이터가 포함될 수 있다.  \n",
    "문자나 숫자를 혼용할 수 있고, list안에 list를 넣을 수도 있다."
   ]
  },
  {
   "cell_type": "code",
   "execution_count": 33,
   "metadata": {},
   "outputs": [
    {
     "data": {
      "text/plain": [
       "5"
      ]
     },
     "execution_count": 33,
     "metadata": {},
     "output_type": "execute_result"
    }
   ],
   "source": [
    "len(list2)"
   ]
  },
  {
   "attachments": {},
   "cell_type": "markdown",
   "metadata": {},
   "source": [
    "리스트 형의 크기를 알고 싶으면, len() 함수를 사용하면 된다."
   ]
  },
  {
   "cell_type": "code",
   "execution_count": 34,
   "metadata": {},
   "outputs": [
    {
     "data": {
      "text/plain": [
       "[1, 2, 3, 4, 5, 1]"
      ]
     },
     "execution_count": 34,
     "metadata": {},
     "output_type": "execute_result"
    }
   ],
   "source": [
    "list1.append(1)\n",
    "list1"
   ]
  },
  {
   "attachments": {},
   "cell_type": "markdown",
   "metadata": {},
   "source": [
    "append 명령을 이용하면 리스트의 마지막에 데이터를 하나 추가할 수 있다."
   ]
  },
  {
   "cell_type": "code",
   "execution_count": 35,
   "metadata": {},
   "outputs": [
    {
     "data": {
      "text/plain": [
       "[1, 2, 3, 4, 5]"
      ]
     },
     "execution_count": 35,
     "metadata": {},
     "output_type": "execute_result"
    }
   ],
   "source": [
    "list1.pop()\n",
    "list1"
   ]
  },
  {
   "attachments": {},
   "cell_type": "markdown",
   "metadata": {},
   "source": [
    "pop 명령은 리스트의 마지막 데이터를 삭제한다."
   ]
  },
  {
   "cell_type": "code",
   "execution_count": 36,
   "metadata": {},
   "outputs": [
    {
     "data": {
      "text/plain": [
       "['a', 'b', 1, 2, 3, 'aa', 'bb', 'cc']"
      ]
     },
     "execution_count": 36,
     "metadata": {},
     "output_type": "execute_result"
    }
   ],
   "source": [
    "list2.extend(['aa', 'bb', 'cc'])\n",
    "list2"
   ]
  },
  {
   "attachments": {},
   "cell_type": "markdown",
   "metadata": {},
   "source": [
    "extend 명령은 append와 달리 다수의 데이터르 리스트형 뒤에 넣을 수 있다."
   ]
  },
  {
   "cell_type": "code",
   "execution_count": 37,
   "metadata": {},
   "outputs": [
    {
     "data": {
      "text/plain": [
       "['b', 1, 2, 3, 'aa', 'bb', 'cc']"
      ]
     },
     "execution_count": 37,
     "metadata": {},
     "output_type": "execute_result"
    }
   ],
   "source": [
    "list2.remove('a')\n",
    "list2"
   ]
  },
  {
   "attachments": {},
   "cell_type": "markdown",
   "metadata": {},
   "source": [
    "remove 명령은 해당 이름의 데이터를 삭제한다."
   ]
  },
  {
   "cell_type": "code",
   "execution_count": 38,
   "metadata": {},
   "outputs": [
    {
     "data": {
      "text/plain": [
       "[2, 3, 4, 5]"
      ]
     },
     "execution_count": 38,
     "metadata": {},
     "output_type": "execute_result"
    }
   ],
   "source": [
    "list1.remove(1)\n",
    "list1"
   ]
  },
  {
   "attachments": {},
   "cell_type": "markdown",
   "metadata": {},
   "source": [
    "만약 같은 이름의 데이터가 있는 경우, remove는 모두 삭제한다."
   ]
  },
  {
   "attachments": {},
   "cell_type": "markdown",
   "metadata": {},
   "source": [
    "다음은 교보문고에서 집계한 2019년 3월 초 기준 IT/컴퓨터 부분 파이썬 관련 서적 최다 판매량 순위이다."
   ]
  },
  {
   "cell_type": "code",
   "execution_count": 39,
   "metadata": {},
   "outputs": [
    {
     "data": {
      "text/plain": [
       "['파이썬 머신러닝 완벽 가이드',\n",
       " '파이썬 철저 입문',\n",
       " '파이썬 코딩 도장',\n",
       " '파이썬 라이브러리를 활용한 머신러닝',\n",
       " '파이썬 프로그래밍']"
      ]
     },
     "execution_count": 39,
     "metadata": {},
     "output_type": "execute_result"
    }
   ],
   "source": [
    "py_book = ['파이썬 머신러닝 완벽 가이드', '파이썬 철저 입문', '파이썬 코딩 도장', '파이썬 라이브러리를 활용한 머신러닝', '파이썬 프로그래밍']\n",
    "py_book"
   ]
  },
  {
   "attachments": {},
   "cell_type": "markdown",
   "metadata": {},
   "source": [
    "이렇게 리스트형으로 책 이름을 입력할 수 있다. 여기에 '모두의 파이썬'이라는 책을 뒤에 추가하고 싶다면, 다음과 같이 하면 된다."
   ]
  },
  {
   "cell_type": "code",
   "execution_count": 40,
   "metadata": {},
   "outputs": [
    {
     "data": {
      "text/plain": [
       "['파이썬 머신러닝 완벽 가이드',\n",
       " '파이썬 철저 입문',\n",
       " '파이썬 코딩 도장',\n",
       " '파이썬 라이브러리를 활용한 머신러닝',\n",
       " '파이썬 프로그래밍',\n",
       " '모두의 파이썬']"
      ]
     },
     "execution_count": 40,
     "metadata": {},
     "output_type": "execute_result"
    }
   ],
   "source": [
    "py_book.append('모두의 파이썬')\n",
    "py_book"
   ]
  },
  {
   "attachments": {},
   "cell_type": "markdown",
   "metadata": {},
   "source": [
    "추가로 '파이썬으로 데이터 주무르기'를 추가하려면 다음과 같이 하면 된다."
   ]
  },
  {
   "cell_type": "code",
   "execution_count": 41,
   "metadata": {},
   "outputs": [
    {
     "data": {
      "text/plain": [
       "['파이썬 머신러닝 완벽 가이드',\n",
       " '파이썬 철저 입문',\n",
       " '파이썬 코딩 도장',\n",
       " '파이썬 라이브러리를 활용한 머신러닝',\n",
       " '파이썬 프로그래밍',\n",
       " '모두의 파이썬',\n",
       " '파이썬으로 데이터 주무르기']"
      ]
     },
     "execution_count": 41,
     "metadata": {},
     "output_type": "execute_result"
    }
   ],
   "source": [
    "py_book.append('파이썬으로 데이터 주무르기')\n",
    "py_book"
   ]
  },
  {
   "attachments": {},
   "cell_type": "markdown",
   "metadata": {},
   "source": [
    "여기서 각 책의 가격을 책 제목 옆에 넣는 것을 해보자.  \n",
    "먼저 첫 번째 책인 '파이썬 머신러닝 완벽 가이드'는 0번째 자리이다.  \n",
    "그 오른쪽 옆은 1번째 자리이다."
   ]
  },
  {
   "cell_type": "code",
   "execution_count": 42,
   "metadata": {},
   "outputs": [
    {
     "data": {
      "text/plain": [
       "['파이썬 머신러닝 완벽 가이드',\n",
       " 34200,\n",
       " '파이썬 철저 입문',\n",
       " '파이썬 코딩 도장',\n",
       " '파이썬 라이브러리를 활용한 머신러닝',\n",
       " '파이썬 프로그래밍',\n",
       " '모두의 파이썬',\n",
       " '파이썬으로 데이터 주무르기']"
      ]
     },
     "execution_count": 42,
     "metadata": {},
     "output_type": "execute_result"
    }
   ],
   "source": [
    "py_book.insert(1, 34200)\n",
    "py_book"
   ]
  },
  {
   "attachments": {},
   "cell_type": "markdown",
   "metadata": {},
   "source": [
    "이렇게 위치와 금액을 입력할 수 있다."
   ]
  },
  {
   "cell_type": "code",
   "execution_count": 43,
   "metadata": {},
   "outputs": [
    {
     "data": {
      "text/plain": [
       "['파이썬 머신러닝 완벽 가이드',\n",
       " 34200,\n",
       " '파이썬 철저 입문',\n",
       " 24300,\n",
       " '파이썬 코딩 도장',\n",
       " 22500,\n",
       " '파이썬 라이브러리를 활용한 머신러닝',\n",
       " 27000,\n",
       " '파이썬 프로그래밍',\n",
       " 25000,\n",
       " '모두의 파이썬',\n",
       " 10800,\n",
       " '파이썬으로 데이터 주무르기']"
      ]
     },
     "execution_count": 43,
     "metadata": {},
     "output_type": "execute_result"
    }
   ],
   "source": [
    "py_book.insert(3, 24300)\n",
    "py_book.insert(5, 22500)\n",
    "py_book.insert(7, 27000)\n",
    "py_book.insert(9, 25000)\n",
    "py_book.insert(11, 10800)\n",
    "py_book"
   ]
  },
  {
   "attachments": {},
   "cell_type": "markdown",
   "metadata": {},
   "source": [
    "이렇게 가격이 잘 insert 되었다. 마지막 '파이썬으로 데이터 주무르기' 의 가격은 맨 뒤에 추가(append)만 하면 된다."
   ]
  },
  {
   "cell_type": "code",
   "execution_count": 44,
   "metadata": {},
   "outputs": [
    {
     "data": {
      "text/plain": [
       "['파이썬 머신러닝 완벽 가이드',\n",
       " 34200,\n",
       " '파이썬 철저 입문',\n",
       " 24300,\n",
       " '파이썬 코딩 도장',\n",
       " 22500,\n",
       " '파이썬 라이브러리를 활용한 머신러닝',\n",
       " 27000,\n",
       " '파이썬 프로그래밍',\n",
       " 25000,\n",
       " '모두의 파이썬',\n",
       " 10800,\n",
       " '파이썬으로 데이터 주무르기',\n",
       " 24750]"
      ]
     },
     "execution_count": 44,
     "metadata": {},
     "output_type": "execute_result"
    }
   ],
   "source": [
    "py_book.append(24750)\n",
    "py_book"
   ]
  },
  {
   "attachments": {},
   "cell_type": "markdown",
   "metadata": {},
   "source": [
    "2장에서는 엑셀 데이터를 읽었다면, 3장에서는 데이터 과학에서 많이 사용하는 csv(comma-seperated values) 형태의 파일을 읽고/쓰는 연습을 해보도록 하자.  \n",
    "csv 파일은 데이터 필드 사이에 쉼표(comma)를 넣어서 구분하는 형태의 아주 간단한 파일이다.  \n",
    "먼저 몇 가지 데이터를 만들어서 시작하겠다."
   ]
  },
  {
   "cell_type": "code",
   "execution_count": 45,
   "metadata": {},
   "outputs": [
    {
     "data": {
      "text/html": [
       "<div>\n",
       "<style scoped>\n",
       "    .dataframe tbody tr th:only-of-type {\n",
       "        vertical-align: middle;\n",
       "    }\n",
       "\n",
       "    .dataframe tbody tr th {\n",
       "        vertical-align: top;\n",
       "    }\n",
       "\n",
       "    .dataframe thead th {\n",
       "        text-align: right;\n",
       "    }\n",
       "</style>\n",
       "<table border=\"1\" class=\"dataframe\">\n",
       "  <thead>\n",
       "    <tr style=\"text-align: right;\">\n",
       "      <th></th>\n",
       "      <th>날짜</th>\n",
       "      <th>운동</th>\n",
       "      <th>양</th>\n",
       "    </tr>\n",
       "  </thead>\n",
       "  <tbody>\n",
       "  </tbody>\n",
       "</table>\n",
       "</div>"
      ],
      "text/plain": [
       "Empty DataFrame\n",
       "Columns: [날짜, 운동, 양]\n",
       "Index: []"
      ]
     },
     "execution_count": 45,
     "metadata": {},
     "output_type": "execute_result"
    }
   ],
   "source": [
    "import pandas as pd\n",
    "\n",
    "practice = pd.DataFrame({'날짜' : [], '운동' : [], '양' : []})\n",
    "practice"
   ]
  },
  {
   "attachments": {},
   "cell_type": "markdown",
   "metadata": {},
   "source": [
    "먼저 하루하루 운동량을 저장하기 위해 빈 DataFrame을 하나 만들자.  \n",
    "이렇게 한 후에 DataFrame도 리스트형처럼 같은 DataFrame이라면 append가 가능하지만, 우리는 loc 옵션으로 하나씩 추가하는 방법을 선택하겠다."
   ]
  },
  {
   "cell_type": "code",
   "execution_count": 46,
   "metadata": {},
   "outputs": [
    {
     "data": {
      "text/html": [
       "<div>\n",
       "<style scoped>\n",
       "    .dataframe tbody tr th:only-of-type {\n",
       "        vertical-align: middle;\n",
       "    }\n",
       "\n",
       "    .dataframe tbody tr th {\n",
       "        vertical-align: top;\n",
       "    }\n",
       "\n",
       "    .dataframe thead th {\n",
       "        text-align: right;\n",
       "    }\n",
       "</style>\n",
       "<table border=\"1\" class=\"dataframe\">\n",
       "  <thead>\n",
       "    <tr style=\"text-align: right;\">\n",
       "      <th></th>\n",
       "      <th>날짜</th>\n",
       "      <th>운동</th>\n",
       "      <th>양</th>\n",
       "    </tr>\n",
       "  </thead>\n",
       "  <tbody>\n",
       "    <tr>\n",
       "      <th>0</th>\n",
       "      <td>19-3-1</td>\n",
       "      <td>달리기</td>\n",
       "      <td>1.0</td>\n",
       "    </tr>\n",
       "  </tbody>\n",
       "</table>\n",
       "</div>"
      ],
      "text/plain": [
       "       날짜   운동    양\n",
       "0  19-3-1  달리기  1.0"
      ]
     },
     "execution_count": 46,
     "metadata": {},
     "output_type": "execute_result"
    }
   ],
   "source": [
    "practice.loc[0] = ['19-3-1', '달리기', 1.]\n",
    "practice"
   ]
  },
  {
   "attachments": {},
   "cell_type": "markdown",
   "metadata": {},
   "source": [
    "이 코드의 가정은 하루하루 운동한 양을 위 코드처럼 입력한다는 것이다."
   ]
  },
  {
   "cell_type": "code",
   "execution_count": 47,
   "metadata": {},
   "outputs": [
    {
     "data": {
      "text/html": [
       "<div>\n",
       "<style scoped>\n",
       "    .dataframe tbody tr th:only-of-type {\n",
       "        vertical-align: middle;\n",
       "    }\n",
       "\n",
       "    .dataframe tbody tr th {\n",
       "        vertical-align: top;\n",
       "    }\n",
       "\n",
       "    .dataframe thead th {\n",
       "        text-align: right;\n",
       "    }\n",
       "</style>\n",
       "<table border=\"1\" class=\"dataframe\">\n",
       "  <thead>\n",
       "    <tr style=\"text-align: right;\">\n",
       "      <th></th>\n",
       "      <th>날짜</th>\n",
       "      <th>운동</th>\n",
       "      <th>양</th>\n",
       "    </tr>\n",
       "  </thead>\n",
       "  <tbody>\n",
       "    <tr>\n",
       "      <th>0</th>\n",
       "      <td>19-3-1</td>\n",
       "      <td>달리기</td>\n",
       "      <td>1.0</td>\n",
       "    </tr>\n",
       "    <tr>\n",
       "      <th>1</th>\n",
       "      <td>19-3-2</td>\n",
       "      <td>걷기</td>\n",
       "      <td>1.0</td>\n",
       "    </tr>\n",
       "    <tr>\n",
       "      <th>2</th>\n",
       "      <td>19-3-2</td>\n",
       "      <td>달리기</td>\n",
       "      <td>1.0</td>\n",
       "    </tr>\n",
       "    <tr>\n",
       "      <th>3</th>\n",
       "      <td>19-3-2</td>\n",
       "      <td>계단오르기</td>\n",
       "      <td>1.0</td>\n",
       "    </tr>\n",
       "  </tbody>\n",
       "</table>\n",
       "</div>"
      ],
      "text/plain": [
       "       날짜     운동    양\n",
       "0  19-3-1    달리기  1.0\n",
       "1  19-3-2     걷기  1.0\n",
       "2  19-3-2    달리기  1.0\n",
       "3  19-3-2  계단오르기  1.0"
      ]
     },
     "execution_count": 47,
     "metadata": {},
     "output_type": "execute_result"
    }
   ],
   "source": [
    "practice.loc[1] = ['19-3-2', '걷기', 1.]\n",
    "practice.loc[2] = ['19-3-2', '달리기', 1.]\n",
    "practice.loc[3] = ['19-3-2', '계단오르기', 1.]\n",
    "practice"
   ]
  },
  {
   "attachments": {},
   "cell_type": "markdown",
   "metadata": {},
   "source": [
    "3월 2일에는 걷기와 달리기 계단 오르기를 모두 1시간씩 했다는 의미이다."
   ]
  },
  {
   "cell_type": "code",
   "execution_count": 48,
   "metadata": {},
   "outputs": [
    {
     "data": {
      "text/html": [
       "<div>\n",
       "<style scoped>\n",
       "    .dataframe tbody tr th:only-of-type {\n",
       "        vertical-align: middle;\n",
       "    }\n",
       "\n",
       "    .dataframe tbody tr th {\n",
       "        vertical-align: top;\n",
       "    }\n",
       "\n",
       "    .dataframe thead th {\n",
       "        text-align: right;\n",
       "    }\n",
       "</style>\n",
       "<table border=\"1\" class=\"dataframe\">\n",
       "  <thead>\n",
       "    <tr style=\"text-align: right;\">\n",
       "      <th></th>\n",
       "      <th>날짜</th>\n",
       "      <th>운동</th>\n",
       "      <th>양</th>\n",
       "    </tr>\n",
       "  </thead>\n",
       "  <tbody>\n",
       "    <tr>\n",
       "      <th>0</th>\n",
       "      <td>19-3-1</td>\n",
       "      <td>달리기</td>\n",
       "      <td>1.0</td>\n",
       "    </tr>\n",
       "    <tr>\n",
       "      <th>1</th>\n",
       "      <td>19-3-2</td>\n",
       "      <td>걷기</td>\n",
       "      <td>1.0</td>\n",
       "    </tr>\n",
       "    <tr>\n",
       "      <th>2</th>\n",
       "      <td>19-3-2</td>\n",
       "      <td>달리기</td>\n",
       "      <td>1.0</td>\n",
       "    </tr>\n",
       "    <tr>\n",
       "      <th>3</th>\n",
       "      <td>19-3-2</td>\n",
       "      <td>계단오르기</td>\n",
       "      <td>1.0</td>\n",
       "    </tr>\n",
       "    <tr>\n",
       "      <th>4</th>\n",
       "      <td>19-3-3</td>\n",
       "      <td>걷기</td>\n",
       "      <td>1.5</td>\n",
       "    </tr>\n",
       "    <tr>\n",
       "      <th>5</th>\n",
       "      <td>19-3-3</td>\n",
       "      <td>달리기</td>\n",
       "      <td>1.0</td>\n",
       "    </tr>\n",
       "  </tbody>\n",
       "</table>\n",
       "</div>"
      ],
      "text/plain": [
       "       날짜     운동    양\n",
       "0  19-3-1    달리기  1.0\n",
       "1  19-3-2     걷기  1.0\n",
       "2  19-3-2    달리기  1.0\n",
       "3  19-3-2  계단오르기  1.0\n",
       "4  19-3-3     걷기  1.5\n",
       "5  19-3-3    달리기  1.0"
      ]
     },
     "execution_count": 48,
     "metadata": {},
     "output_type": "execute_result"
    }
   ],
   "source": [
    "practice.loc[4] = ['19-3-3', '걷기', 1.5]\n",
    "practice.loc[5] = ['19-3-3', '달리기', 1.]\n",
    "practice"
   ]
  },
  {
   "attachments": {},
   "cell_type": "markdown",
   "metadata": {},
   "source": [
    "이제 이렇게 입력만 하면 되는 것이 아니라 이 데이터를 저장할 수도 있어야 한다."
   ]
  },
  {
   "cell_type": "code",
   "execution_count": 49,
   "metadata": {},
   "outputs": [],
   "source": [
    "practice.to_csv(\"./data/practice.csv\", encoding='utf-8')"
   ]
  },
  {
   "attachments": {},
   "cell_type": "markdown",
   "metadata": {},
   "source": [
    "위 명령에 있듯이 DataFram 변수(practice)에서 csv로 저장하는 명령이 바로 to_csv 명령이다. 이 명령을 통해 저장된 파일은 위 코드에 있듯이 data폴더 아래 practice.csv라는 파일 이름으로 저장된다.  \n",
    "만약 경로나 파일이 없다는 에러를 만나면, data 폴더의 위치가 잘못되었다는 것이므로 './practice.csv'로 경로를 지정해도 된다.  \n",
    "경로를 지정하면 읽을 때도 그 경로로 읽어야 한다.  \n",
    "이제 2장에서 다루었던 데이터와 함께 practice.csv 파일도 저장된 것을 확인할 수 있다.  \n",
    "  \n",
    "그런데 저장된 파일을 엑셀로 열어보면 이상하게 보인다.  \n",
    "그 이유는 위 코드에서 <b>encoding='utf-8'</b>이라는 옵션을 사용했기 때문이다.  \n",
    "utf-8은 현재 웹에서 가장 많이 쓰이는 인코딩 방식이다.  \n",
    "그런데 ms사의 오피스 프로그램들은 utf-8을 지원하지 않는다.  \n",
    "  \n",
    "그렇다고 데이터가 잘못된 것은 아니다.  \n",
    "utf-8이 지원되는 다른 프로그램에서는 잘 열린다.  \n",
    "우리는 이 파일을 엑셀에서 열지 않을 것이므로 걱정하지 않아도 된다.  \n",
    "  \n",
    "이제 저장된 파일을 다시 읽는 경우를 생각해야 한다.  \n",
    "가장 편하게 읽어보자."
   ]
  },
  {
   "cell_type": "code",
   "execution_count": 50,
   "metadata": {},
   "outputs": [
    {
     "data": {
      "text/html": [
       "<div>\n",
       "<style scoped>\n",
       "    .dataframe tbody tr th:only-of-type {\n",
       "        vertical-align: middle;\n",
       "    }\n",
       "\n",
       "    .dataframe tbody tr th {\n",
       "        vertical-align: top;\n",
       "    }\n",
       "\n",
       "    .dataframe thead th {\n",
       "        text-align: right;\n",
       "    }\n",
       "</style>\n",
       "<table border=\"1\" class=\"dataframe\">\n",
       "  <thead>\n",
       "    <tr style=\"text-align: right;\">\n",
       "      <th></th>\n",
       "      <th>Unnamed: 0</th>\n",
       "      <th>날짜</th>\n",
       "      <th>운동</th>\n",
       "      <th>양</th>\n",
       "    </tr>\n",
       "  </thead>\n",
       "  <tbody>\n",
       "    <tr>\n",
       "      <th>0</th>\n",
       "      <td>0</td>\n",
       "      <td>19-3-1</td>\n",
       "      <td>달리기</td>\n",
       "      <td>1.0</td>\n",
       "    </tr>\n",
       "    <tr>\n",
       "      <th>1</th>\n",
       "      <td>1</td>\n",
       "      <td>19-3-2</td>\n",
       "      <td>걷기</td>\n",
       "      <td>1.0</td>\n",
       "    </tr>\n",
       "    <tr>\n",
       "      <th>2</th>\n",
       "      <td>2</td>\n",
       "      <td>19-3-2</td>\n",
       "      <td>달리기</td>\n",
       "      <td>1.0</td>\n",
       "    </tr>\n",
       "    <tr>\n",
       "      <th>3</th>\n",
       "      <td>3</td>\n",
       "      <td>19-3-2</td>\n",
       "      <td>계단오르기</td>\n",
       "      <td>1.0</td>\n",
       "    </tr>\n",
       "    <tr>\n",
       "      <th>4</th>\n",
       "      <td>4</td>\n",
       "      <td>19-3-3</td>\n",
       "      <td>걷기</td>\n",
       "      <td>1.5</td>\n",
       "    </tr>\n",
       "    <tr>\n",
       "      <th>5</th>\n",
       "      <td>5</td>\n",
       "      <td>19-3-3</td>\n",
       "      <td>달리기</td>\n",
       "      <td>1.0</td>\n",
       "    </tr>\n",
       "  </tbody>\n",
       "</table>\n",
       "</div>"
      ],
      "text/plain": [
       "   Unnamed: 0      날짜     운동    양\n",
       "0           0  19-3-1    달리기  1.0\n",
       "1           1  19-3-2     걷기  1.0\n",
       "2           2  19-3-2    달리기  1.0\n",
       "3           3  19-3-2  계단오르기  1.0\n",
       "4           4  19-3-3     걷기  1.5\n",
       "5           5  19-3-3    달리기  1.0"
      ]
     },
     "execution_count": 50,
     "metadata": {},
     "output_type": "execute_result"
    }
   ],
   "source": [
    "pd.read_csv(\"./data/practice.csv\", encoding='utf-8')"
   ]
  },
  {
   "attachments": {},
   "cell_type": "markdown",
   "metadata": {},
   "source": [
    "잘 읽은 것 같지만, 저장할 때와 달리 데이터가 하나 더 있다.  \n",
    "그것은 인덱스의 번호가 저장되었는데, 그것을 읽을 때는 인덱스 번호인지 중요한 다른 데이터인지를 몰라서 위의 결과처럼 읽게 된 것이다."
   ]
  },
  {
   "cell_type": "code",
   "execution_count": 51,
   "metadata": {},
   "outputs": [
    {
     "data": {
      "text/html": [
       "<div>\n",
       "<style scoped>\n",
       "    .dataframe tbody tr th:only-of-type {\n",
       "        vertical-align: middle;\n",
       "    }\n",
       "\n",
       "    .dataframe tbody tr th {\n",
       "        vertical-align: top;\n",
       "    }\n",
       "\n",
       "    .dataframe thead th {\n",
       "        text-align: right;\n",
       "    }\n",
       "</style>\n",
       "<table border=\"1\" class=\"dataframe\">\n",
       "  <thead>\n",
       "    <tr style=\"text-align: right;\">\n",
       "      <th></th>\n",
       "      <th>날짜</th>\n",
       "      <th>운동</th>\n",
       "      <th>양</th>\n",
       "    </tr>\n",
       "  </thead>\n",
       "  <tbody>\n",
       "    <tr>\n",
       "      <th>0</th>\n",
       "      <td>19-3-1</td>\n",
       "      <td>달리기</td>\n",
       "      <td>1.0</td>\n",
       "    </tr>\n",
       "    <tr>\n",
       "      <th>1</th>\n",
       "      <td>19-3-2</td>\n",
       "      <td>걷기</td>\n",
       "      <td>1.0</td>\n",
       "    </tr>\n",
       "    <tr>\n",
       "      <th>2</th>\n",
       "      <td>19-3-2</td>\n",
       "      <td>달리기</td>\n",
       "      <td>1.0</td>\n",
       "    </tr>\n",
       "    <tr>\n",
       "      <th>3</th>\n",
       "      <td>19-3-2</td>\n",
       "      <td>계단오르기</td>\n",
       "      <td>1.0</td>\n",
       "    </tr>\n",
       "    <tr>\n",
       "      <th>4</th>\n",
       "      <td>19-3-3</td>\n",
       "      <td>걷기</td>\n",
       "      <td>1.5</td>\n",
       "    </tr>\n",
       "    <tr>\n",
       "      <th>5</th>\n",
       "      <td>19-3-3</td>\n",
       "      <td>달리기</td>\n",
       "      <td>1.0</td>\n",
       "    </tr>\n",
       "  </tbody>\n",
       "</table>\n",
       "</div>"
      ],
      "text/plain": [
       "       날짜     운동    양\n",
       "0  19-3-1    달리기  1.0\n",
       "1  19-3-2     걷기  1.0\n",
       "2  19-3-2    달리기  1.0\n",
       "3  19-3-2  계단오르기  1.0\n",
       "4  19-3-3     걷기  1.5\n",
       "5  19-3-3    달리기  1.0"
      ]
     },
     "execution_count": 51,
     "metadata": {},
     "output_type": "execute_result"
    }
   ],
   "source": [
    "pd.read_csv(\"./data/practice.csv\", index_col=0, encoding='utf-8')"
   ]
  },
  {
   "attachments": {},
   "cell_type": "markdown",
   "metadata": {},
   "source": [
    "그럴 때는 index_col이라는 옵션에서 인덱스 번호를 지정해 주면 된다.  \n",
    "하루하루 이렇게 코드를 반복해서 데이터를 쌓았다고 보겠다."
   ]
  },
  {
   "cell_type": "code",
   "execution_count": 52,
   "metadata": {},
   "outputs": [
    {
     "data": {
      "text/html": [
       "<div>\n",
       "<style scoped>\n",
       "    .dataframe tbody tr th:only-of-type {\n",
       "        vertical-align: middle;\n",
       "    }\n",
       "\n",
       "    .dataframe tbody tr th {\n",
       "        vertical-align: top;\n",
       "    }\n",
       "\n",
       "    .dataframe thead th {\n",
       "        text-align: right;\n",
       "    }\n",
       "</style>\n",
       "<table border=\"1\" class=\"dataframe\">\n",
       "  <thead>\n",
       "    <tr style=\"text-align: right;\">\n",
       "      <th></th>\n",
       "      <th>날짜</th>\n",
       "      <th>운동</th>\n",
       "      <th>양</th>\n",
       "    </tr>\n",
       "  </thead>\n",
       "  <tbody>\n",
       "    <tr>\n",
       "      <th>0</th>\n",
       "      <td>19-3-1</td>\n",
       "      <td>달리기</td>\n",
       "      <td>1.0</td>\n",
       "    </tr>\n",
       "    <tr>\n",
       "      <th>1</th>\n",
       "      <td>19-3-2</td>\n",
       "      <td>걷기</td>\n",
       "      <td>1.0</td>\n",
       "    </tr>\n",
       "    <tr>\n",
       "      <th>2</th>\n",
       "      <td>19-3-2</td>\n",
       "      <td>달리기</td>\n",
       "      <td>1.0</td>\n",
       "    </tr>\n",
       "    <tr>\n",
       "      <th>3</th>\n",
       "      <td>19-3-2</td>\n",
       "      <td>계단오르기</td>\n",
       "      <td>1.0</td>\n",
       "    </tr>\n",
       "    <tr>\n",
       "      <th>4</th>\n",
       "      <td>19-3-3</td>\n",
       "      <td>걷기</td>\n",
       "      <td>1.5</td>\n",
       "    </tr>\n",
       "    <tr>\n",
       "      <th>5</th>\n",
       "      <td>19-3-3</td>\n",
       "      <td>달리기</td>\n",
       "      <td>1.0</td>\n",
       "    </tr>\n",
       "  </tbody>\n",
       "</table>\n",
       "</div>"
      ],
      "text/plain": [
       "       날짜     운동    양\n",
       "0  19-3-1    달리기  1.0\n",
       "1  19-3-2     걷기  1.0\n",
       "2  19-3-2    달리기  1.0\n",
       "3  19-3-2  계단오르기  1.0\n",
       "4  19-3-3     걷기  1.5\n",
       "5  19-3-3    달리기  1.0"
      ]
     },
     "execution_count": 52,
     "metadata": {},
     "output_type": "execute_result"
    }
   ],
   "source": [
    "practice = pd.read_csv(\"./data/practice.csv\", index_col=0, encoding='utf-8')\n",
    "practice"
   ]
  },
  {
   "cell_type": "code",
   "execution_count": 53,
   "metadata": {},
   "outputs": [
    {
     "data": {
      "text/html": [
       "<div>\n",
       "<style scoped>\n",
       "    .dataframe tbody tr th:only-of-type {\n",
       "        vertical-align: middle;\n",
       "    }\n",
       "\n",
       "    .dataframe tbody tr th {\n",
       "        vertical-align: top;\n",
       "    }\n",
       "\n",
       "    .dataframe thead th {\n",
       "        text-align: right;\n",
       "    }\n",
       "</style>\n",
       "<table border=\"1\" class=\"dataframe\">\n",
       "  <thead>\n",
       "    <tr style=\"text-align: right;\">\n",
       "      <th></th>\n",
       "      <th>날짜</th>\n",
       "      <th>운동</th>\n",
       "      <th>양</th>\n",
       "    </tr>\n",
       "  </thead>\n",
       "  <tbody>\n",
       "    <tr>\n",
       "      <th>0</th>\n",
       "      <td>19-3-1</td>\n",
       "      <td>달리기</td>\n",
       "      <td>1.0</td>\n",
       "    </tr>\n",
       "    <tr>\n",
       "      <th>1</th>\n",
       "      <td>19-3-2</td>\n",
       "      <td>걷기</td>\n",
       "      <td>1.0</td>\n",
       "    </tr>\n",
       "    <tr>\n",
       "      <th>2</th>\n",
       "      <td>19-3-2</td>\n",
       "      <td>달리기</td>\n",
       "      <td>1.0</td>\n",
       "    </tr>\n",
       "    <tr>\n",
       "      <th>3</th>\n",
       "      <td>19-3-2</td>\n",
       "      <td>계단오르기</td>\n",
       "      <td>1.0</td>\n",
       "    </tr>\n",
       "    <tr>\n",
       "      <th>4</th>\n",
       "      <td>19-3-3</td>\n",
       "      <td>걷기</td>\n",
       "      <td>1.5</td>\n",
       "    </tr>\n",
       "    <tr>\n",
       "      <th>5</th>\n",
       "      <td>19-3-3</td>\n",
       "      <td>달리기</td>\n",
       "      <td>1.0</td>\n",
       "    </tr>\n",
       "    <tr>\n",
       "      <th>6</th>\n",
       "      <td>19-3-4</td>\n",
       "      <td>걷기</td>\n",
       "      <td>1.5</td>\n",
       "    </tr>\n",
       "    <tr>\n",
       "      <th>7</th>\n",
       "      <td>19-3-5</td>\n",
       "      <td>달리기</td>\n",
       "      <td>1.0</td>\n",
       "    </tr>\n",
       "    <tr>\n",
       "      <th>8</th>\n",
       "      <td>19-3-6</td>\n",
       "      <td>걷기</td>\n",
       "      <td>2.5</td>\n",
       "    </tr>\n",
       "    <tr>\n",
       "      <th>9</th>\n",
       "      <td>19-3-6</td>\n",
       "      <td>달리기</td>\n",
       "      <td>0.5</td>\n",
       "    </tr>\n",
       "  </tbody>\n",
       "</table>\n",
       "</div>"
      ],
      "text/plain": [
       "       날짜     운동    양\n",
       "0  19-3-1    달리기  1.0\n",
       "1  19-3-2     걷기  1.0\n",
       "2  19-3-2    달리기  1.0\n",
       "3  19-3-2  계단오르기  1.0\n",
       "4  19-3-3     걷기  1.5\n",
       "5  19-3-3    달리기  1.0\n",
       "6  19-3-4     걷기  1.5\n",
       "7  19-3-5    달리기  1.0\n",
       "8  19-3-6     걷기  2.5\n",
       "9  19-3-6    달리기  0.5"
      ]
     },
     "execution_count": 53,
     "metadata": {},
     "output_type": "execute_result"
    }
   ],
   "source": [
    "practice.loc[6] = ['19-3-4', '걷기', 1.5]\n",
    "practice.loc[7] = ['19-3-5', '달리기', 1. ]\n",
    "practice.loc[8] = ['19-3-6', '걷기', 2.5]\n",
    "practice.loc[9] = ['19-3-6', '달리기', 0.5]\n",
    "practice"
   ]
  },
  {
   "attachments": {},
   "cell_type": "markdown",
   "metadata": {},
   "source": [
    "이렇게 데이터를 모아두면 아마 데이터가 많아질 것이다.  \n",
    "이제 이 데이터를 어떻게 사용할지를 고민해야 할 것이다.  \n",
    "  \n",
    "위의 결과를 가지고 다음 물음에 답할 수 있을까?  \n",
    " - 달리기를 몇 회 했는가?\n",
    " - 달리기/걷기/계단 오르기를 각각 얼마씩 했는가?\n",
    " - 날짜별/운동별로 데이터를 한눈에 보기 좋게 만들어 줄 순 없나?  \n",
    "  \n",
    "물론 이런 질문에는 그림 3-5 정도 크기의 데이터라면 손으로 일일이 정리하면 된다.  \n",
    "우리는 배우는 단계라 이 정도 양으로 연습하는 것이지만, 데이터가 많다면 프로그램이라는 것이 동원되어야 할 것이다."
   ]
  },
  {
   "cell_type": "code",
   "execution_count": 54,
   "metadata": {},
   "outputs": [
    {
     "data": {
      "text/html": [
       "<div>\n",
       "<style scoped>\n",
       "    .dataframe tbody tr th:only-of-type {\n",
       "        vertical-align: middle;\n",
       "    }\n",
       "\n",
       "    .dataframe tbody tr th {\n",
       "        vertical-align: top;\n",
       "    }\n",
       "\n",
       "    .dataframe thead th {\n",
       "        text-align: right;\n",
       "    }\n",
       "</style>\n",
       "<table border=\"1\" class=\"dataframe\">\n",
       "  <thead>\n",
       "    <tr style=\"text-align: right;\">\n",
       "      <th></th>\n",
       "      <th>양</th>\n",
       "    </tr>\n",
       "    <tr>\n",
       "      <th>운동</th>\n",
       "      <th></th>\n",
       "    </tr>\n",
       "  </thead>\n",
       "  <tbody>\n",
       "    <tr>\n",
       "      <th>걷기</th>\n",
       "      <td>1.625</td>\n",
       "    </tr>\n",
       "    <tr>\n",
       "      <th>계단오르기</th>\n",
       "      <td>1.000</td>\n",
       "    </tr>\n",
       "    <tr>\n",
       "      <th>달리기</th>\n",
       "      <td>0.900</td>\n",
       "    </tr>\n",
       "  </tbody>\n",
       "</table>\n",
       "</div>"
      ],
      "text/plain": [
       "           양\n",
       "운동          \n",
       "걷기     1.625\n",
       "계단오르기  1.000\n",
       "달리기    0.900"
      ]
     },
     "execution_count": 54,
     "metadata": {},
     "output_type": "execute_result"
    }
   ],
   "source": [
    "practice.pivot_table(index='운동')"
   ]
  },
  {
   "attachments": {},
   "cell_type": "markdown",
   "metadata": {},
   "source": [
    "혹시 놀랐는가? 이것은 pivot_table이라는 명령이다.  \n",
    "데이터를 순식간에 잘 정리해준다. 이 기능은 스프레드시트 프로그램들도 대부분 가진 기능이다.  \n",
    "그림 3-5에서 피벗 테이블을 '운동'이라는 칼럼에 적용한 결과가 위 코드이다.  \n",
    "데이터가 저장된 기간 동안 평균적으로 걷기 1.625시간, 계단오르기 1시간, 달리기 0.9시간 운동한 것으로 다시 표현되었다."
   ]
  },
  {
   "cell_type": "code",
   "execution_count": 55,
   "metadata": {},
   "outputs": [
    {
     "data": {
      "text/html": [
       "<div>\n",
       "<style scoped>\n",
       "    .dataframe tbody tr th:only-of-type {\n",
       "        vertical-align: middle;\n",
       "    }\n",
       "\n",
       "    .dataframe tbody tr th {\n",
       "        vertical-align: top;\n",
       "    }\n",
       "\n",
       "    .dataframe thead th {\n",
       "        text-align: right;\n",
       "    }\n",
       "</style>\n",
       "<table border=\"1\" class=\"dataframe\">\n",
       "  <thead>\n",
       "    <tr style=\"text-align: right;\">\n",
       "      <th></th>\n",
       "      <th>양</th>\n",
       "    </tr>\n",
       "    <tr>\n",
       "      <th>운동</th>\n",
       "      <th></th>\n",
       "    </tr>\n",
       "  </thead>\n",
       "  <tbody>\n",
       "    <tr>\n",
       "      <th>걷기</th>\n",
       "      <td>6.5</td>\n",
       "    </tr>\n",
       "    <tr>\n",
       "      <th>계단오르기</th>\n",
       "      <td>1.0</td>\n",
       "    </tr>\n",
       "    <tr>\n",
       "      <th>달리기</th>\n",
       "      <td>4.5</td>\n",
       "    </tr>\n",
       "  </tbody>\n",
       "</table>\n",
       "</div>"
      ],
      "text/plain": [
       "         양\n",
       "운동        \n",
       "걷기     6.5\n",
       "계단오르기  1.0\n",
       "달리기    4.5"
      ]
     },
     "execution_count": 55,
     "metadata": {},
     "output_type": "execute_result"
    }
   ],
   "source": [
    "import numpy as np\n",
    "practice.pivot_table(index=\"운동\", aggfunc=np.sum)"
   ]
  },
  {
   "attachments": {},
   "cell_type": "markdown",
   "metadata": {},
   "source": [
    "numpy라는 모듈은 처음 나온 것이 아니다. 여기에서는 numpy의 sum 함수를 사용하려고 import했다.  \n",
    "pivot_table의 옵션에는 aggfunc이 있다. 이 옵션은 데이터를 정리할 때, 어떤 함수를 적용할지 결정할 수 있다.  \n",
    "```\n",
    "# 24\n",
    "practice.pivot_table(index='운동')\n",
    "```\n",
    "위 코드처럼 적용하지 않으면 기본 값은 평균이다.  \n",
    "```\n",
    "#25\n",
    "import numpy as np\n",
    "practice.pivot_table(index=\"운동\", aggfunc=np.sum)\n",
    "```\n",
    "위 코드에서는 합계로 적용해 달라고 했다.\n",
    "위의 두 코드를 보면서 이상함을 느낀 곳이 있는가? 계단 오르기 항목이 조금 이상하다.  \n",
    "평균도 1, 합계도 1, 날짜는 6일간이다. 눈치챘는지는 몰라도 코드 24에서 평균을 잡을때는 입력된 항목 기준이다.   \n",
    "하루만 입력이 되어서 하나에 대한 평균값만 잡은 것이다."
   ]
  },
  {
   "cell_type": "code",
   "execution_count": 56,
   "metadata": {},
   "outputs": [
    {
     "data": {
      "text/html": [
       "<div>\n",
       "<style scoped>\n",
       "    .dataframe tbody tr th:only-of-type {\n",
       "        vertical-align: middle;\n",
       "    }\n",
       "\n",
       "    .dataframe tbody tr th {\n",
       "        vertical-align: top;\n",
       "    }\n",
       "\n",
       "    .dataframe thead tr th {\n",
       "        text-align: left;\n",
       "    }\n",
       "\n",
       "    .dataframe thead tr:last-of-type th {\n",
       "        text-align: right;\n",
       "    }\n",
       "</style>\n",
       "<table border=\"1\" class=\"dataframe\">\n",
       "  <thead>\n",
       "    <tr>\n",
       "      <th></th>\n",
       "      <th>sum</th>\n",
       "      <th colspan=\"2\" halign=\"left\">len</th>\n",
       "    </tr>\n",
       "    <tr>\n",
       "      <th></th>\n",
       "      <th>양</th>\n",
       "      <th>날짜</th>\n",
       "      <th>양</th>\n",
       "    </tr>\n",
       "    <tr>\n",
       "      <th>운동</th>\n",
       "      <th></th>\n",
       "      <th></th>\n",
       "      <th></th>\n",
       "    </tr>\n",
       "  </thead>\n",
       "  <tbody>\n",
       "    <tr>\n",
       "      <th>걷기</th>\n",
       "      <td>6.5</td>\n",
       "      <td>4</td>\n",
       "      <td>4.0</td>\n",
       "    </tr>\n",
       "    <tr>\n",
       "      <th>계단오르기</th>\n",
       "      <td>1.0</td>\n",
       "      <td>1</td>\n",
       "      <td>1.0</td>\n",
       "    </tr>\n",
       "    <tr>\n",
       "      <th>달리기</th>\n",
       "      <td>4.5</td>\n",
       "      <td>5</td>\n",
       "      <td>5.0</td>\n",
       "    </tr>\n",
       "  </tbody>\n",
       "</table>\n",
       "</div>"
      ],
      "text/plain": [
       "       sum len     \n",
       "         양  날짜    양\n",
       "운동                 \n",
       "걷기     6.5   4  4.0\n",
       "계단오르기  1.0   1  1.0\n",
       "달리기    4.5   5  5.0"
      ]
     },
     "execution_count": 56,
     "metadata": {},
     "output_type": "execute_result"
    }
   ],
   "source": [
    "practice.pivot_table(index=\"운동\", aggfunc=[np.sum, len])"
   ]
  },
  {
   "attachments": {},
   "cell_type": "markdown",
   "metadata": {},
   "source": [
    "aggfunc 옵션에 np.sum과 크기(또는 개수)를 의미하는 len 함수를 리스트형으로 두면 위 코드와 같이 전체 양과 운동을 한 날짜와 양이 나타난다."
   ]
  },
  {
   "cell_type": "code",
   "execution_count": 57,
   "metadata": {},
   "outputs": [
    {
     "data": {
      "text/html": [
       "<div>\n",
       "<style scoped>\n",
       "    .dataframe tbody tr th:only-of-type {\n",
       "        vertical-align: middle;\n",
       "    }\n",
       "\n",
       "    .dataframe tbody tr th {\n",
       "        vertical-align: top;\n",
       "    }\n",
       "\n",
       "    .dataframe thead th {\n",
       "        text-align: right;\n",
       "    }\n",
       "</style>\n",
       "<table border=\"1\" class=\"dataframe\">\n",
       "  <thead>\n",
       "    <tr style=\"text-align: right;\">\n",
       "      <th>운동</th>\n",
       "      <th>걷기</th>\n",
       "      <th>계단오르기</th>\n",
       "      <th>달리기</th>\n",
       "    </tr>\n",
       "    <tr>\n",
       "      <th>날짜</th>\n",
       "      <th></th>\n",
       "      <th></th>\n",
       "      <th></th>\n",
       "    </tr>\n",
       "  </thead>\n",
       "  <tbody>\n",
       "    <tr>\n",
       "      <th>19-3-1</th>\n",
       "      <td>NaN</td>\n",
       "      <td>NaN</td>\n",
       "      <td>1.0</td>\n",
       "    </tr>\n",
       "    <tr>\n",
       "      <th>19-3-2</th>\n",
       "      <td>1.0</td>\n",
       "      <td>1.0</td>\n",
       "      <td>1.0</td>\n",
       "    </tr>\n",
       "    <tr>\n",
       "      <th>19-3-3</th>\n",
       "      <td>1.5</td>\n",
       "      <td>NaN</td>\n",
       "      <td>1.0</td>\n",
       "    </tr>\n",
       "    <tr>\n",
       "      <th>19-3-4</th>\n",
       "      <td>1.5</td>\n",
       "      <td>NaN</td>\n",
       "      <td>NaN</td>\n",
       "    </tr>\n",
       "    <tr>\n",
       "      <th>19-3-5</th>\n",
       "      <td>NaN</td>\n",
       "      <td>NaN</td>\n",
       "      <td>1.0</td>\n",
       "    </tr>\n",
       "    <tr>\n",
       "      <th>19-3-6</th>\n",
       "      <td>2.5</td>\n",
       "      <td>NaN</td>\n",
       "      <td>0.5</td>\n",
       "    </tr>\n",
       "  </tbody>\n",
       "</table>\n",
       "</div>"
      ],
      "text/plain": [
       "운동       걷기  계단오르기  달리기\n",
       "날짜                     \n",
       "19-3-1  NaN    NaN  1.0\n",
       "19-3-2  1.0    1.0  1.0\n",
       "19-3-3  1.5    NaN  1.0\n",
       "19-3-4  1.5    NaN  NaN\n",
       "19-3-5  NaN    NaN  1.0\n",
       "19-3-6  2.5    NaN  0.5"
      ]
     },
     "execution_count": 57,
     "metadata": {},
     "output_type": "execute_result"
    }
   ],
   "source": [
    "practice.pivot('날짜', '운동', '양')"
   ]
  },
  {
   "attachments": {},
   "cell_type": "markdown",
   "metadata": {},
   "source": [
    "또한, pivot이 있다. 이 기능을 이용하면 가로·세로축을 의미하는 인덱스와 칼럼을 쉽게 재지정할 수 있어서 데이터 프레임의 형태를 손쉽게 변환할 수 있다."
   ]
  },
  {
   "cell_type": "code",
   "execution_count": 58,
   "metadata": {},
   "outputs": [
    {
     "data": {
      "text/html": [
       "<div>\n",
       "<style scoped>\n",
       "    .dataframe tbody tr th:only-of-type {\n",
       "        vertical-align: middle;\n",
       "    }\n",
       "\n",
       "    .dataframe tbody tr th {\n",
       "        vertical-align: top;\n",
       "    }\n",
       "\n",
       "    .dataframe thead th {\n",
       "        text-align: right;\n",
       "    }\n",
       "</style>\n",
       "<table border=\"1\" class=\"dataframe\">\n",
       "  <thead>\n",
       "    <tr style=\"text-align: right;\">\n",
       "      <th>운동</th>\n",
       "      <th>걷기</th>\n",
       "      <th>계단오르기</th>\n",
       "      <th>달리기</th>\n",
       "    </tr>\n",
       "    <tr>\n",
       "      <th>날짜</th>\n",
       "      <th></th>\n",
       "      <th></th>\n",
       "      <th></th>\n",
       "    </tr>\n",
       "  </thead>\n",
       "  <tbody>\n",
       "    <tr>\n",
       "      <th>19-3-1</th>\n",
       "      <td>0.0</td>\n",
       "      <td>0.0</td>\n",
       "      <td>1.0</td>\n",
       "    </tr>\n",
       "    <tr>\n",
       "      <th>19-3-2</th>\n",
       "      <td>1.0</td>\n",
       "      <td>1.0</td>\n",
       "      <td>1.0</td>\n",
       "    </tr>\n",
       "    <tr>\n",
       "      <th>19-3-3</th>\n",
       "      <td>1.5</td>\n",
       "      <td>0.0</td>\n",
       "      <td>1.0</td>\n",
       "    </tr>\n",
       "    <tr>\n",
       "      <th>19-3-4</th>\n",
       "      <td>1.5</td>\n",
       "      <td>0.0</td>\n",
       "      <td>0.0</td>\n",
       "    </tr>\n",
       "    <tr>\n",
       "      <th>19-3-5</th>\n",
       "      <td>0.0</td>\n",
       "      <td>0.0</td>\n",
       "      <td>1.0</td>\n",
       "    </tr>\n",
       "    <tr>\n",
       "      <th>19-3-6</th>\n",
       "      <td>2.5</td>\n",
       "      <td>0.0</td>\n",
       "      <td>0.5</td>\n",
       "    </tr>\n",
       "  </tbody>\n",
       "</table>\n",
       "</div>"
      ],
      "text/plain": [
       "운동       걷기  계단오르기  달리기\n",
       "날짜                     \n",
       "19-3-1  0.0    0.0  1.0\n",
       "19-3-2  1.0    1.0  1.0\n",
       "19-3-3  1.5    0.0  1.0\n",
       "19-3-4  1.5    0.0  0.0\n",
       "19-3-5  0.0    0.0  1.0\n",
       "19-3-6  2.5    0.0  0.5"
      ]
     },
     "execution_count": 58,
     "metadata": {},
     "output_type": "execute_result"
    }
   ],
   "source": [
    "prac_pivot = practice.pivot('날짜', '운동', '양')\n",
    "prac_pivot.fillna(0, inplace=True)\n",
    "prac_pivot"
   ]
  },
  {
   "attachments": {},
   "cell_type": "markdown",
   "metadata": {},
   "source": [
    "```\n",
    "practice.pivot('날짜', '운동', '양')\n",
    "```\n",
    "위 코드의 결과를 보면 NaN(Not a Number)이 포함되어 있다. 이런 값들을 바로 처리할 수 있는 명령이 pandas가 제공하는  fillna이다.  \n",
    "먼저 pivot 결과를 prac_pivot에 저장하고, prac_pivot에서 fillna로 NaN을 0으로 채워서 prac_privot 변수의 내용을 갱신(inplace)하라고 한다.  \n",
    "```\n",
    "prac_pivot = practice.pivot('날짜', '운동', '양')\n",
    "prac_pivot.fillna(0, inplace=True)\n",
    "prac_pivot\n",
    "```\n",
    "그러면 위 코드의 결과처럼 나타난다."
   ]
  }
 ],
 "metadata": {
  "kernelspec": {
   "display_name": "study36",
   "language": "python",
   "name": "python3"
  },
  "language_info": {
   "codemirror_mode": {
    "name": "ipython",
    "version": 3
   },
   "file_extension": ".py",
   "mimetype": "text/x-python",
   "name": "python",
   "nbconvert_exporter": "python",
   "pygments_lexer": "ipython3",
   "version": "3.6.13"
  },
  "orig_nbformat": 4
 },
 "nbformat": 4,
 "nbformat_minor": 2
}
