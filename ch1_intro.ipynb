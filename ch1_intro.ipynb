{
 "cells": [
  {
   "cell_type": "code",
   "execution_count": null,
   "metadata": {},
   "outputs": [],
   "source": []
  },
  {
   "attachments": {},
   "cell_type": "markdown",
   "id": "d65a3038",
   "metadata": {},
   "source": [
    "# 큰 제목 테스트\n",
    "## 중간 제목 테스트\n",
    "### 작은 제목 테스트"
   ]
  },
  {
   "attachments": {},
   "cell_type": "markdown",
   "id": "1c37754b",
   "metadata": {},
   "source": [
    "* 번호없는 목록 테스트\n",
    "* 번호없는 목록은 * 표를 사용\n",
    "    * 탭을 입력하고 * 를 사용하면 들여쓰기가 적용됨\n",
    "    * 손쉽게 사용할 수 있는 번호없는 목록"
   ]
  },
  {
   "attachments": {},
   "cell_type": "markdown",
   "id": "6887ee17",
   "metadata": {},
   "source": [
    "*기울인 글씨*와 **굵은 글씨** 와 ***굵게 기울인 글씨*** 테스트"
   ]
  },
  {
   "attachments": {},
   "cell_type": "markdown",
   "id": "f9fa87c3",
   "metadata": {},
   "source": [
    "<div align=\"center\"><img src=\"./img/ch01/ESFJ%20%ED%94%84%EC%82%AC%EB%AA%A8%EC%9D%8C_1.jpg\" height=\"300px\"></div>"
   ]
  }
 ],
 "metadata": {
  "language_info": {
   "name": "python"
  }
 },
 "nbformat": 4,
 "nbformat_minor": 5
}
