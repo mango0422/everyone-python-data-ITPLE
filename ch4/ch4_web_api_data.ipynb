{
 "cells": [
  {
   "cell_type": "markdown",
   "metadata": {},
   "source": [
    "네이버는 파이썬 코드를 예제로 제공하는데 그 예제를 이용해서 간단하게 결과를 얻어 보겠다  \n",
    "일단, API를 사용하기 위해 접근 url을 알아야 한다.  \n",
    "각 검색 분야별 사용하는 URL은 다음과 같다. \n",
    "\n",
    "|종류|링크|\n",
    "|:---:|:---:|\n",
    "|블로그|https://openapi.naver.com/v1/search/blog.json|\n",
    "|뉴스|https://openapi.naver.com/v1/search/news.json|\n",
    "|책|https://openapi.naver.com/v1/search/books.json|\n",
    "|백과사전|https://openapi.naver.com/v1/search/encyc.json|\n",
    "|영화|https://openapi.naver.com/v1/search/movie/json|\n",
    "|카페글|https://openapi.naver.com/v1/search/cafearticle.json|\n",
    "|지식인|https://openapi.naver.com/v1/search/kin.json|\n",
    "|웹문서|https://openapi.naver.com/v1/search/webkr.json|\n",
    "|쇼핑|https://openapi.naver.com/v1/search/shop.json|"
   ]
  },
  {
   "cell_type": "code",
   "execution_count": 1,
   "metadata": {},
   "outputs": [],
   "source": [
    "import urllib.request\n",
    "client_id=\"fFs_uErHvCbOX3GdrzEj\"\n",
    "client_secret=\"BvThmXhJXe\""
   ]
  },
  {
   "cell_type": "markdown",
   "metadata": {},
   "source": [
    "먼저 위 코드와 같이 naver api에 웹을 등록하면서 얻은 Client ID/secret 정보를 저장해둔다.  \n",
    "여기서 사용된 \n",
    "```\n",
    "import urllib.request\n",
    "```\n",
    "urllib.request 모듈은 주어진 url을 이용해 웹에서 데이터를 얻어오는 역할을 하는 모듈이다."
   ]
  },
  {
   "cell_type": "code",
   "execution_count": 2,
   "metadata": {},
   "outputs": [
    {
     "data": {
      "text/plain": [
       "'https://openapi.naver.com/v1/search/blog.json?query=pinkwink'"
      ]
     },
     "execution_count": 2,
     "metadata": {},
     "output_type": "execute_result"
    }
   ],
   "source": [
    "encText = urllib.parse.quote(\"pinkwink\")\n",
    "url = \"https://openapi.naver.com/v1/search/blog.json?query=\" + encText\n",
    "url"
   ]
  },
  {
   "cell_type": "markdown",
   "metadata": {},
   "source": [
    "네이버 API는 위 코드처럼 블로그 검색을 선택한 url에서 물음표(?) 후에 query를 붙여서 그 뒤에 나오는 단어를 검색한 결과를 얻게 된다.  \n",
    "검색어로는 pinkwink를 사용하겠다.  \n",
    "여기서\n",
    "```\n",
    "urllib.parse.quote(\"pinkwink\")\n",
    "```\n",
    "라고 사용된 부분은 한글/영어 구분 없이 입력된 단어를 utf-8로 인코딩해서 url에서 사용할 수 있도록 해주는 기능이다."
   ]
  },
  {
   "cell_type": "code",
   "execution_count": 3,
   "metadata": {},
   "outputs": [],
   "source": [
    "request = urllib.request.Request(url)\n",
    "request.add_header(\"X-Naver-Client-Id\", client_id)\n",
    "request.add_header(\"X-Naver-Client-Secret\", client_secret)"
   ]
  },
  {
   "cell_type": "markdown",
   "metadata": {},
   "source": [
    "이제 미리 만들어진 url을 urllib.request.Request 명령을 이용해서 응답을 얻어온다.  \n",
    "이때, Client ID/secret 정보를 헤더(header)에 포함해서 보내면 인증과정도 지나가게 된다."
   ]
  },
  {
   "cell_type": "code",
   "execution_count": 4,
   "metadata": {},
   "outputs": [
    {
     "name": "stdout",
     "output_type": "stream",
     "text": [
      "200\n"
     ]
    }
   ],
   "source": [
    "response = urllib.request.urlopen(request)\n",
    "print(response.getcode())"
   ]
  },
  {
   "cell_type": "code",
   "execution_count": 5,
   "metadata": {},
   "outputs": [
    {
     "data": {
      "text/plain": [
       "http.client.HTTPResponse"
      ]
     },
     "execution_count": 5,
     "metadata": {},
     "output_type": "execute_result"
    }
   ],
   "source": [
    "type(response)"
   ]
  },
  {
   "cell_type": "code",
   "execution_count": 6,
   "metadata": {},
   "outputs": [
    {
     "name": "stdout",
     "output_type": "stream",
     "text": [
      "{\n",
      "\t\"lastBuildDate\":\"Fri, 30 Jun 2023 16:55:31 +0900\",\n",
      "\t\"total\":1266,\n",
      "\t\"start\":1,\n",
      "\t\"display\":10,\n",
      "\t\"items\":[\n",
      "\t\t{\n",
      "\t\t\t\"title\":\"2022년 <b>PinkWink<\\/b> 결산\",\n",
      "\t\t\t\"link\":\"https:\\/\\/pinkwink.kr\\/1403\",\n",
      "\t\t\t\"description\":\"일상생활\\/끄적거림 2022년 <b>PinkWink<\\/b> 결산 <b>PinkWink<\\/b> 2023. 1. 1. 06:00 2022년도 마지막 날입니다. 지금 저는 가족 여행으로 괌에 와 있는데요. 문득 올 한 해를 마무리하는 글을 작성하고 싶어지네요. 예전에는... \",\n",
      "\t\t\t\"bloggername\":\"PinkWink\",\n",
      "\t\t\t\"bloggerlink\":\"https:\\/\\/pinkwink.kr\\/\",\n",
      "\t\t\t\"postdate\":\"20230101\"\n",
      "\t\t},\n",
      "\t\t{\n",
      "\t\t\t\"title\":\"<b>PinkWink<\\/b> darknet_ros, jetpack4.5.1에서 빌드 실패\",\n",
      "\t\t\t\"link\":\"https:\\/\\/blog.naver.com\\/zeta0807\\/222461538224\",\n",
      "\t\t\t\"description\":\"site\\/BLDC-fbd4f8bd75424563b074d8adb3c858fa https:\\/\\/<b>pinkwink<\\/b>.kr\\/1342을 참고하면 Jetson Nano 에서... darknet_ros 다운로드 아래 명령어로 <b>PinkWink<\\/b> darknet_ros를 내려받았다. 전체 로그는... \",\n",
      "\t\t\t\"bloggername\":\"제타의 AIoT 나들이\",\n",
      "\t\t\t\"bloggerlink\":\"blog.naver.com\\/zeta0807\",\n",
      "\t\t\t\"postdate\":\"20210808\"\n",
      "\t\t},\n",
      "\t\t{\n",
      "\t\t\t\"title\":\"<b>PinkWink<\\/b> 블로그에서 온 선물..\",\n",
      "\t\t\t\"link\":\"https:\\/\\/blog.naver.com\\/chandong83\\/221531853244\",\n",
      "\t\t\t\"description\":\"국내 최고 아이티 블로그인 <b>PinkWink<\\/b> 블로거이신 민형기 박사님께서 선물을 보내주셨다~ 크.. 이런 영광이!!!! 잘 쓰겠습니다~ 박사님!!! 나도 나중에 블로그 잘 운영해서 이런 선물도 나눠줘 보고 싶다~~ㅋ 요즘... \",\n",
      "\t\t\t\"bloggername\":\"하이! 제니스\",\n",
      "\t\t\t\"bloggerlink\":\"blog.naver.com\\/chandong83\",\n",
      "\t\t\t\"postdate\":\"20190507\"\n",
      "\t\t},\n",
      "\t\t{\n",
      "\t\t\t\"title\":\"<b>PinkWink<\\/b>님의 DC모터 시정수 구하기.\",\n",
      "\t\t\t\"link\":\"https:\\/\\/blog.naver.com\\/hjh2578\\/222172280836\",\n",
      "\t\t\t\"description\":\"현재 밸런싱 봇 제작에 난항을 겪고 있어 해당 시정수를 측정하기 위한 방법을 구글링 해두었음 https:\\/\\/<b>pinkwink<\\/b>.kr\\/336 현재 갖고 있는 밸런싱봇에는 MCP4922라는 DA컨버터를 별도로 설계하여... \",\n",
      "\t\t\t\"bloggername\":\"닥현의 회로연구\",\n",
      "\t\t\t\"bloggerlink\":\"blog.naver.com\\/hjh2578\",\n",
      "\t\t\t\"postdate\":\"20201213\"\n",
      "\t\t},\n",
      "\t\t{\n",
      "\t\t\t\"title\":\"자료 주소, <b>PinkWink<\\/b>, DataScience; 시카고 샌드위치 맛집 주소\",\n",
      "\t\t\t\"link\":\"https:\\/\\/blog.naver.com\\/doitnow-company\\/222090851064\",\n",
      "\t\t\t\"description\":\"책(파이썬으로 데이터 주무르기) 내용 자료 주소, <b>PinkWink<\\/b>, DataScience #3장 #시카고 #샌드위치 #맛집 #분석 #주소 - 교재 발간당시와 현재의 웹페이지가 바뀌어서, 교재에... \",\n",
      "\t\t\t\"bloggername\":\"날마다 성장하는 즐거움\",\n",
      "\t\t\t\"bloggerlink\":\"blog.naver.com\\/doitnow-company\",\n",
      "\t\t\t\"postdate\":\"20200916\"\n",
      "\t\t},\n",
      "\t\t{\n",
      "\t\t\t\"title\":\"<b>PinkWink<\\/b>님의 미바뤼 돌촬영 후기 :)\",\n",
      "\t\t\t\"link\":\"https:\\/\\/blog.naver.com\\/creta01\\/220191244266\",\n",
      "\t\t\t\"description\":\"원본출처 : <b>PinkWink<\\/b>님 블로그 :) http:\\/\\/<b>pinkwink<\\/b>.kr\\/678\",\n",
      "\t\t\t\"bloggername\":\"A moment in life\",\n",
      "\t\t\t\"bloggerlink\":\"blog.naver.com\\/creta01\",\n",
      "\t\t\t\"postdate\":\"20141125\"\n",
      "\t\t},\n",
      "\t\t{\n",
      "\t\t\t\"title\":\"[공유] <b>PinkWink<\\/b> :: 저역통과필터와 고역통과필터를 C로 구현\",\n",
      "\t\t\t\"link\":\"https:\\/\\/blog.naver.com\\/kangusreport\\/221870399107\",\n",
      "\t\t\t\"description\":\"<b>PinkWink<\\/b> :: 저역통과필터와 고역통과필터를 C로 구현\",\n",
      "\t\t\t\"bloggername\":\"Dex Note\",\n",
      "\t\t\t\"bloggerlink\":\"blog.naver.com\\/kangusreport\",\n",
      "\t\t\t\"postdate\":\"20200324\"\n",
      "\t\t},\n",
      "\t\t{\n",
      "\t\t\t\"title\":\"[공유] <b>PinkWink<\\/b> :: Python에서 OpenCV를 이용해서... \",\n",
      "\t\t\t\"link\":\"https:\\/\\/blog.naver.com\\/hersheythings\\/222221161855\",\n",
      "\t\t\t\"description\":\"<b>PinkWink<\\/b> :: Python에서 OpenCV를 이용해서 초간편하게 사람 얼굴, 몸을 인식하기\",\n",
      "\t\t\t\"bloggername\":\"허씨네 이야기\",\n",
      "\t\t\t\"bloggerlink\":\"blog.naver.com\\/hersheythings\",\n",
      "\t\t\t\"postdate\":\"20210127\"\n",
      "\t\t},\n",
      "\t\t{\n",
      "\t\t\t\"title\":\"http:\\/\\/<b>pinkwink<\\/b>.kr\\/218\",\n",
      "\t\t\t\"link\":\"https:\\/\\/blog.naver.com\\/eleconomy\\/220548423642\",\n",
      "\t\t\t\"description\":\"http:\\/\\/<b>pinkwink<\\/b>.kr\\/218\",\n",
      "\t\t\t\"bloggername\":\"재활용업체아님\",\n",
      "\t\t\t\"bloggerlink\":\"blog.naver.com\\/eleconomy\",\n",
      "\t\t\t\"postdate\":\"20151124\"\n",
      "\t\t},\n",
      "\t\t{\n",
      "\t\t\t\"title\":\"2019년 <b>PinkWink<\\/b> 블로그 결산\",\n",
      "\t\t\t\"link\":\"https:\\/\\/pinkwink.tistory.com\\/1259\",\n",
      "\t\t\t\"description\":\"또 이렇게 2019년이 지나가려고 합니다. 2017년이 끝날때쯤엔, 제 블로그가 입주해 있는 티스토리로부터 2017년 우수 블로그로 상품을 받았었습니다.^^ 2017년 우수 블로그로 선정되었던 내용 그리고 2018년이... \",\n",
      "\t\t\t\"bloggername\":\"PinkWink\",\n",
      "\t\t\t\"bloggerlink\":\"https:\\/\\/pinkwink.tistory.com\\/\",\n",
      "\t\t\t\"postdate\":\"20191223\"\n",
      "\t\t}\n",
      "\t]\n",
      "}\n"
     ]
    }
   ],
   "source": [
    "print(response.read().decode('utf-8'))"
   ]
  },
  {
   "cell_type": "markdown",
   "metadata": {},
   "source": [
    "response에 read()로 결과를 읽어서, 한글을 해석하기 위해 decode 옵션을 utf-8로 설정하면 pinkwink라는 단어를 네이버 블로그에서 검색한 결과가 나타난다.  \n",
    "실습할 때는 결과가 다를 것인데, 실제로 검색하는 시점이 다르기 때문이다.  \n",
    "또한, 전체 검색 결과가 2023년 6월 28일 18:12:13 기준으로 총 1250개, 시작이 1이고 표시(display)가 10이라고 되어 있다.  \n",
    "검색 url을 만들 때, 이런 부분들이 더 보강될 수 있다."
   ]
  },
  {
   "cell_type": "code",
   "execution_count": 7,
   "metadata": {},
   "outputs": [
    {
     "name": "stdout",
     "output_type": "stream",
     "text": [
      "1\n",
      "2\n",
      "3\n"
     ]
    }
   ],
   "source": [
    "#파이썬의 반복문\n",
    "for n in [1, 2, 3]:\n",
    "    print(n)"
   ]
  },
  {
   "cell_type": "markdown",
   "metadata": {},
   "source": [
    "위는 간단한 반복문(for) 예제이다. 파이선의 반복문은 영어 읽듯이 지나가면 된다.  \n",
    "```\n",
    "for n in [1, 2, 3]\n",
    "```\n",
    "에서 [1, 2, 3]에서 하나씩 n이라는 변수에 저장하고\n",
    "```\n",
    "print(n)\n",
    "```\n",
    "그 각 n을 print하라는 뜻이다. 이때 in 뒤에 오는 변수는 반복가능(itretable) 변수여야 하는데, 지금은 그런 어려운 용어는 빼고 그냥 리스트(list)형 정도의 변수면 된다고 이해하자.  \n",
    "한가지 알아둘 것은 파이썬 문법은 들여쓰기라는 것이다.  \n",
    "반복문이 시작됨을 for문의 끝에서 콜론(:)으로 알려주고, 반복문에서 사용할 코드는 거기서 들여 써서 작성한다.  \n",
    "들여쓰기가 끝나면 반복문도 마쳤다고 생각한다.  \n",
    "이 들여쓰기는 조건문, 함수(def) 등에서도 모두 사용된다."
   ]
  },
  {
   "cell_type": "code",
   "execution_count": 8,
   "metadata": {},
   "outputs": [
    {
     "name": "stdout",
     "output_type": "stream",
     "text": [
      "1\n",
      "4\n",
      "9\n",
      "16\n",
      "25\n"
     ]
    }
   ],
   "source": [
    "for n in [1, 2, 3, 4, 5]:\n",
    "    print(n**2)"
   ]
  },
  {
   "cell_type": "markdown",
   "metadata": {},
   "source": [
    "numpy를 이용하면 한 번에 처리되는 구문이지만, 일단 연습을 위해 코드 8과 같이 1부터 5까지를 각각 제곱해서 print 했다.  \n",
    "위 코드는 파이썬 사용자들에게는 다음과 같이 많이 변환된다."
   ]
  },
  {
   "cell_type": "code",
   "execution_count": 9,
   "metadata": {},
   "outputs": [
    {
     "data": {
      "text/plain": [
       "[1, 4, 9, 16, 25]"
      ]
     },
     "execution_count": 9,
     "metadata": {},
     "output_type": "execute_result"
    }
   ],
   "source": [
    "[n**2 for n in range(1, 6)]"
   ]
  },
  {
   "cell_type": "markdown",
   "metadata": {},
   "source": [
    "위 코드는 one-line command로 너무 과하면 오히려 가독성을 해치지만, 위 정도라면 오히려 코드를 해독하기 좋다.  \n",
    "1부터 6이전까지 (range(1, 6))의 숫자를 하나씩 n으로 받아서 제곱하라는 의미이다."
   ]
  },
  {
   "cell_type": "markdown",
   "metadata": {},
   "source": [
    "파이썬에서 함수를 선언하는 것은 def이다.  \n",
    "반복문처럼 함수를 사용하는 것도 어렵지 않다."
   ]
  },
  {
   "cell_type": "code",
   "execution_count": 10,
   "metadata": {},
   "outputs": [
    {
     "data": {
      "text/plain": [
       "[1, 4, 9, 16]"
      ]
     },
     "execution_count": 10,
     "metadata": {},
     "output_type": "execute_result"
    }
   ],
   "source": [
    "def get_square(n):\n",
    "    return n**2\n",
    "\n",
    "[get_square(n) for n in [1, 2, 3, 4]]"
   ]
  },
  {
   "cell_type": "markdown",
   "metadata": {},
   "source": [
    "위 코드는 def로 get_square라는 함수를 선언했고, 이 함수는 입력을 하나 받는데, 함수 내에서는 n이라고 이름을 붙여 사용하겠다는 의미이다.  \n",
    "그리고, 함수는 반환값(return)이 있을 수도 없을 수도 있는데, get_square는 n의 제곱값을 반환한다.  \n",
    "그리고 이 함수를 사용해서 간단한 반복문으로 테스트해보았다."
   ]
  },
  {
   "cell_type": "markdown",
   "metadata": {},
   "source": [
    "이제 이 장의 목표인 네이버에서 책 정보를 검색해보도록 하겠다.  \n",
    "네이버 책 정보는  \n",
    "<font color=\"blue\">https://openapi.naver.com/v1/search/book.json</font>  \n",
    "가 접속url이다. 그리고 검색어를 지정하는 명령인 query를 사용하면 된다.  \n",
    "그런데, 이번에는 이 url을 사용할 때 조금 주의해야 한다.\n",
    "|요청 변수명|타입|필수여부|기본값|설명|비교\n",
    "|:--:|:--:|:--:|:--:|:--:|:--:|\n",
    "|query|string| - | - |검색을 원하는 문자열로서 UTF-8로 인코딩한다.|상세검색시 생략가능|\n",
    "|display|integer| N | 10(기본값), 100(최대) | 검색 결과 출력 건수 지정 | - |\n",
    "|start|integer| N | 1(기본값), 1000(최대) | 검색 시작 위치로 최대 1000까지 가능| - |\n",
    "|sort|string| N | sim(기본값), date | 정렬 옵션 : sim(유사도순), date(출간일순), count(판매순) | - |"
   ]
  },
  {
   "cell_type": "markdown",
   "metadata": {},
   "source": [
    "https://developers.naver.com/docs/serviceapi/search/book/book.md 주소에 보면 일부 나타나 있는 요청 변수를 활용해야 더 좋은 검색결과를 얻을 수 있다.  \n",
    "그래서 url을 만드는 것이 조금 중요하다.  \n",
    "어떤 의미냐면 <font color=\"#BCA36F\"><b>print(response.read().decode('utf-8'))</b></font> 의 결과를 보면 검색 결과가 10개이다.  \n",
    "이 결과는 display 옵션을 수정해서 얻을 수 있다.  조금 더 지나면 100개 다음번을 하고 싶다면, 101부터 시작하도록 start 값을 변경해야 한다.  \n",
    "그래서 url을 잘 만들어야 할 필요가 생겼다."
   ]
  },
  {
   "cell_type": "code",
   "execution_count": 11,
   "metadata": {},
   "outputs": [],
   "source": [
    "def create_url(api_node, search_text, start_num, disp_num):\n",
    "    base = \"https://openapi.naver.com/v1/search\"\n",
    "    node = \"/\" + api_node + \".json\"\n",
    "    param_query = \"?query=\" + urllib.parse.quote(search_text)\n",
    "    param_start = \"&start=\" + str(start_num)\n",
    "    param_disp = \"&display=\" + str(disp_num)\n",
    "    \n",
    "    return base + node + param_query + param_start + param_disp"
   ]
  },
  {
   "cell_type": "code",
   "execution_count": 12,
   "metadata": {},
   "outputs": [
    {
     "data": {
      "text/plain": [
       "'https://openapi.naver.com/v1/search/book.json?query=TEST&start=1&display=10'"
      ]
     },
     "execution_count": 12,
     "metadata": {},
     "output_type": "execute_result"
    }
   ],
   "source": [
    "create_url(\"book\", \"TEST\", 1, 10)"
   ]
  },
  {
   "cell_type": "markdown",
   "metadata": {},
   "source": [
    "위 코드를 보면 방금 배운 함수(def) 만들기를 이용해서 url을 만드는 함수를 만들었다.  \n",
    "create_url이라고 이름 붙은 함수는 입력으로 카페, 책, 쇼핑 등등의 url 정보를 의미하는 위의 표에서의 주소 값을 api_node로 받도록 한다.  \n",
    "그리고, 검색하고 싶은 단어를 search_text, 시작번호를 start_num, 표시되는 숫자를 disp_num으로 입력받았다.  \n",
    "그리고, 그 문장을 하나씩 완성해가는 과정은 문자열(str)로 변환해서 모두 더하면 된다.  \n",
    "\n",
    "아래 코드를 보면 또 새롭게 등장한 json이라는 모듈을 import하고 있다.  \n",
    "위 코드에 의해 만든 url을 이용해서 API를 사용한 응답 결과는 json이라는 데이터 형태로 출력된다.  \n",
    "json이 어려운 형태는 아니지만, 지금은 그저 아래 코드의 결과를 보면서 이런 형태가 json이구나 하고 넘어가겠다.  \n",
    "그래도 유심히 중괄호와 대괄호를 구분하면서 읽어보면 그리 어려운 구조는 아니다.  \n",
    "그리고, 파이썬이라는 검색어로 검색결과 1부터 3개까지만 표시하라고 url을 만들었다. 그리고 이전처럼 한번에 수행해서 결과를 얻었다."
   ]
  },
  {
   "cell_type": "code",
   "execution_count": 13,
   "metadata": {},
   "outputs": [
    {
     "data": {
      "text/plain": [
       "{'lastBuildDate': 'Fri, 30 Jun 2023 16:55:31 +0900',\n",
       " 'total': 894,\n",
       " 'start': 1,\n",
       " 'display': 3,\n",
       " 'items': [{'title': 'Do it! 점프 투 파이썬 (중학생도 첫날부터 실습하는 초고속 입문서)',\n",
       "   'link': 'https://search.shopping.naver.com/book/catalog/40354085633',\n",
       "   'image': 'https://shopping-phinf.pstatic.net/main_4035408/40354085633.20230620100615.jpg',\n",
       "   'author': '박응용',\n",
       "   'discount': '19800',\n",
       "   'publisher': '이지스퍼블리싱',\n",
       "   'pubdate': '20230615',\n",
       "   'isbn': '9791163034735',\n",
       "   'description': '프로그래밍 분야 8년 연속 베스트셀러!\\n《Do it! 점프 투 파이썬》 전면 개정 2판 출시!\\n\\n중고등학생도, 비전공자도, 직장인도 프로그래밍에 눈뜨게 만든 바로 그 책이 전면 개정 2판으로 새롭게 태어났다! 챗GPT를 시작으로 펼쳐진 생성 AI 시대에 맞춰 설명과 예제를 다듬고, 최신 경향과 심화 내용을 보충했다. 또한 이번 개정 2판도 50만 코딩 유튜버인 조코딩과 협업을 통해 유튜브 동영상을 제공해 파이썬을 더 쉽게 공부할 수 있다.\\n\\n8년 연속 베스트셀러! 위키독스 누적 방문 300만! 독자의 입에서 입으로 전해진 추천과 수많은 대학 및 학원의 교재 채택을 통해 검증은 이미 끝났다. 코딩을 처음 배우는 중고등학생부터 코딩 소양을 기르려는 비전공자, 자기계발에 진심인 직장인까지! 이 책과 함께 파이썬 프로그래밍의 세계로 ‘점프’해 보자!'},\n",
       "  {'title': '취업과 이직을 위한 프로그래머스 코딩 테스트 문제 풀이 전략 : 파이썬 편 (핵심 개념, 81개 문제 풀이, 코딩전문역량인증시험(PCCP) 대비까지!)',\n",
       "   'link': 'https://search.shopping.naver.com/book/catalog/37828255619',\n",
       "   'image': 'https://shopping-phinf.pstatic.net/main_3782825/37828255619.20230630071111.jpg',\n",
       "   'author': '김범수',\n",
       "   'discount': '36000',\n",
       "   'publisher': '길벗',\n",
       "   'pubdate': '20230223',\n",
       "   'isbn': '9791140702893',\n",
       "   'description': '핵심 개념, 프로그래머스에서 선별한 81개 문제 풀이, PCCP 대비까지!\\n합격에 한 걸음 더 가까워지는 실전형 코딩 테스트 문제 풀이 가이드\\n\\n개발자 취업과 이직의 필수 관문, 코딩 테스트! 어떻게 준비해야 할까? 이 책은 시간 복잡도, 배열, 문자열, 정렬, 이진 탐색, 완전 탐색, 해시, 동적 프로그래밍, 자주 나오는 자료 구조 등 코딩 테스트에 필요한 핵심 지식을 모두 담고 있다. 단순히 문제를 풀어보는 것에서 그치지 않고, 문제를 분석하고, 요구 조건을 체크하고, 다양한 접근법으로 설계한 내용을 구현하며 문제를 푸는 생각의 흐름을 완성할 수 있게 도와준다. 또한, 기본 문제 풀이 외에 핵심 개념 및 다양한 풀이를 함께 살펴보며, 방금 푼 그 문제를 100% 내 것으로 만들 수 있게 구성했다. 프로그래머스의 노하우가 담긴 문제를 선별해 담았으며, 파이썬스러운 문제 풀이와 해결법으로 파이썬을 좀 더 깊이 있게 이해할 수 있다. 마지막으로 카카오 블라인드 테스트와 코딩전문역량인증시험(PCCP) 모의고사 문제를 책에서 배운 내용들을 이용해 풀어보면서 실전 감각을 키울 수 있다. 취업과 이직을 위해 코딩 테스트를 준비한다면 이 책으로 시작해보자.'},\n",
       "  {'title': '모두의 파이썬 (20일 만에 배우는 프로그래밍 기초)',\n",
       "   'link': 'https://search.shopping.naver.com/book/catalog/32463987904',\n",
       "   'image': 'https://shopping-phinf.pstatic.net/main_3246398/32463987904.20230502164553.jpg',\n",
       "   'author': '이승찬',\n",
       "   'discount': '4000',\n",
       "   'publisher': '길벗',\n",
       "   'pubdate': '20181009',\n",
       "   'isbn': '9791160505856',\n",
       "   'description': '파이썬 분야 & 어린이 코딩 교육 분야\\n2년 연속 베스트셀러! 개정판 출간!\\n\\n즐겁게 시작하는 나의 첫 프로그래밍!\\n프로그래밍을 한 번도 해본 적이 없어도 괜찮다. 파이썬이 무엇인지 몰라도 상관 없다. 어려운 개념과 복잡한 이론 설명은 최대한 줄이고, 초보자가 프로그래밍을 쉽게 배울 수 있도록 짧고 간단한 예제로 내용을 구성했다. 처음부터 모든 것을 다 이해하지 못해도 괜찮다. 프로그램을 따라서 입력하고, 실행 결과를 확인하며, 책에서 알려주는 대로 에러를 수정해 보자. 어느새 파이썬 프로그램으로 멋진 그림을 그리고, 계산을 하고, 간단한 게임을 만들고, 수학 문제를 푸는 자신을 발견하게 될 것이다. \\n\\n* 《모두의 파이썬, 개정 2판》에서는 파이썬 최신 버전을 반영하였으며, Day 19 ‘파이썬으로 수학 문제 풀기 1’의 내용을 중학 수학 2015 개정교육과정에 맞춰 수정 및 보완하였습니다. 나머지 내용은 초판과 동일합니다.'}]}"
      ]
     },
     "execution_count": 13,
     "metadata": {},
     "output_type": "execute_result"
    }
   ],
   "source": [
    "import json\n",
    "\n",
    "client_id=\"fFs_uErHvCbOX3GdrzEj\"\n",
    "client_secret=\"BvThmXhJXe\"\n",
    "\n",
    "url = create_url(\"book\", \"파이썬\", 1, 3)\n",
    "\n",
    "request = urllib.request.Request(url)\n",
    "request.add_header(\"X-Naver-Client-Id\", client_id)\n",
    "request.add_header(\"X-Naver-Client-Secret\", client_secret)\n",
    "\n",
    "response = urllib.request.urlopen(request)\n",
    "\n",
    "result = json.loads(response.read().decode('utf-8'))\n",
    "result"
   ]
  },
  {
   "cell_type": "markdown",
   "metadata": {},
   "source": [
    "실제 display된 결과를 얻고 싶을 때는 위 코드에서 결과를 저장한 result라는 변수에 display라는 항목을 조회하면 된다. 방법은 아래와 같다."
   ]
  },
  {
   "cell_type": "code",
   "execution_count": 14,
   "metadata": {},
   "outputs": [
    {
     "data": {
      "text/plain": [
       "3"
      ]
     },
     "execution_count": 14,
     "metadata": {},
     "output_type": "execute_result"
    }
   ],
   "source": [
    "result['display']"
   ]
  },
  {
   "cell_type": "markdown",
   "metadata": {},
   "source": [
    "실제 검색결과는 items라는 항목에 저장되어 있다."
   ]
  },
  {
   "cell_type": "code",
   "execution_count": 15,
   "metadata": {},
   "outputs": [
    {
     "data": {
      "text/plain": [
       "[{'title': 'Do it! 점프 투 파이썬 (중학생도 첫날부터 실습하는 초고속 입문서)',\n",
       "  'link': 'https://search.shopping.naver.com/book/catalog/40354085633',\n",
       "  'image': 'https://shopping-phinf.pstatic.net/main_4035408/40354085633.20230620100615.jpg',\n",
       "  'author': '박응용',\n",
       "  'discount': '19800',\n",
       "  'publisher': '이지스퍼블리싱',\n",
       "  'pubdate': '20230615',\n",
       "  'isbn': '9791163034735',\n",
       "  'description': '프로그래밍 분야 8년 연속 베스트셀러!\\n《Do it! 점프 투 파이썬》 전면 개정 2판 출시!\\n\\n중고등학생도, 비전공자도, 직장인도 프로그래밍에 눈뜨게 만든 바로 그 책이 전면 개정 2판으로 새롭게 태어났다! 챗GPT를 시작으로 펼쳐진 생성 AI 시대에 맞춰 설명과 예제를 다듬고, 최신 경향과 심화 내용을 보충했다. 또한 이번 개정 2판도 50만 코딩 유튜버인 조코딩과 협업을 통해 유튜브 동영상을 제공해 파이썬을 더 쉽게 공부할 수 있다.\\n\\n8년 연속 베스트셀러! 위키독스 누적 방문 300만! 독자의 입에서 입으로 전해진 추천과 수많은 대학 및 학원의 교재 채택을 통해 검증은 이미 끝났다. 코딩을 처음 배우는 중고등학생부터 코딩 소양을 기르려는 비전공자, 자기계발에 진심인 직장인까지! 이 책과 함께 파이썬 프로그래밍의 세계로 ‘점프’해 보자!'},\n",
       " {'title': '취업과 이직을 위한 프로그래머스 코딩 테스트 문제 풀이 전략 : 파이썬 편 (핵심 개념, 81개 문제 풀이, 코딩전문역량인증시험(PCCP) 대비까지!)',\n",
       "  'link': 'https://search.shopping.naver.com/book/catalog/37828255619',\n",
       "  'image': 'https://shopping-phinf.pstatic.net/main_3782825/37828255619.20230630071111.jpg',\n",
       "  'author': '김범수',\n",
       "  'discount': '36000',\n",
       "  'publisher': '길벗',\n",
       "  'pubdate': '20230223',\n",
       "  'isbn': '9791140702893',\n",
       "  'description': '핵심 개념, 프로그래머스에서 선별한 81개 문제 풀이, PCCP 대비까지!\\n합격에 한 걸음 더 가까워지는 실전형 코딩 테스트 문제 풀이 가이드\\n\\n개발자 취업과 이직의 필수 관문, 코딩 테스트! 어떻게 준비해야 할까? 이 책은 시간 복잡도, 배열, 문자열, 정렬, 이진 탐색, 완전 탐색, 해시, 동적 프로그래밍, 자주 나오는 자료 구조 등 코딩 테스트에 필요한 핵심 지식을 모두 담고 있다. 단순히 문제를 풀어보는 것에서 그치지 않고, 문제를 분석하고, 요구 조건을 체크하고, 다양한 접근법으로 설계한 내용을 구현하며 문제를 푸는 생각의 흐름을 완성할 수 있게 도와준다. 또한, 기본 문제 풀이 외에 핵심 개념 및 다양한 풀이를 함께 살펴보며, 방금 푼 그 문제를 100% 내 것으로 만들 수 있게 구성했다. 프로그래머스의 노하우가 담긴 문제를 선별해 담았으며, 파이썬스러운 문제 풀이와 해결법으로 파이썬을 좀 더 깊이 있게 이해할 수 있다. 마지막으로 카카오 블라인드 테스트와 코딩전문역량인증시험(PCCP) 모의고사 문제를 책에서 배운 내용들을 이용해 풀어보면서 실전 감각을 키울 수 있다. 취업과 이직을 위해 코딩 테스트를 준비한다면 이 책으로 시작해보자.'},\n",
       " {'title': '모두의 파이썬 (20일 만에 배우는 프로그래밍 기초)',\n",
       "  'link': 'https://search.shopping.naver.com/book/catalog/32463987904',\n",
       "  'image': 'https://shopping-phinf.pstatic.net/main_3246398/32463987904.20230502164553.jpg',\n",
       "  'author': '이승찬',\n",
       "  'discount': '4000',\n",
       "  'publisher': '길벗',\n",
       "  'pubdate': '20181009',\n",
       "  'isbn': '9791160505856',\n",
       "  'description': '파이썬 분야 & 어린이 코딩 교육 분야\\n2년 연속 베스트셀러! 개정판 출간!\\n\\n즐겁게 시작하는 나의 첫 프로그래밍!\\n프로그래밍을 한 번도 해본 적이 없어도 괜찮다. 파이썬이 무엇인지 몰라도 상관 없다. 어려운 개념과 복잡한 이론 설명은 최대한 줄이고, 초보자가 프로그래밍을 쉽게 배울 수 있도록 짧고 간단한 예제로 내용을 구성했다. 처음부터 모든 것을 다 이해하지 못해도 괜찮다. 프로그램을 따라서 입력하고, 실행 결과를 확인하며, 책에서 알려주는 대로 에러를 수정해 보자. 어느새 파이썬 프로그램으로 멋진 그림을 그리고, 계산을 하고, 간단한 게임을 만들고, 수학 문제를 푸는 자신을 발견하게 될 것이다. \\n\\n* 《모두의 파이썬, 개정 2판》에서는 파이썬 최신 버전을 반영하였으며, Day 19 ‘파이썬으로 수학 문제 풀기 1’의 내용을 중학 수학 2015 개정교육과정에 맞춰 수정 및 보완하였습니다. 나머지 내용은 초판과 동일합니다.'}]"
      ]
     },
     "execution_count": 15,
     "metadata": {},
     "output_type": "execute_result"
    }
   ],
   "source": [
    "result['items']"
   ]
  },
  {
   "cell_type": "markdown",
   "metadata": {},
   "source": [
    "검색결과 꽤 많은 정보를 얻을 수 있다는 것을 알 수 있다.  \n",
    "책 제목은 당연하고, 작가, 가격, 할인금액, 출판사, 출판일, ISBN 정보, 심지어 간편 설명까지 있다. 이 책으로 학습하신 후 이런 정보들을 어떻게 잘 활용할지를 고민하는 것도 좋을 것이다.  \n",
    "그리고 itmems의 항목 개수를 확인해 보면 display와 같다는 것을 알 수 있다."
   ]
  },
  {
   "cell_type": "code",
   "execution_count": 16,
   "metadata": {},
   "outputs": [
    {
     "data": {
      "text/plain": [
       "3"
      ]
     },
     "execution_count": 16,
     "metadata": {},
     "output_type": "execute_result"
    }
   ],
   "source": [
    "len(result['items'])"
   ]
  },
  {
   "cell_type": "markdown",
   "metadata": {},
   "source": [
    "검색결과인 items에서 제목(title) 정보만 얻고 싶다면, 아래 코드처럼 얻으면 된다."
   ]
  },
  {
   "cell_type": "code",
   "execution_count": 17,
   "metadata": {},
   "outputs": [
    {
     "data": {
      "text/plain": [
       "['Do it! 점프 투 파이썬 (중학생도 첫날부터 실습하는 초고속 입문서)',\n",
       " '취업과 이직을 위한 프로그래머스 코딩 테스트 문제 풀이 전략 : 파이썬 편 (핵심 개념, 81개 문제 풀이, 코딩전문역량인증시험(PCCP) 대비까지!)',\n",
       " '모두의 파이썬 (20일 만에 배우는 프로그래밍 기초)']"
      ]
     },
     "execution_count": 17,
     "metadata": {},
     "output_type": "execute_result"
    }
   ],
   "source": [
    "titles = [result['items'][n]['title'] for n in range(3)]\n",
    "titles"
   ]
  },
  {
   "cell_type": "markdown",
   "metadata": {},
   "source": [
    "이번에는 아래와 같이 작가정보와 출판일을 얻어오는 코드를 각각 만들어보자,"
   ]
  },
  {
   "cell_type": "code",
   "execution_count": 18,
   "metadata": {},
   "outputs": [
    {
     "data": {
      "text/plain": [
       "['박응용', '김범수', '이승찬']"
      ]
     },
     "execution_count": 18,
     "metadata": {},
     "output_type": "execute_result"
    }
   ],
   "source": [
    "authors = [result['items'][n]['author'] for n in range(3)]\n",
    "authors"
   ]
  },
  {
   "cell_type": "code",
   "execution_count": 19,
   "metadata": {},
   "outputs": [
    {
     "data": {
      "text/plain": [
       "['20230615', '20230223', '20181009']"
      ]
     },
     "execution_count": 19,
     "metadata": {},
     "output_type": "execute_result"
    }
   ],
   "source": [
    "pubdates = [result['items'][n]['pubdate'] for n in range(3)]\n",
    "pubdates"
   ]
  },
  {
   "cell_type": "code",
   "execution_count": 20,
   "metadata": {},
   "outputs": [
    {
     "data": {
      "text/html": [
       "<div>\n",
       "<style scoped>\n",
       "    .dataframe tbody tr th:only-of-type {\n",
       "        vertical-align: middle;\n",
       "    }\n",
       "\n",
       "    .dataframe tbody tr th {\n",
       "        vertical-align: top;\n",
       "    }\n",
       "\n",
       "    .dataframe thead th {\n",
       "        text-align: right;\n",
       "    }\n",
       "</style>\n",
       "<table border=\"1\" class=\"dataframe\">\n",
       "  <thead>\n",
       "    <tr style=\"text-align: right;\">\n",
       "      <th></th>\n",
       "      <th>책제목</th>\n",
       "      <th>작가</th>\n",
       "      <th>출판일</th>\n",
       "    </tr>\n",
       "  </thead>\n",
       "  <tbody>\n",
       "    <tr>\n",
       "      <th>0</th>\n",
       "      <td>Do it! 점프 투 파이썬 (중학생도 첫날부터 실습하는 초고속 입문서)</td>\n",
       "      <td>박응용</td>\n",
       "      <td>20230615</td>\n",
       "    </tr>\n",
       "    <tr>\n",
       "      <th>1</th>\n",
       "      <td>취업과 이직을 위한 프로그래머스 코딩 테스트 문제 풀이 전략 : 파이썬 편 (핵심 ...</td>\n",
       "      <td>김범수</td>\n",
       "      <td>20230223</td>\n",
       "    </tr>\n",
       "    <tr>\n",
       "      <th>2</th>\n",
       "      <td>모두의 파이썬 (20일 만에 배우는 프로그래밍 기초)</td>\n",
       "      <td>이승찬</td>\n",
       "      <td>20181009</td>\n",
       "    </tr>\n",
       "  </tbody>\n",
       "</table>\n",
       "</div>"
      ],
      "text/plain": [
       "                                                책제목    작가       출판일\n",
       "0           Do it! 점프 투 파이썬 (중학생도 첫날부터 실습하는 초고속 입문서)  박응용  20230615\n",
       "1  취업과 이직을 위한 프로그래머스 코딩 테스트 문제 풀이 전략 : 파이썬 편 (핵심 ...  김범수  20230223\n",
       "2                      모두의 파이썬 (20일 만에 배우는 프로그래밍 기초)  이승찬  20181009"
      ]
     },
     "execution_count": 20,
     "metadata": {},
     "output_type": "execute_result"
    }
   ],
   "source": [
    "import pandas as pd\n",
    "pd.DataFrame({'책제목 ' : titles, '작가' : authors, '출판일' : pubdates})"
   ]
  },
  {
   "cell_type": "markdown",
   "metadata": {},
   "source": [
    "이제 위 코드처럼 데이터 관리에 괜찮은 pandas를 이용해 손쉽게 DataFrame으로 만들 수 있다."
   ]
  },
  {
   "cell_type": "code",
   "execution_count": 21,
   "metadata": {},
   "outputs": [],
   "source": [
    "def get_dataframe(url):\n",
    "    client_id=\"fFs_uErHvCbOX3GdrzEj\"\n",
    "    client_secret=\"BvThmXhJXe\"\n",
    "    \n",
    "    request = urllib.request.Request(url)\n",
    "    request.add_header(\"X-Naver-Client-Id\", client_id)\n",
    "    request.add_header(\"X-Naver-Client-Secret\", client_secret)\n",
    "    \n",
    "    response = urllib.request.urlopen(request)\n",
    "    \n",
    "    result = json.loads(response.read().decode('utf-8'))\n",
    "    \n",
    "    end_num = result['display']\n",
    "    \n",
    "    titles = [result['items'][n]['title'] for n in range(end_num)]\n",
    "    authors = [result['items'][n]['author'] for n in range(end_num)]\n",
    "    pubdates = [result['items'][n]['pubdate'] for n in range(end_num)]\n",
    "    \n",
    "    return pd.DataFrame({'책제목 ' : titles, '작가' : authors, '출판일' : pubdates})"
   ]
  },
  {
   "cell_type": "markdown",
   "metadata": {},
   "source": [
    "이제 이 과정을 모두 함수(def)로 위 코드에 만들어두었다.  \n",
    "5번 행에서 만들어둔 url을 입력한다. 이전 코드들처럼 책 제목, 저자, 출판일 정보를 얻기 위해 어디까지 반복문을 적용해야 할지 알아야 하므로, 13번에서 end_num을 저장하고 15~17 행에 구현해두었다.  \n",
    "return으로 <font color=\"#BCA36F\">pandas.get_dataframe</font>을 반환하도록 한다.  \n",
    "아래 코드에서는, 저 위에서 만든 url을 이용해서 <font color=\"#BCA36F\">get_dataframe</font>을 테스트해보았다."
   ]
  },
  {
   "cell_type": "code",
   "execution_count": 22,
   "metadata": {},
   "outputs": [
    {
     "data": {
      "text/html": [
       "<div>\n",
       "<style scoped>\n",
       "    .dataframe tbody tr th:only-of-type {\n",
       "        vertical-align: middle;\n",
       "    }\n",
       "\n",
       "    .dataframe tbody tr th {\n",
       "        vertical-align: top;\n",
       "    }\n",
       "\n",
       "    .dataframe thead th {\n",
       "        text-align: right;\n",
       "    }\n",
       "</style>\n",
       "<table border=\"1\" class=\"dataframe\">\n",
       "  <thead>\n",
       "    <tr style=\"text-align: right;\">\n",
       "      <th></th>\n",
       "      <th>책제목</th>\n",
       "      <th>작가</th>\n",
       "      <th>출판일</th>\n",
       "    </tr>\n",
       "  </thead>\n",
       "  <tbody>\n",
       "    <tr>\n",
       "      <th>0</th>\n",
       "      <td>Do it! 점프 투 파이썬 (중학생도 첫날부터 실습하는 초고속 입문서)</td>\n",
       "      <td>박응용</td>\n",
       "      <td>20230615</td>\n",
       "    </tr>\n",
       "    <tr>\n",
       "      <th>1</th>\n",
       "      <td>취업과 이직을 위한 프로그래머스 코딩 테스트 문제 풀이 전략 : 파이썬 편 (핵심 ...</td>\n",
       "      <td>김범수</td>\n",
       "      <td>20230223</td>\n",
       "    </tr>\n",
       "    <tr>\n",
       "      <th>2</th>\n",
       "      <td>모두의 파이썬 (20일 만에 배우는 프로그래밍 기초)</td>\n",
       "      <td>이승찬</td>\n",
       "      <td>20181009</td>\n",
       "    </tr>\n",
       "  </tbody>\n",
       "</table>\n",
       "</div>"
      ],
      "text/plain": [
       "                                                책제목    작가       출판일\n",
       "0           Do it! 점프 투 파이썬 (중학생도 첫날부터 실습하는 초고속 입문서)  박응용  20230615\n",
       "1  취업과 이직을 위한 프로그래머스 코딩 테스트 문제 풀이 전략 : 파이썬 편 (핵심 ...  김범수  20230223\n",
       "2                      모두의 파이썬 (20일 만에 배우는 프로그래밍 기초)  이승찬  20181009"
      ]
     },
     "execution_count": 22,
     "metadata": {},
     "output_type": "execute_result"
    }
   ],
   "source": [
    "get_dataframe(url)"
   ]
  },
  {
   "cell_type": "markdown",
   "metadata": {},
   "source": [
    "의도한 그대로 잘 된 것 같다. 그런데, 한 가지 문제가 보인다.  \n",
    "책 제목에서 html 태그 중 볼드체를 의미하는 b 태그가 보인다. (난 안보이는데?)  \n",
    "아마 검색결과를 강조하기 위한 것 같다. 우리는 이 부분이 필요가 없으므로 제거할 필요가 있다.  (난 없다니까)"
   ]
  },
  {
   "cell_type": "code",
   "execution_count": 23,
   "metadata": {},
   "outputs": [],
   "source": [
    "def delete_tag(input_str):\n",
    "    input_str = input_str.replace(\"<b>\", \"\")\n",
    "    input_str = input_str.replace(\"</b>\", \"\")\n",
    "    return input_str"
   ]
  },
  {
   "attachments": {},
   "cell_type": "markdown",
   "metadata": {},
   "source": [
    "위 코드에서 delete_tag라는 함수를 만들었다. 파이썬의 문자열은 replace라는 속성을 제공한다.  \n",
    "이것을 이용해서 태그를 없앴다."
   ]
  },
  {
   "cell_type": "code",
   "execution_count": 24,
   "metadata": {},
   "outputs": [],
   "source": [
    "def get_dataframe(url):\n",
    "    client_id=\"fFs_uErHvCbOX3GdrzEj\"\n",
    "    client_secret=\"BvThmXhJXe\"\n",
    "    \n",
    "    request = urllib.request.Request(url)\n",
    "    request.add_header(\"X-Naver-Client-Id\", client_id)\n",
    "    request.add_header(\"X-Naver-Client-Secret\", client_secret)\n",
    "    \n",
    "    response = urllib.request.urlopen(request)\n",
    "    \n",
    "    result = json.loads(response.read().decode('utf-8'))\n",
    "    \n",
    "    end_num = result['display']\n",
    "    \n",
    "    titles = [delete_tag(result['items'][n]['title']) for n in range(end_num)]\n",
    "    authors = [result['items'][n]['author'] for n in range(end_num)]\n",
    "    pubdates = [result['items'][n]['pubdate'] for n in range(end_num)]\n",
    "    \n",
    "    return pd.DataFrame({'책제목 ' : titles, '작가' : authors, '출판일' : pubdates})"
   ]
  },
  {
   "attachments": {},
   "cell_type": "markdown",
   "metadata": {},
   "source": [
    "21번재 코드를 다시 24번째 코드로 변경했다.  \n",
    "코드 23을 titles를 구하는 곳에 반영했기 때문이다."
   ]
  },
  {
   "cell_type": "code",
   "execution_count": 25,
   "metadata": {},
   "outputs": [
    {
     "data": {
      "text/html": [
       "<div>\n",
       "<style scoped>\n",
       "    .dataframe tbody tr th:only-of-type {\n",
       "        vertical-align: middle;\n",
       "    }\n",
       "\n",
       "    .dataframe tbody tr th {\n",
       "        vertical-align: top;\n",
       "    }\n",
       "\n",
       "    .dataframe thead th {\n",
       "        text-align: right;\n",
       "    }\n",
       "</style>\n",
       "<table border=\"1\" class=\"dataframe\">\n",
       "  <thead>\n",
       "    <tr style=\"text-align: right;\">\n",
       "      <th></th>\n",
       "      <th>책제목</th>\n",
       "      <th>작가</th>\n",
       "      <th>출판일</th>\n",
       "    </tr>\n",
       "  </thead>\n",
       "  <tbody>\n",
       "    <tr>\n",
       "      <th>0</th>\n",
       "      <td>Do it! 점프 투 파이썬 (중학생도 첫날부터 실습하는 초고속 입문서)</td>\n",
       "      <td>박응용</td>\n",
       "      <td>20230615</td>\n",
       "    </tr>\n",
       "    <tr>\n",
       "      <th>1</th>\n",
       "      <td>취업과 이직을 위한 프로그래머스 코딩 테스트 문제 풀이 전략 : 파이썬 편 (핵심 ...</td>\n",
       "      <td>김범수</td>\n",
       "      <td>20230223</td>\n",
       "    </tr>\n",
       "    <tr>\n",
       "      <th>2</th>\n",
       "      <td>모두의 파이썬 (20일 만에 배우는 프로그래밍 기초)</td>\n",
       "      <td>이승찬</td>\n",
       "      <td>20181009</td>\n",
       "    </tr>\n",
       "  </tbody>\n",
       "</table>\n",
       "</div>"
      ],
      "text/plain": [
       "                                                책제목    작가       출판일\n",
       "0           Do it! 점프 투 파이썬 (중학생도 첫날부터 실습하는 초고속 입문서)  박응용  20230615\n",
       "1  취업과 이직을 위한 프로그래머스 코딩 테스트 문제 풀이 전략 : 파이썬 편 (핵심 ...  김범수  20230223\n",
       "2                      모두의 파이썬 (20일 만에 배우는 프로그래밍 기초)  이승찬  20181009"
      ]
     },
     "execution_count": 25,
     "metadata": {},
     "output_type": "execute_result"
    }
   ],
   "source": [
    "get_dataframe(url)"
   ]
  },
  {
   "attachments": {},
   "cell_type": "markdown",
   "metadata": {},
   "source": [
    "다시 테스트해봐도 역시 난 <b>태그 자체가 없지만, 혹시라도 생긴다면 이렇게 제거하면 된다고 한다."
   ]
  },
  {
   "cell_type": "code",
   "execution_count": 26,
   "metadata": {},
   "outputs": [
    {
     "data": {
      "text/plain": [
       "[1, 101, 201]"
      ]
     },
     "execution_count": 26,
     "metadata": {},
     "output_type": "execute_result"
    }
   ],
   "source": [
    "[n for n in range(1, 300, 100)]"
   ]
  },
  {
   "attachments": {},
   "cell_type": "markdown",
   "metadata": {},
   "source": [
    "이제 range 함수를 사용해서 한 300개의 결과를 얻어보겠다. range함수는  \n",
    "<font style=\"background-color:skyblue\" color=\"black\">range(시작, 끝, 간격)</font>  \n",
    "으로 입력하면 된다. display의 최댓값은 위에 표에 있듯이 100개여서 1, 101, 202을 시작점으로 100개씩 반환해 달라고 url을 만들면 된다.\n"
   ]
  },
  {
   "cell_type": "code",
   "execution_count": 27,
   "metadata": {},
   "outputs": [],
   "source": [
    "result_search = []\n",
    "\n",
    "for n in range(1, 300, 100):\n",
    "    url = create_url(\"book\", \"파이썬\", n, 100)\n",
    "    result_search.append(get_dataframe(url))\n",
    "\n",
    "result_search = pd.concat(result_search)"
   ]
  },
  {
   "attachments": {},
   "cell_type": "markdown",
   "metadata": {},
   "source": [
    "이미 만들어 둔 <b>create_url</b> 과 <b>get dataframe</b> 을 이용해서 반복문을 만들면 된다.  \n",
    "여기서 하나 새롭게 등장한 방법이 하나 있다. \n",
    "반복문이 한 번 실행될 때마다 ``` get_dataframe(url) ``` 의 결과처럼 pandas의 DataFrame이 만들어진다.  \n",
    "이 결과를 계속 저장할 수는 없다.  \n",
    "그래서 result_search라는 빈 리스트(list)를 만들고, 거기에 append로 추가한다.  \n",
    "그리고, 마지막에 concat 명령을 사용해서 하나의 pandas, DataFrame으로 만들어 둘 수 있다."
   ]
  },
  {
   "cell_type": "code",
   "execution_count": 28,
   "metadata": {},
   "outputs": [
    {
     "data": {
      "text/html": [
       "<div>\n",
       "<style scoped>\n",
       "    .dataframe tbody tr th:only-of-type {\n",
       "        vertical-align: middle;\n",
       "    }\n",
       "\n",
       "    .dataframe tbody tr th {\n",
       "        vertical-align: top;\n",
       "    }\n",
       "\n",
       "    .dataframe thead th {\n",
       "        text-align: right;\n",
       "    }\n",
       "</style>\n",
       "<table border=\"1\" class=\"dataframe\">\n",
       "  <thead>\n",
       "    <tr style=\"text-align: right;\">\n",
       "      <th></th>\n",
       "      <th>책제목</th>\n",
       "      <th>작가</th>\n",
       "      <th>출판일</th>\n",
       "    </tr>\n",
       "  </thead>\n",
       "  <tbody>\n",
       "    <tr>\n",
       "      <th>0</th>\n",
       "      <td>Do it! 점프 투 파이썬 (중학생도 첫날부터 실습하는 초고속 입문서)</td>\n",
       "      <td>박응용</td>\n",
       "      <td>20230615</td>\n",
       "    </tr>\n",
       "    <tr>\n",
       "      <th>1</th>\n",
       "      <td>취업과 이직을 위한 프로그래머스 코딩 테스트 문제 풀이 전략 : 파이썬 편 (핵심 ...</td>\n",
       "      <td>김범수</td>\n",
       "      <td>20230223</td>\n",
       "    </tr>\n",
       "    <tr>\n",
       "      <th>2</th>\n",
       "      <td>모두의 파이썬 (20일 만에 배우는 프로그래밍 기초)</td>\n",
       "      <td>이승찬</td>\n",
       "      <td>20181009</td>\n",
       "    </tr>\n",
       "    <tr>\n",
       "      <th>3</th>\n",
       "      <td>파이썬 한권으로 끝내기: 데이터분석전문가(ADP) + 빅데이터분석기사 실기대비 (국...</td>\n",
       "      <td>데싸라면^빨간색 물고기^자투리코드</td>\n",
       "      <td>20230615</td>\n",
       "    </tr>\n",
       "    <tr>\n",
       "      <th>4</th>\n",
       "      <td>코딩은 처음이라 with 파이썬</td>\n",
       "      <td>남규진</td>\n",
       "      <td>20230405</td>\n",
       "    </tr>\n",
       "  </tbody>\n",
       "</table>\n",
       "</div>"
      ],
      "text/plain": [
       "                                                책제목                   작가  \\\n",
       "0           Do it! 점프 투 파이썬 (중학생도 첫날부터 실습하는 초고속 입문서)                 박응용   \n",
       "1  취업과 이직을 위한 프로그래머스 코딩 테스트 문제 풀이 전략 : 파이썬 편 (핵심 ...                 김범수   \n",
       "2                      모두의 파이썬 (20일 만에 배우는 프로그래밍 기초)                 이승찬   \n",
       "3  파이썬 한권으로 끝내기: 데이터분석전문가(ADP) + 빅데이터분석기사 실기대비 (국...  데싸라면^빨간색 물고기^자투리코드   \n",
       "4                                  코딩은 처음이라 with 파이썬                 남규진   \n",
       "\n",
       "        출판일  \n",
       "0  20230615  \n",
       "1  20230223  \n",
       "2  20181009  \n",
       "3  20230615  \n",
       "4  20230405  "
      ]
     },
     "execution_count": 28,
     "metadata": {},
     "output_type": "execute_result"
    }
   ],
   "source": [
    "result_search.head()"
   ]
  },
  {
   "cell_type": "code",
   "execution_count": 29,
   "metadata": {},
   "outputs": [
    {
     "name": "stdout",
     "output_type": "stream",
     "text": [
      "<class 'pandas.core.frame.DataFrame'>\n",
      "Int64Index: 300 entries, 0 to 99\n",
      "Data columns (total 3 columns):\n",
      " #   Column  Non-Null Count  Dtype \n",
      "---  ------  --------------  ----- \n",
      " 0   책제목     300 non-null    object\n",
      " 1   작가      300 non-null    object\n",
      " 2   출판일     300 non-null    object\n",
      "dtypes: object(3)\n",
      "memory usage: 9.4+ KB\n"
     ]
    }
   ],
   "source": [
    "result_search.info()"
   ]
  },
  {
   "attachments": {},
   "cell_type": "markdown",
   "metadata": {},
   "source": [
    "info() 속성으로 관찰해보니 300개의 정보가 잘 왔다. 그런데 index가 0부터 99까지이다.  \n",
    "한 반복문마다 index가 매겨져서 0부터 99까지가 아마 3번 있을 것이다."
   ]
  },
  {
   "cell_type": "code",
   "execution_count": 30,
   "metadata": {},
   "outputs": [
    {
     "name": "stdout",
     "output_type": "stream",
     "text": [
      "<class 'pandas.core.frame.DataFrame'>\n",
      "RangeIndex: 300 entries, 0 to 299\n",
      "Data columns (total 3 columns):\n",
      " #   Column  Non-Null Count  Dtype \n",
      "---  ------  --------------  ----- \n",
      " 0   책제목     300 non-null    object\n",
      " 1   작가      300 non-null    object\n",
      " 2   출판일     300 non-null    object\n",
      "dtypes: object(3)\n",
      "memory usage: 7.2+ KB\n"
     ]
    }
   ],
   "source": [
    "result_search = result_search.reset_index(drop=True)\n",
    "result_search.info()"
   ]
  },
  {
   "attachments": {},
   "cell_type": "markdown",
   "metadata": {},
   "source": [
    "이를 reset_index를 통해 재정렬했다."
   ]
  },
  {
   "attachments": {},
   "cell_type": "markdown",
   "metadata": {},
   "source": [
    "## 4.6 엑셀에 저장하기\n",
    "\n",
    "pandas의 데이터를 xlsxwriter라는 모듈이 도움을 받아 엑셀 파일로 저장할 수 있다.  \n",
    "먼저 xlsxwriter 모듈을 설치해야 한다.\n",
    "```\n",
    "pip installl xlsxwiriter\n",
    "```\n",
    "쉽게 설치할 수 있다."
   ]
  },
  {
   "cell_type": "code",
   "execution_count": 32,
   "metadata": {},
   "outputs": [],
   "source": [
    "writer = pd.ExcelWriter(\"./data/Python_book_info.xlsx\", engine='xlsxwriter')\n",
    "result_search.to_excel(writer, sheet_name='Sheet1')\n",
    "\n",
    "workbook = writer.book\n",
    "worksheet = writer.sheets['Sheet1']\n",
    "\n",
    "format_center = workbook.add_format({'text_wrap' : True})\n",
    "format_center.set_align('center')\n",
    "format_center.set_align('vcenter')\n",
    "\n",
    "worksheet.set_column('A:A', 5)\n",
    "worksheet.set_column('B:B', 90, format_center)\n",
    "worksheet.set_column('C:C', 40, format_center)\n",
    "worksheet.set_column('D:D', 15)\n",
    "\n",
    "writer.save()"
   ]
  },
  {
   "attachments": {},
   "cell_type": "markdown",
   "metadata": {},
   "source": [
    "위 코드를 간략히 보자.  \n",
    "1번행에서 pandas의 ExcelWriter를 이용해서 저장할 경로를 지정해 주고, 엑셀 파일로 저장하는 엔진으로 xlsxwriter를 설정한다.  \n",
    "엑셀 파일로 저장하는 엔진으로 그림 4-16에서 설치한 xlsxwriter를 설정한다.  \n",
    "엑셀에서 볼 때 많은 설정 중에 몇 가지만 적용해 보도록 하자.  \n",
    "  \n",
    "7번 행은 엑셀에서 자동 줄바꿈 설정을 format_center라는 변수에 선언해 둔다.\n",
    "또 8~9번 행에서 추가로 가로 방향, 세로 방향 가운데 보기도 설정했다.  \n",
    "  \n",
    "11번부터 14번까지, 칸의 넓이를 설정하고, B와 C 칼럼은 방금 속성을 저장한 format_center 변수의 내용을 적용하도록 했다."
   ]
  },
  {
   "attachments": {},
   "cell_type": "markdown",
   "metadata": {},
   "source": [
    "그 결과가 './data/Python_book_info.xlsx'와 같이 나타난다. 꽤 많은 기능을 제공하고 있는데, 이 책에서 일일이 설명하는 것은 무리라고 한다.  \n",
    "https://xlsxwriter.readthedocs.io/index.html 사이트에서 더 많은 강력한 기능을 소개 받을 수 있다. "
   ]
  }
 ],
 "metadata": {
  "kernelspec": {
   "display_name": "Python 3 (ipykernel)",
   "language": "python",
   "name": "python3"
  },
  "language_info": {
   "codemirror_mode": {
    "name": "ipython",
    "version": 3
   },
   "file_extension": ".py",
   "mimetype": "text/x-python",
   "name": "python",
   "nbconvert_exporter": "python",
   "pygments_lexer": "ipython3",
   "version": "3.6.13"
  }
 },
 "nbformat": 4,
 "nbformat_minor": 2
}
