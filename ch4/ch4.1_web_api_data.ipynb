{
 "cells": [
  {
   "attachments": {},
   "cell_type": "markdown",
   "metadata": {},
   "source": [
    "네이버는 파이썬 코드를 예제로 제공하는데 그 예제를 이용해서 간단하게 결과를 얻어 보겠다  \n",
    "일단, API를 사용하기 위해 접근 url을 알아야 한다.  \n",
    "각 검색 분야별 사용하는 URL은 다음과 같다. \n",
    "\n",
    "|종류|링크|\n",
    "|:---:|:---:|\n",
    "|블로그|https://openapi.naver.com/v1/search/blog.json|\n",
    "|뉴스|https://openapi.naver.com/v1/search/news.json|\n",
    "|책|https://openapi.naver.com/v1/search/books.json|\n",
    "|백과사전|https://openapi.naver.com/v1/search/encyc.json|\n",
    "|영화|https://openapi.naver.com/v1/search/movie/json|\n",
    "|카페글|https://openapi.naver.com/v1/search/cafearticle.json|\n",
    "|지식인|https://openapi.naver.com/v1/search/kin.json|\n",
    "|웹문서|https://openapi.naver.com/v1/search/webkr.json|\n",
    "|쇼핑|https://openapi.naver.com/v1/search/shop.json|"
   ]
  },
  {
   "cell_type": "code",
   "execution_count": 25,
   "metadata": {},
   "outputs": [],
   "source": [
    "import urllib.request\n",
    "client_id=\"fFs_uErHvCbOX3GdrzEj\"\n",
    "client_secret=\"BvThmXhJXe\""
   ]
  },
  {
   "attachments": {},
   "cell_type": "markdown",
   "metadata": {},
   "source": [
    "먼저 위 코드와 같이 naver api에 웹을 등록하면서 얻은 Client ID/secret 정보를 저장해둔다.  \n",
    "여기서 사용된 \n",
    "```\n",
    "import urllib.request\n",
    "```\n",
    "urllib.request 모듈은 주어진 url을 이용해 웹에서 데이터를 얻어오는 역할을 하는 모듈이다."
   ]
  },
  {
   "cell_type": "code",
   "execution_count": 26,
   "metadata": {},
   "outputs": [
    {
     "data": {
      "text/plain": [
       "'https://openapi.naver.com/v1/search/blog.json?query=pinkwink'"
      ]
     },
     "execution_count": 26,
     "metadata": {},
     "output_type": "execute_result"
    }
   ],
   "source": [
    "encText = urllib.parse.quote(\"pinkwink\")\n",
    "url = \"https://openapi.naver.com/v1/search/blog.json?query=\" + encText\n",
    "url"
   ]
  },
  {
   "attachments": {},
   "cell_type": "markdown",
   "metadata": {},
   "source": [
    "네이버 API는 위 코드처럼 블로그 검색을 선택한 url에서 물음표(?) 후에 query를 붙여서 그 뒤에 나오는 단어를 검색한 결과를 얻게 된다.  \n",
    "검색어로는 pinkwink를 사용하겠다.  \n",
    "여기서\n",
    "```\n",
    "urllib.parse.quote(\"pinkwink\")\n",
    "```\n",
    "라고 사용된 부분은 한글/영어 구분 없이 입력된 단어를 utf-8로 인코딩해서 url에서 사용할 수 있도록 해주는 기능이다."
   ]
  },
  {
   "cell_type": "code",
   "execution_count": 27,
   "metadata": {},
   "outputs": [],
   "source": [
    "request = urllib.request.Request(url)\n",
    "request.add_header(\"X-Naver-Client-Id\", client_id)\n",
    "request.add_header(\"X-Naver-Client-Secret\", client_secret)"
   ]
  },
  {
   "attachments": {},
   "cell_type": "markdown",
   "metadata": {},
   "source": [
    "이제 미리 만들어진 url을 urllib.request.Request 명령을 이용해서 응답을 얻어온다.  \n",
    "이때, Client ID/secret 정보를 헤더(header)에 포함해서 보내면 인증과정도 지나가게 된다."
   ]
  },
  {
   "cell_type": "code",
   "execution_count": 28,
   "metadata": {},
   "outputs": [
    {
     "name": "stdout",
     "output_type": "stream",
     "text": [
      "200\n"
     ]
    }
   ],
   "source": [
    "response = urllib.request.urlopen(request)\n",
    "print(response.getcode())"
   ]
  },
  {
   "cell_type": "code",
   "execution_count": 29,
   "metadata": {},
   "outputs": [
    {
     "data": {
      "text/plain": [
       "http.client.HTTPResponse"
      ]
     },
     "execution_count": 29,
     "metadata": {},
     "output_type": "execute_result"
    }
   ],
   "source": [
    "type(response)"
   ]
  },
  {
   "cell_type": "code",
   "execution_count": 30,
   "metadata": {},
   "outputs": [
    {
     "name": "stdout",
     "output_type": "stream",
     "text": [
      "{\n",
      "\t\"lastBuildDate\":\"Wed, 28 Jun 2023 18:12:13 +0900\",\n",
      "\t\"total\":1250,\n",
      "\t\"start\":1,\n",
      "\t\"display\":10,\n",
      "\t\"items\":[\n",
      "\t\t{\n",
      "\t\t\t\"title\":\"2022년 <b>PinkWink<\\/b> 결산\",\n",
      "\t\t\t\"link\":\"https:\\/\\/pinkwink.kr\\/1403\",\n",
      "\t\t\t\"description\":\"일상생활\\/끄적거림 2022년 <b>PinkWink<\\/b> 결산 <b>PinkWink<\\/b> 2023. 1. 1. 06:00 2022년도 마지막 날입니다. 지금 저는 가족 여행으로 괌에 와 있는데요. 문득 올 한 해를 마무리하는 글을 작성하고 싶어지네요. 예전에는... \",\n",
      "\t\t\t\"bloggername\":\"PinkWink\",\n",
      "\t\t\t\"bloggerlink\":\"https:\\/\\/pinkwink.kr\\/\",\n",
      "\t\t\t\"postdate\":\"20230101\"\n",
      "\t\t},\n",
      "\t\t{\n",
      "\t\t\t\"title\":\"<b>PinkWink<\\/b> darknet_ros, jetpack4.5.1에서 빌드 실패\",\n",
      "\t\t\t\"link\":\"https:\\/\\/blog.naver.com\\/zeta0807\\/222461538224\",\n",
      "\t\t\t\"description\":\"site\\/BLDC-fbd4f8bd75424563b074d8adb3c858fa https:\\/\\/<b>pinkwink<\\/b>.kr\\/1342을 참고하면 Jetson Nano 에서... darknet_ros 다운로드 아래 명령어로 <b>PinkWink<\\/b> darknet_ros를 내려받았다. 전체 로그는... \",\n",
      "\t\t\t\"bloggername\":\"제타의 AIoT 나들이\",\n",
      "\t\t\t\"bloggerlink\":\"blog.naver.com\\/zeta0807\",\n",
      "\t\t\t\"postdate\":\"20210808\"\n",
      "\t\t},\n",
      "\t\t{\n",
      "\t\t\t\"title\":\"<b>PinkWink<\\/b> 블로그에서 온 선물..\",\n",
      "\t\t\t\"link\":\"https:\\/\\/blog.naver.com\\/chandong83\\/221531853244\",\n",
      "\t\t\t\"description\":\"국내 최고 아이티 블로그인 <b>PinkWink<\\/b> 블로거이신 민형기 박사님께서 선물을 보내주셨다~ 크.. 이런 영광이!!!! 잘 쓰겠습니다~ 박사님!!! 나도 나중에 블로그 잘 운영해서 이런 선물도 나눠줘 보고 싶다~~ㅋ 요즘... \",\n",
      "\t\t\t\"bloggername\":\"하이! 제니스\",\n",
      "\t\t\t\"bloggerlink\":\"blog.naver.com\\/chandong83\",\n",
      "\t\t\t\"postdate\":\"20190507\"\n",
      "\t\t},\n",
      "\t\t{\n",
      "\t\t\t\"title\":\"<b>PinkWink<\\/b>님의 DC모터 시정수 구하기.\",\n",
      "\t\t\t\"link\":\"https:\\/\\/blog.naver.com\\/hjh2578\\/222172280836\",\n",
      "\t\t\t\"description\":\"현재 밸런싱 봇 제작에 난항을 겪고 있어 해당 시정수를 측정하기 위한 방법을 구글링 해두었음 https:\\/\\/<b>pinkwink<\\/b>.kr\\/336 현재 갖고 있는 밸런싱봇에는 MCP4922라는 DA컨버터를 별도로 설계하여... \",\n",
      "\t\t\t\"bloggername\":\"닥현의 회로연구\",\n",
      "\t\t\t\"bloggerlink\":\"blog.naver.com\\/hjh2578\",\n",
      "\t\t\t\"postdate\":\"20201213\"\n",
      "\t\t},\n",
      "\t\t{\n",
      "\t\t\t\"title\":\"자료 주소, <b>PinkWink<\\/b>, DataScience; 시카고 샌드위치 맛집 주소\",\n",
      "\t\t\t\"link\":\"https:\\/\\/blog.naver.com\\/doitnow-company\\/222090851064\",\n",
      "\t\t\t\"description\":\"책(파이썬으로 데이터 주무르기) 내용 자료 주소, <b>PinkWink<\\/b>, DataScience #3장 #시카고 #샌드위치 #맛집 #분석 #주소 - 교재 발간당시와 현재의 웹페이지가 바뀌어서, 교재에... \",\n",
      "\t\t\t\"bloggername\":\"날마다 성장하는 즐거움\",\n",
      "\t\t\t\"bloggerlink\":\"blog.naver.com\\/doitnow-company\",\n",
      "\t\t\t\"postdate\":\"20200916\"\n",
      "\t\t},\n",
      "\t\t{\n",
      "\t\t\t\"title\":\"<b>PinkWink<\\/b>님의 미바뤼 돌촬영 후기 :)\",\n",
      "\t\t\t\"link\":\"https:\\/\\/blog.naver.com\\/creta01\\/220191244266\",\n",
      "\t\t\t\"description\":\"원본출처 : <b>PinkWink<\\/b>님 블로그 :) http:\\/\\/<b>pinkwink<\\/b>.kr\\/678\",\n",
      "\t\t\t\"bloggername\":\"A moment in life\",\n",
      "\t\t\t\"bloggerlink\":\"blog.naver.com\\/creta01\",\n",
      "\t\t\t\"postdate\":\"20141125\"\n",
      "\t\t},\n",
      "\t\t{\n",
      "\t\t\t\"title\":\"[공유] <b>PinkWink<\\/b> :: 저역통과필터와 고역통과필터를 C로 구현\",\n",
      "\t\t\t\"link\":\"https:\\/\\/blog.naver.com\\/kangusreport\\/221870399107\",\n",
      "\t\t\t\"description\":\"<b>PinkWink<\\/b> :: 저역통과필터와 고역통과필터를 C로 구현\",\n",
      "\t\t\t\"bloggername\":\"Dex Note\",\n",
      "\t\t\t\"bloggerlink\":\"blog.naver.com\\/kangusreport\",\n",
      "\t\t\t\"postdate\":\"20200324\"\n",
      "\t\t},\n",
      "\t\t{\n",
      "\t\t\t\"title\":\"[공유] <b>PinkWink<\\/b> :: Python에서 OpenCV를 이용해서... \",\n",
      "\t\t\t\"link\":\"https:\\/\\/blog.naver.com\\/hersheythings\\/222221161855\",\n",
      "\t\t\t\"description\":\"<b>PinkWink<\\/b> :: Python에서 OpenCV를 이용해서 초간편하게 사람 얼굴, 몸을 인식하기\",\n",
      "\t\t\t\"bloggername\":\"허씨네 이야기\",\n",
      "\t\t\t\"bloggerlink\":\"blog.naver.com\\/hersheythings\",\n",
      "\t\t\t\"postdate\":\"20210127\"\n",
      "\t\t},\n",
      "\t\t{\n",
      "\t\t\t\"title\":\"http:\\/\\/<b>pinkwink<\\/b>.kr\\/218\",\n",
      "\t\t\t\"link\":\"https:\\/\\/blog.naver.com\\/eleconomy\\/220548423642\",\n",
      "\t\t\t\"description\":\"http:\\/\\/<b>pinkwink<\\/b>.kr\\/218\",\n",
      "\t\t\t\"bloggername\":\"재활용업체아님\",\n",
      "\t\t\t\"bloggerlink\":\"blog.naver.com\\/eleconomy\",\n",
      "\t\t\t\"postdate\":\"20151124\"\n",
      "\t\t},\n",
      "\t\t{\n",
      "\t\t\t\"title\":\"2019년 <b>PinkWink<\\/b> 블로그 결산\",\n",
      "\t\t\t\"link\":\"https:\\/\\/pinkwink.tistory.com\\/1259\",\n",
      "\t\t\t\"description\":\"또 이렇게 2019년이 지나가려고 합니다. 2017년이 끝날때쯤엔, 제 블로그가 입주해 있는 티스토리로부터 2017년 우수 블로그로 상품을 받았었습니다.^^ 2017년 우수 블로그로 선정되었던 내용 그리고 2018년이... \",\n",
      "\t\t\t\"bloggername\":\"PinkWink\",\n",
      "\t\t\t\"bloggerlink\":\"https:\\/\\/pinkwink.tistory.com\\/\",\n",
      "\t\t\t\"postdate\":\"20191223\"\n",
      "\t\t}\n",
      "\t]\n",
      "}\n"
     ]
    }
   ],
   "source": [
    "print(response.read().decode('utf-8'))"
   ]
  },
  {
   "attachments": {},
   "cell_type": "markdown",
   "metadata": {},
   "source": [
    "response에 read()로 결과를 읽어서, 한글을 해석하기 위해 decode 옵션을 utf-8로 설정하면 pinkwink라는 단어를 네이버 블로그에서 검색한 결과가 나타난다.  \n",
    "실습할 때는 결과가 다를 것인데, 실제로 검색하는 시점이 다르기 때문이다.  \n",
    "또한, 전체 검색 결과가 2023년 6월 28일 18:12:13 기준으로 총 1250개, 시작이 1이고 표시(display)가 10이라고 되어 있다.  \n",
    "검색 url을 만들 때, 이런 부분들이 더 보강될 수 있다."
   ]
  }
 ],
 "metadata": {
  "kernelspec": {
   "display_name": "Python 3 (ipykernel)",
   "language": "python",
   "name": "python3"
  },
  "language_info": {
   "codemirror_mode": {
    "name": "ipython",
    "version": 3
   },
   "file_extension": ".py",
   "mimetype": "text/x-python",
   "name": "python",
   "nbconvert_exporter": "python",
   "pygments_lexer": "ipython3",
   "version": "3.6.13"
  }
 },
 "nbformat": 4,
 "nbformat_minor": 2
}
