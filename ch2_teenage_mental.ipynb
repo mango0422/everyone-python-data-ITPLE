{
 "cells": [
  {
   "cell_type": "code",
   "execution_count": 1,
   "metadata": {},
   "outputs": [],
   "source": [
    "import pandas as pd"
   ]
  },
  {
   "cell_type": "code",
   "execution_count": 2,
   "metadata": {},
   "outputs": [
    {
     "data": {
      "text/plain": [
       "DatetimeIndex(['2019-03-01', '2019-03-02', '2019-03-03', '2019-03-04',\n",
       "               '2019-03-05', '2019-03-06'],\n",
       "              dtype='datetime64[ns]', freq='D')"
      ]
     },
     "execution_count": 2,
     "metadata": {},
     "output_type": "execute_result"
    }
   ],
   "source": [
    "dates = pd.date_range('20190301', periods=6)\n",
    "dates"
   ]
  },
  {
   "attachments": {},
   "cell_type": "markdown",
   "metadata": {},
   "source": [
    "위 코드는 pandas의 날짜형 변수를 사용하는 것으로 2019년 3월 1일부터 6일간을 dates라는 변수에 저장한 것이다. 날짜 등을 다루는 시계열 관련 함수를 지원한다는 것은 꽤 중요하다. 어떤 달은 31일, 어떤 달은 28일, 게다가 몇 년에 한번 29일. 이런 생각을 하지 않아도 된다는 것 하나만 봐도 중요한 일이다. pandas의 date_range 함수를 이용해서 날짜를 생성할 수 있다."
   ]
  },
  {
   "cell_type": "code",
   "execution_count": 3,
   "metadata": {},
   "outputs": [
    {
     "data": {
      "text/html": [
       "<div>\n",
       "<style scoped>\n",
       "    .dataframe tbody tr th:only-of-type {\n",
       "        vertical-align: middle;\n",
       "    }\n",
       "\n",
       "    .dataframe tbody tr th {\n",
       "        vertical-align: top;\n",
       "    }\n",
       "\n",
       "    .dataframe thead th {\n",
       "        text-align: right;\n",
       "    }\n",
       "</style>\n",
       "<table border=\"1\" class=\"dataframe\">\n",
       "  <thead>\n",
       "    <tr style=\"text-align: right;\">\n",
       "      <th></th>\n",
       "      <th>A</th>\n",
       "      <th>B</th>\n",
       "      <th>C</th>\n",
       "      <th>D</th>\n",
       "    </tr>\n",
       "  </thead>\n",
       "  <tbody>\n",
       "    <tr>\n",
       "      <th>2019-03-01</th>\n",
       "      <td>0.462490</td>\n",
       "      <td>0.959111</td>\n",
       "      <td>-1.921671</td>\n",
       "      <td>0.567598</td>\n",
       "    </tr>\n",
       "    <tr>\n",
       "      <th>2019-03-02</th>\n",
       "      <td>-0.291081</td>\n",
       "      <td>-1.120116</td>\n",
       "      <td>1.335347</td>\n",
       "      <td>-0.561756</td>\n",
       "    </tr>\n",
       "    <tr>\n",
       "      <th>2019-03-03</th>\n",
       "      <td>0.327963</td>\n",
       "      <td>-0.062060</td>\n",
       "      <td>1.077805</td>\n",
       "      <td>-0.700923</td>\n",
       "    </tr>\n",
       "    <tr>\n",
       "      <th>2019-03-04</th>\n",
       "      <td>0.829118</td>\n",
       "      <td>-0.212455</td>\n",
       "      <td>-0.535469</td>\n",
       "      <td>0.675900</td>\n",
       "    </tr>\n",
       "    <tr>\n",
       "      <th>2019-03-05</th>\n",
       "      <td>-1.573969</td>\n",
       "      <td>0.481816</td>\n",
       "      <td>0.596456</td>\n",
       "      <td>-1.160958</td>\n",
       "    </tr>\n",
       "    <tr>\n",
       "      <th>2019-03-06</th>\n",
       "      <td>0.244991</td>\n",
       "      <td>0.652616</td>\n",
       "      <td>-1.378914</td>\n",
       "      <td>-0.003947</td>\n",
       "    </tr>\n",
       "  </tbody>\n",
       "</table>\n",
       "</div>"
      ],
      "text/plain": [
       "                   A         B         C         D\n",
       "2019-03-01  0.462490  0.959111 -1.921671  0.567598\n",
       "2019-03-02 -0.291081 -1.120116  1.335347 -0.561756\n",
       "2019-03-03  0.327963 -0.062060  1.077805 -0.700923\n",
       "2019-03-04  0.829118 -0.212455 -0.535469  0.675900\n",
       "2019-03-05 -1.573969  0.481816  0.596456 -1.160958\n",
       "2019-03-06  0.244991  0.652616 -1.378914 -0.003947"
      ]
     },
     "execution_count": 3,
     "metadata": {},
     "output_type": "execute_result"
    }
   ],
   "source": [
    "import numpy as np\n",
    "df=pd.DataFrame(np.random.randn(6,4), index=dates, columns=['A','B','C','D'])\n",
    "df"
   ]
  },
  {
   "attachments": {},
   "cell_type": "markdown",
   "metadata": {},
   "source": [
    "DataFrame은 pandas의 기본이 되는 중요한 구조이자 그 구조를 이용해서 데이터를 만드는 명령이다.  \n",
    "먼저 랜덤 변수를 6행, 4열로 만들기 위해 numpy라는 수치 연산 관련 모듈을 np라는 이름으로 import했다."
   ]
  },
  {
   "attachments": {},
   "cell_type": "markdown",
   "metadata": {},
   "source": [
    "<img src=\"./ch2/img/img2-1.png\"/>\n",
    "\n",
    "그림 2-1.pandas DataFrame의 구조"
   ]
  },
  {
   "attachments": {},
   "cell_type": "markdown",
   "metadata": {},
   "source": [
    "DataFrame은 그림 2-1에 있듯이 세로 방향의 축 제목을 의미하는 칼럼(column)과 각 행의 이름을 의미하는 인덱스(index) 그리고 내용인 밸류(value)로 되어 있다.  \n",
    "바로 위의 코드 3은 numpy가 제공하는 랜덤 변수로 밸류를 채웠다. 그리고, 코드2에서 만든 날짜로 인덱스를 지정하고, 칼럼 이름은 직접 'A','B','C','D'라고 입력한 것이다.  \n",
    "이렇게 해서 DataFrame을 만들 수 있다."
   ]
  },
  {
   "cell_type": "code",
   "execution_count": 4,
   "metadata": {},
   "outputs": [
    {
     "data": {
      "text/plain": [
       "pandas.core.frame.DataFrame"
      ]
     },
     "execution_count": 4,
     "metadata": {},
     "output_type": "execute_result"
    }
   ],
   "source": [
    "type(df)"
   ]
  },
  {
   "cell_type": "code",
   "execution_count": 5,
   "metadata": {},
   "outputs": [
    {
     "data": {
      "text/plain": [
       "Index(['A', 'B', 'C', 'D'], dtype='object')"
      ]
     },
     "execution_count": 5,
     "metadata": {},
     "output_type": "execute_result"
    }
   ],
   "source": [
    "df.columns"
   ]
  },
  {
   "cell_type": "code",
   "execution_count": 6,
   "metadata": {},
   "outputs": [
    {
     "data": {
      "text/plain": [
       "DatetimeIndex(['2019-03-01', '2019-03-02', '2019-03-03', '2019-03-04',\n",
       "               '2019-03-05', '2019-03-06'],\n",
       "              dtype='datetime64[ns]', freq='D')"
      ]
     },
     "execution_count": 6,
     "metadata": {},
     "output_type": "execute_result"
    }
   ],
   "source": [
    "df.index"
   ]
  },
  {
   "cell_type": "code",
   "execution_count": 7,
   "metadata": {},
   "outputs": [
    {
     "data": {
      "text/plain": [
       "array([[ 0.46248955,  0.95911111, -1.92167093,  0.56759763],\n",
       "       [-0.29108125, -1.1201159 ,  1.335347  , -0.56175611],\n",
       "       [ 0.32796318, -0.06206022,  1.0778049 , -0.70092291],\n",
       "       [ 0.82911785, -0.21245469, -0.5354688 ,  0.67590021],\n",
       "       [-1.57396899,  0.48181581,  0.59645621, -1.16095801],\n",
       "       [ 0.24499149,  0.65261639, -1.37891449, -0.00394655]])"
      ]
     },
     "execution_count": 7,
     "metadata": {},
     "output_type": "execute_result"
    }
   ],
   "source": [
    "df.values"
   ]
  },
  {
   "attachments": {},
   "cell_type": "markdown",
   "metadata": {},
   "source": [
    "방금 DataFrame을 저장하는 변수 df에서 칼럼과 인덱스, 밸류를 조회할 수 있다.  \n",
    "먼저 type 함수는 해당 변수 혹은 함수의 형(type)을 알려준다. 당연한 이야기지만, df변수는 pandas의 DataFrame클래스이다.  \n",
    "그리고, df 변수에서 columns, index, values 속성을 모두 조회할 수 있다."
   ]
  },
  {
   "cell_type": "code",
   "execution_count": 8,
   "metadata": {},
   "outputs": [
    {
     "data": {
      "text/html": [
       "<div>\n",
       "<style scoped>\n",
       "    .dataframe tbody tr th:only-of-type {\n",
       "        vertical-align: middle;\n",
       "    }\n",
       "\n",
       "    .dataframe tbody tr th {\n",
       "        vertical-align: top;\n",
       "    }\n",
       "\n",
       "    .dataframe thead th {\n",
       "        text-align: right;\n",
       "    }\n",
       "</style>\n",
       "<table border=\"1\" class=\"dataframe\">\n",
       "  <thead>\n",
       "    <tr style=\"text-align: right;\">\n",
       "      <th></th>\n",
       "      <th>A</th>\n",
       "      <th>B</th>\n",
       "      <th>C</th>\n",
       "      <th>D</th>\n",
       "    </tr>\n",
       "  </thead>\n",
       "  <tbody>\n",
       "    <tr>\n",
       "      <th>count</th>\n",
       "      <td>6.000000</td>\n",
       "      <td>6.000000</td>\n",
       "      <td>6.000000</td>\n",
       "      <td>6.000000</td>\n",
       "    </tr>\n",
       "    <tr>\n",
       "      <th>mean</th>\n",
       "      <td>-0.000081</td>\n",
       "      <td>0.116485</td>\n",
       "      <td>-0.137741</td>\n",
       "      <td>-0.197348</td>\n",
       "    </tr>\n",
       "    <tr>\n",
       "      <th>std</th>\n",
       "      <td>0.852176</td>\n",
       "      <td>0.748356</td>\n",
       "      <td>1.346677</td>\n",
       "      <td>0.734851</td>\n",
       "    </tr>\n",
       "    <tr>\n",
       "      <th>min</th>\n",
       "      <td>-1.573969</td>\n",
       "      <td>-1.120116</td>\n",
       "      <td>-1.921671</td>\n",
       "      <td>-1.160958</td>\n",
       "    </tr>\n",
       "    <tr>\n",
       "      <th>25%</th>\n",
       "      <td>-0.157063</td>\n",
       "      <td>-0.174856</td>\n",
       "      <td>-1.168053</td>\n",
       "      <td>-0.666131</td>\n",
       "    </tr>\n",
       "    <tr>\n",
       "      <th>50%</th>\n",
       "      <td>0.286477</td>\n",
       "      <td>0.209878</td>\n",
       "      <td>0.030494</td>\n",
       "      <td>-0.282851</td>\n",
       "    </tr>\n",
       "    <tr>\n",
       "      <th>75%</th>\n",
       "      <td>0.428858</td>\n",
       "      <td>0.609916</td>\n",
       "      <td>0.957468</td>\n",
       "      <td>0.424712</td>\n",
       "    </tr>\n",
       "    <tr>\n",
       "      <th>max</th>\n",
       "      <td>0.829118</td>\n",
       "      <td>0.959111</td>\n",
       "      <td>1.335347</td>\n",
       "      <td>0.675900</td>\n",
       "    </tr>\n",
       "  </tbody>\n",
       "</table>\n",
       "</div>"
      ],
      "text/plain": [
       "              A         B         C         D\n",
       "count  6.000000  6.000000  6.000000  6.000000\n",
       "mean  -0.000081  0.116485 -0.137741 -0.197348\n",
       "std    0.852176  0.748356  1.346677  0.734851\n",
       "min   -1.573969 -1.120116 -1.921671 -1.160958\n",
       "25%   -0.157063 -0.174856 -1.168053 -0.666131\n",
       "50%    0.286477  0.209878  0.030494 -0.282851\n",
       "75%    0.428858  0.609916  0.957468  0.424712\n",
       "max    0.829118  0.959111  1.335347  0.675900"
      ]
     },
     "execution_count": 8,
     "metadata": {},
     "output_type": "execute_result"
    }
   ],
   "source": [
    "df.describe()"
   ]
  },
  {
   "attachments": {},
   "cell_type": "markdown",
   "metadata": {},
   "source": [
    "랜덤 변수를 사용했기 때문에 의미는 없지만, 통계적 개요를 보여주는 describe 함수가 있다.  \n",
    "개수, 평균, 표준편차, 최댓값/최솟값 등을 한눈에 알려준다."
   ]
  },
  {
   "cell_type": "code",
   "execution_count": 10,
   "metadata": {},
   "outputs": [
    {
     "data": {
      "text/html": [
       "<div>\n",
       "<style scoped>\n",
       "    .dataframe tbody tr th:only-of-type {\n",
       "        vertical-align: middle;\n",
       "    }\n",
       "\n",
       "    .dataframe tbody tr th {\n",
       "        vertical-align: top;\n",
       "    }\n",
       "\n",
       "    .dataframe thead th {\n",
       "        text-align: right;\n",
       "    }\n",
       "</style>\n",
       "<table border=\"1\" class=\"dataframe\">\n",
       "  <thead>\n",
       "    <tr style=\"text-align: right;\">\n",
       "      <th></th>\n",
       "      <th>A</th>\n",
       "      <th>B</th>\n",
       "      <th>C</th>\n",
       "      <th>D</th>\n",
       "    </tr>\n",
       "  </thead>\n",
       "  <tbody>\n",
       "    <tr>\n",
       "      <th>2019-03-05</th>\n",
       "      <td>-1.573969</td>\n",
       "      <td>0.481816</td>\n",
       "      <td>0.596456</td>\n",
       "      <td>-1.160958</td>\n",
       "    </tr>\n",
       "    <tr>\n",
       "      <th>2019-03-02</th>\n",
       "      <td>-0.291081</td>\n",
       "      <td>-1.120116</td>\n",
       "      <td>1.335347</td>\n",
       "      <td>-0.561756</td>\n",
       "    </tr>\n",
       "    <tr>\n",
       "      <th>2019-03-06</th>\n",
       "      <td>0.244991</td>\n",
       "      <td>0.652616</td>\n",
       "      <td>-1.378914</td>\n",
       "      <td>-0.003947</td>\n",
       "    </tr>\n",
       "    <tr>\n",
       "      <th>2019-03-03</th>\n",
       "      <td>0.327963</td>\n",
       "      <td>-0.062060</td>\n",
       "      <td>1.077805</td>\n",
       "      <td>-0.700923</td>\n",
       "    </tr>\n",
       "    <tr>\n",
       "      <th>2019-03-01</th>\n",
       "      <td>0.462490</td>\n",
       "      <td>0.959111</td>\n",
       "      <td>-1.921671</td>\n",
       "      <td>0.567598</td>\n",
       "    </tr>\n",
       "    <tr>\n",
       "      <th>2019-03-04</th>\n",
       "      <td>0.829118</td>\n",
       "      <td>-0.212455</td>\n",
       "      <td>-0.535469</td>\n",
       "      <td>0.675900</td>\n",
       "    </tr>\n",
       "  </tbody>\n",
       "</table>\n",
       "</div>"
      ],
      "text/plain": [
       "                   A         B         C         D\n",
       "2019-03-05 -1.573969  0.481816  0.596456 -1.160958\n",
       "2019-03-02 -0.291081 -1.120116  1.335347 -0.561756\n",
       "2019-03-06  0.244991  0.652616 -1.378914 -0.003947\n",
       "2019-03-03  0.327963 -0.062060  1.077805 -0.700923\n",
       "2019-03-01  0.462490  0.959111 -1.921671  0.567598\n",
       "2019-03-04  0.829118 -0.212455 -0.535469  0.675900"
      ]
     },
     "execution_count": 10,
     "metadata": {},
     "output_type": "execute_result"
    }
   ],
   "source": [
    "df.sort_values(by='A')"
   ]
  },
  {
   "cell_type": "code",
   "execution_count": 9,
   "metadata": {},
   "outputs": [
    {
     "data": {
      "text/html": [
       "<div>\n",
       "<style scoped>\n",
       "    .dataframe tbody tr th:only-of-type {\n",
       "        vertical-align: middle;\n",
       "    }\n",
       "\n",
       "    .dataframe tbody tr th {\n",
       "        vertical-align: top;\n",
       "    }\n",
       "\n",
       "    .dataframe thead th {\n",
       "        text-align: right;\n",
       "    }\n",
       "</style>\n",
       "<table border=\"1\" class=\"dataframe\">\n",
       "  <thead>\n",
       "    <tr style=\"text-align: right;\">\n",
       "      <th></th>\n",
       "      <th>A</th>\n",
       "      <th>B</th>\n",
       "      <th>C</th>\n",
       "      <th>D</th>\n",
       "    </tr>\n",
       "  </thead>\n",
       "  <tbody>\n",
       "    <tr>\n",
       "      <th>2019-03-04</th>\n",
       "      <td>0.829118</td>\n",
       "      <td>-0.212455</td>\n",
       "      <td>-0.535469</td>\n",
       "      <td>0.675900</td>\n",
       "    </tr>\n",
       "    <tr>\n",
       "      <th>2019-03-01</th>\n",
       "      <td>0.462490</td>\n",
       "      <td>0.959111</td>\n",
       "      <td>-1.921671</td>\n",
       "      <td>0.567598</td>\n",
       "    </tr>\n",
       "    <tr>\n",
       "      <th>2019-03-03</th>\n",
       "      <td>0.327963</td>\n",
       "      <td>-0.062060</td>\n",
       "      <td>1.077805</td>\n",
       "      <td>-0.700923</td>\n",
       "    </tr>\n",
       "    <tr>\n",
       "      <th>2019-03-06</th>\n",
       "      <td>0.244991</td>\n",
       "      <td>0.652616</td>\n",
       "      <td>-1.378914</td>\n",
       "      <td>-0.003947</td>\n",
       "    </tr>\n",
       "    <tr>\n",
       "      <th>2019-03-02</th>\n",
       "      <td>-0.291081</td>\n",
       "      <td>-1.120116</td>\n",
       "      <td>1.335347</td>\n",
       "      <td>-0.561756</td>\n",
       "    </tr>\n",
       "    <tr>\n",
       "      <th>2019-03-05</th>\n",
       "      <td>-1.573969</td>\n",
       "      <td>0.481816</td>\n",
       "      <td>0.596456</td>\n",
       "      <td>-1.160958</td>\n",
       "    </tr>\n",
       "  </tbody>\n",
       "</table>\n",
       "</div>"
      ],
      "text/plain": [
       "                   A         B         C         D\n",
       "2019-03-04  0.829118 -0.212455 -0.535469  0.675900\n",
       "2019-03-01  0.462490  0.959111 -1.921671  0.567598\n",
       "2019-03-03  0.327963 -0.062060  1.077805 -0.700923\n",
       "2019-03-06  0.244991  0.652616 -1.378914 -0.003947\n",
       "2019-03-02 -0.291081 -1.120116  1.335347 -0.561756\n",
       "2019-03-05 -1.573969  0.481816  0.596456 -1.160958"
      ]
     },
     "execution_count": 9,
     "metadata": {},
     "output_type": "execute_result"
    }
   ],
   "source": [
    "df.sort_values(by='A', ascending=False)"
   ]
  },
  {
   "attachments": {},
   "cell_type": "markdown",
   "metadata": {},
   "source": [
    "정렬 기능은 sort_values라는 명령으로 수행 가능하다. by 옵션으로 정렬 기준이 되는 칼럼을 지정하고, ascending 옵션으로 내림차순이나 오름차순을 지정할 수 있다.\n",
    "ascending 옵션으로 내림차순이나 오름차순을 지정할 수 있다.\n",
    "ascending 옵션을 지정하지 않으면 기본 상태는 오름차순으로 정렬하는 것이고, False라고 지정하면 내림차순을 지정하는 것이다\n",
    "파이썬에서는 True/False를 지정할 때는 알파벳 첫 글자가 꼭 대문자여야 한다."
   ]
  }
 ],
 "metadata": {
  "kernelspec": {
   "display_name": "study36",
   "language": "python",
   "name": "python3"
  },
  "language_info": {
   "codemirror_mode": {
    "name": "ipython",
    "version": 3
   },
   "file_extension": ".py",
   "mimetype": "text/x-python",
   "name": "python",
   "nbconvert_exporter": "python",
   "pygments_lexer": "ipython3",
   "version": "3.6.13"
  },
  "orig_nbformat": 4
 },
 "nbformat": 4,
 "nbformat_minor": 2
}
