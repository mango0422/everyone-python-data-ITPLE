{
 "cells": [
  {
   "cell_type": "code",
   "execution_count": 1,
   "metadata": {},
   "outputs": [],
   "source": [
    "import pandas as pd\n",
    "col_names = ['스트레스', '스트레스남학생', '스트레스여학생', '우울감경험률', '우울남학생', '우울여학생', '자살생각율', '자살남학생', '자살여학생']\n",
    "raw_data = pd.read_excel(\"./src/teenage_mental.xls\", header=1, usecols=\"B:J\", names=col_names)\n",
    "raw_data.loc[1] = 100. - raw_data.loc[0]\n",
    "raw_data['응답'] = ['그렇다', '아니다']\n",
    "raw_data.set_index('응답', drop=True, inplace=True)\n",
    "\n",
    "import matplotlib.pyplot as plt\n",
    "%matplotlib inline\n",
    "\n",
    "from matplotlib import font_manager, rc\n",
    "plt.rcParams['axes.unicode_minus'] = False\n",
    "\n",
    "# f_path = \"/Library/Fonts/AppleGothic.ttf\"\n",
    "f_path = \"C:/Windows/Fonts/malgun.ttf\"\n",
    "font_name = font_manager.FontProperties(fname=f_path).get_name()\n",
    "rc('font', family=font_name)"
   ]
  },
  {
   "cell_type": "code",
   "execution_count": 2,
   "metadata": {},
   "outputs": [
    {
     "data": {
      "text/html": [
       "<div>\n",
       "<style scoped>\n",
       "    .dataframe tbody tr th:only-of-type {\n",
       "        vertical-align: middle;\n",
       "    }\n",
       "\n",
       "    .dataframe tbody tr th {\n",
       "        vertical-align: top;\n",
       "    }\n",
       "\n",
       "    .dataframe thead th {\n",
       "        text-align: right;\n",
       "    }\n",
       "</style>\n",
       "<table border=\"1\" class=\"dataframe\">\n",
       "  <thead>\n",
       "    <tr style=\"text-align: right;\">\n",
       "      <th></th>\n",
       "      <th>스트레스</th>\n",
       "      <th>스트레스남학생</th>\n",
       "      <th>스트레스여학생</th>\n",
       "      <th>우울감경험률</th>\n",
       "      <th>우울남학생</th>\n",
       "      <th>우울여학생</th>\n",
       "      <th>자살생각율</th>\n",
       "      <th>자살남학생</th>\n",
       "      <th>자살여학생</th>\n",
       "    </tr>\n",
       "    <tr>\n",
       "      <th>응답</th>\n",
       "      <th></th>\n",
       "      <th></th>\n",
       "      <th></th>\n",
       "      <th></th>\n",
       "      <th></th>\n",
       "      <th></th>\n",
       "      <th></th>\n",
       "      <th></th>\n",
       "      <th></th>\n",
       "    </tr>\n",
       "  </thead>\n",
       "  <tbody>\n",
       "    <tr>\n",
       "      <th>그렇다</th>\n",
       "      <td>43.5</td>\n",
       "      <td>38.8</td>\n",
       "      <td>48.6</td>\n",
       "      <td>30.2</td>\n",
       "      <td>25.5</td>\n",
       "      <td>35.1</td>\n",
       "      <td>15.8</td>\n",
       "      <td>11.9</td>\n",
       "      <td>19.9</td>\n",
       "    </tr>\n",
       "    <tr>\n",
       "      <th>아니다</th>\n",
       "      <td>56.5</td>\n",
       "      <td>61.2</td>\n",
       "      <td>51.4</td>\n",
       "      <td>69.8</td>\n",
       "      <td>74.5</td>\n",
       "      <td>64.9</td>\n",
       "      <td>84.2</td>\n",
       "      <td>88.1</td>\n",
       "      <td>80.1</td>\n",
       "    </tr>\n",
       "  </tbody>\n",
       "</table>\n",
       "</div>"
      ],
      "text/plain": [
       "     스트레스  스트레스남학생  스트레스여학생  우울감경험률  우울남학생  우울여학생  자살생각율  자살남학생  자살여학생\n",
       "응답                                                                    \n",
       "그렇다  43.5     38.8     48.6    30.2   25.5   35.1   15.8   11.9   19.9\n",
       "아니다  56.5     61.2     51.4    69.8   74.5   64.9   84.2   88.1   80.1"
      ]
     },
     "execution_count": 2,
     "metadata": {},
     "output_type": "execute_result"
    }
   ],
   "source": [
    "raw_data"
   ]
  },
  {
   "attachments": {},
   "cell_type": "markdown",
   "metadata": {},
   "source": [
    "다시 우리의 데이터를 들여다보자. 우리의 데이터는 '그렇다', '아니다'로 구분되어 있다. 그러므로 파이(pie) 그래프가 좋을 것 같다."
   ]
  },
  {
   "cell_type": "code",
   "execution_count": 3,
   "metadata": {},
   "outputs": [
    {
     "data": {
      "text/plain": [
       "<AxesSubplot:ylabel='스트레스'>"
      ]
     },
     "execution_count": 3,
     "metadata": {},
     "output_type": "execute_result"
    },
    {
     "data": {
      "image/png": "[encoded data removed]",
      "text/plain": [
       "<Figure size 432x288 with 1 Axes>"
      ]
     },
     "metadata": {},
     "output_type": "display_data"
    }
   ],
   "source": [
    "raw_data['스트레스'].plot.pie()"
   ]
  },
  {
   "attachments": {},
   "cell_type": "markdown",
   "metadata": {},
   "source": [
    "Pandas는 옵션처럼 바로 plot을 지원한다. 위 그림을 보면,스트레스를 받아본 경험이 있다고 응답한 10대를 쉽게 구분할 수 있다."
   ]
  },
  {
   "cell_type": "code",
   "execution_count": 5,
   "metadata": {},
   "outputs": [
    {
     "data": {
      "text/plain": [
       "<AxesSubplot:ylabel='스트레스'>"
      ]
     },
     "execution_count": 5,
     "metadata": {},
     "output_type": "execute_result"
    },
    {
     "data": {
      "image/png": "[encoded data removed]",
      "text/plain": [
       "<Figure size 432x288 with 1 Axes>"
      ]
     },
     "metadata": {},
     "output_type": "display_data"
    }
   ],
   "source": [
    "raw_data['스트레스'].plot.pie(explode=[0, 0.02])"
   ]
  },
  {
   "attachments": {},
   "cell_type": "markdown",
   "metadata": {},
   "source": [
    "explode 옵션을 사용하면 파이 그래프의 항목 사이를 원점으로부터 떨어뜨려 준다."
   ]
  },
  {
   "cell_type": "code",
   "execution_count": 7,
   "metadata": {},
   "outputs": [
    {
     "data": {
      "image/png": "[encoded data removed]",
      "text/plain": [
       "<Figure size 1152x576 with 3 Axes>"
      ]
     },
     "metadata": {},
     "output_type": "display_data"
    }
   ],
   "source": [
    "f, ax = plt.subplots(1, 3, figsize=(16, 8))\n",
    "raw_data['스트레스'].plot.pie(explode=[0, 0.02], ax = ax[0], autopct='%1.1f%%')\n",
    "ax[0].set_title('스트레스를 받은 적 있다.')\n",
    "ax[0].set_ylabel('')\n",
    "\n",
    "raw_data['우울감경험률'].plot.pie(explode=[0, 0.02], ax=ax[1], autopct='%1.1f%%')\n",
    "ax[1].set_title('우울증을 경험한 적 있다.')\n",
    "ax[1].set_ylabel('')\n",
    "\n",
    "raw_data['자살생각율'].plot.pie(explode=[0, 0.02], ax=ax[2], autopct='%1.1f%%')\n",
    "ax[2].set_title('자살을 고민한 적 있다.')\n",
    "ax[2].set_ylabel('')\n",
    "\n",
    "plt.show()"
   ]
  },
  {
   "attachments": {},
   "cell_type": "markdown",
   "metadata": {},
   "source": [
    "갑자기 복잡한 코드가 나왔다고 놀라지 않아도 된다. 하나씩 천천히 보자.  \n",
    "```\n",
    "f, ax = plt.subplots(1, 3, figsize=(16,8))\n",
    "```\n",
    "이 코드는 1행 3열로 plot을 배치한다는 의미와 전체 그림의 크기를 설정하는 옵션을 줄 수 있다.  \n",
    "matplotlib.pyplot.subplots는 figure와 axes 오브젝트를 반환하는데, 위 코드처럼 f, ax로 받으면, figure와 axes의 속성을 하나하나 지정할 수 있다.  \n",
    "특히 subplot으로 3개를 그리겠다고 했기 때문에, ax는 ax[0], ax[1], ax[2]까지 속성을 각각 지정할 수 있다.  \n",
    "그래서 set_title, set_ylabel를 각각 제목과 y라벨을 지정해서 그릴 수 있다.  \n",
    "위 코드의 결과를 보면, 서울시의 10대들 중 몇 %나 스트레스를 받은적 있다고 응답했는지를 알 수 있으며, 우울증을 경험한 적 있는 10대와 자살을 고민한 10대의 비율도 알 수 있다."
   ]
  }
 ],
 "metadata": {
  "kernelspec": {
   "display_name": "study36",
   "language": "python",
   "name": "python3"
  },
  "language_info": {
   "codemirror_mode": {
    "name": "ipython",
    "version": 3
   },
   "file_extension": ".py",
   "mimetype": "text/x-python",
   "name": "python",
   "nbconvert_exporter": "python",
   "pygments_lexer": "ipython3",
   "version": "3.6.13"
  },
  "orig_nbformat": 4
 },
 "nbformat": 4,
 "nbformat_minor": 2
}
