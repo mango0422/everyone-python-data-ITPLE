{
 "cells": [
  {
   "attachments": {},
   "cell_type": "markdown",
   "metadata": {},
   "source": [
    "앞에서 pandas의 기본을 공부했다. 그 내용이 전부는 아니지만, 다음 단계로 진행할 만큼은 된다. 이전에 받았던 엑셀 파일을 읽어보겠다.\n",
    "```\n",
    "pip install xlrd\n",
    "```\n",
    "위 코드를 이용해서 xlrd 모듈을 설치한다."
   ]
  },
  {
   "cell_type": "code",
   "execution_count": 22,
   "metadata": {},
   "outputs": [
    {
     "data": {
      "text/html": [
       "<div>\n",
       "<style scoped>\n",
       "    .dataframe tbody tr th:only-of-type {\n",
       "        vertical-align: middle;\n",
       "    }\n",
       "\n",
       "    .dataframe tbody tr th {\n",
       "        vertical-align: top;\n",
       "    }\n",
       "\n",
       "    .dataframe thead th {\n",
       "        text-align: right;\n",
       "    }\n",
       "</style>\n",
       "<table border=\"1\" class=\"dataframe\">\n",
       "  <thead>\n",
       "    <tr style=\"text-align: right;\">\n",
       "      <th></th>\n",
       "      <th>시점</th>\n",
       "      <th>스트레스 인지율</th>\n",
       "      <th>스트레스 인지율.1</th>\n",
       "      <th>스트레스 인지율.2</th>\n",
       "      <th>우울감 경험률</th>\n",
       "      <th>우울감 경험률.1</th>\n",
       "      <th>우울감 경험률.2</th>\n",
       "      <th>자살 생각률</th>\n",
       "      <th>자살 생각률.1</th>\n",
       "      <th>자살 생각률.2</th>\n",
       "    </tr>\n",
       "  </thead>\n",
       "  <tbody>\n",
       "    <tr>\n",
       "      <th>0</th>\n",
       "      <td>시점</td>\n",
       "      <td>전체</td>\n",
       "      <td>남학생</td>\n",
       "      <td>여학생</td>\n",
       "      <td>전체</td>\n",
       "      <td>남학생</td>\n",
       "      <td>여학생</td>\n",
       "      <td>전체</td>\n",
       "      <td>남학생</td>\n",
       "      <td>여학생</td>\n",
       "    </tr>\n",
       "    <tr>\n",
       "      <th>1</th>\n",
       "      <td>2022</td>\n",
       "      <td>43.5</td>\n",
       "      <td>38.8</td>\n",
       "      <td>48.6</td>\n",
       "      <td>30.2</td>\n",
       "      <td>25.5</td>\n",
       "      <td>35.1</td>\n",
       "      <td>15.8</td>\n",
       "      <td>11.9</td>\n",
       "      <td>19.9</td>\n",
       "    </tr>\n",
       "  </tbody>\n",
       "</table>\n",
       "</div>"
      ],
      "text/plain": [
       "     시점 스트레스 인지율 스트레스 인지율.1 스트레스 인지율.2 우울감 경험률 우울감 경험률.1 우울감 경험률.2 자살 생각률  \\\n",
       "0    시점       전체        남학생        여학생      전체       남학생       여학생     전체   \n",
       "1  2022     43.5       38.8       48.6    30.2      25.5      35.1   15.8   \n",
       "\n",
       "  자살 생각률.1 자살 생각률.2  \n",
       "0      남학생      여학생  \n",
       "1     11.9     19.9  "
      ]
     },
     "execution_count": 22,
     "metadata": {},
     "output_type": "execute_result"
    }
   ],
   "source": [
    "import pandas as pd\n",
    "pd.read_excel(\"./src/teenage_mental.xls\")"
   ]
  },
  {
   "attachments": {},
   "cell_type": "markdown",
   "metadata": {},
   "source": [
    "```\n",
    "variables = pd.read_excel( ~~~ )\n",
    "```\n",
    "처럼 등호(=) 좌측에 저장하고자 하는 변수명이 없는 경우는 단순히 우측의 함수(pd.read_excel)를 실행만 한 것이다. 이런 경우 Jupyter Notebook은 실행 결과를 출력 영역에 표시해준다. 위 코드는 출력영역에 자신이 실행한 결과를 나타낸 것이다.\n",
    "또, read_excel 함수 안에는 기본적으로 파일 경로와 이름을 입력한다. 이때, 파일명을 입력하는 것이 힘들 수 있다. 이럴 때는 TAB 키를 활용하면 좋다. TAB키를 이용하면 오타를 방지할 수 있고, 현재 내 경로에 대한 오류를 줄일 수 있다. 마지막으로 pd.read_excel이라는 명령에 어떤 옵션이 존재하는지를 알고 싶을 수 있다. 가장 쉽게 접근하는 방법은 shift + tab을 활용하는 것이다."
   ]
  },
  {
   "cell_type": "code",
   "execution_count": 23,
   "metadata": {},
   "outputs": [
    {
     "data": {
      "text/html": [
       "<div>\n",
       "<style scoped>\n",
       "    .dataframe tbody tr th:only-of-type {\n",
       "        vertical-align: middle;\n",
       "    }\n",
       "\n",
       "    .dataframe tbody tr th {\n",
       "        vertical-align: top;\n",
       "    }\n",
       "\n",
       "    .dataframe thead th {\n",
       "        text-align: right;\n",
       "    }\n",
       "</style>\n",
       "<table border=\"1\" class=\"dataframe\">\n",
       "  <thead>\n",
       "    <tr style=\"text-align: right;\">\n",
       "      <th></th>\n",
       "      <th>시점</th>\n",
       "      <th>전체</th>\n",
       "      <th>남학생</th>\n",
       "      <th>여학생</th>\n",
       "      <th>전체.1</th>\n",
       "      <th>남학생.1</th>\n",
       "      <th>여학생.1</th>\n",
       "      <th>전체.2</th>\n",
       "      <th>남학생.2</th>\n",
       "      <th>여학생.2</th>\n",
       "    </tr>\n",
       "  </thead>\n",
       "  <tbody>\n",
       "    <tr>\n",
       "      <th>0</th>\n",
       "      <td>2022</td>\n",
       "      <td>43.5</td>\n",
       "      <td>38.8</td>\n",
       "      <td>48.6</td>\n",
       "      <td>30.2</td>\n",
       "      <td>25.5</td>\n",
       "      <td>35.1</td>\n",
       "      <td>15.8</td>\n",
       "      <td>11.9</td>\n",
       "      <td>19.9</td>\n",
       "    </tr>\n",
       "  </tbody>\n",
       "</table>\n",
       "</div>"
      ],
      "text/plain": [
       "     시점    전체   남학생   여학생  전체.1  남학생.1  여학생.1  전체.2  남학생.2  여학생.2\n",
       "0  2022  43.5  38.8  48.6  30.2   25.5   35.1  15.8   11.9   19.9"
      ]
     },
     "execution_count": 23,
     "metadata": {},
     "output_type": "execute_result"
    }
   ],
   "source": [
    "pd.read_excel(\"./src/teenage_mental.xls\", header=1)"
   ]
  },
  {
   "attachments": {},
   "cell_type": "markdown",
   "metadata": {},
   "source": [
    "위와 같이 header 옵션을 주어 읽기 시작하는 행의 번호를 지정할 수 있다. 칼럼의 이름은 나중에 다시 만드는 것으로 해야할 것 같다."
   ]
  },
  {
   "cell_type": "code",
   "execution_count": 24,
   "metadata": {},
   "outputs": [
    {
     "data": {
      "text/html": [
       "<div>\n",
       "<style scoped>\n",
       "    .dataframe tbody tr th:only-of-type {\n",
       "        vertical-align: middle;\n",
       "    }\n",
       "\n",
       "    .dataframe tbody tr th {\n",
       "        vertical-align: top;\n",
       "    }\n",
       "\n",
       "    .dataframe thead th {\n",
       "        text-align: right;\n",
       "    }\n",
       "</style>\n",
       "<table border=\"1\" class=\"dataframe\">\n",
       "  <thead>\n",
       "    <tr style=\"text-align: right;\">\n",
       "      <th></th>\n",
       "      <th>전체</th>\n",
       "      <th>남학생</th>\n",
       "      <th>여학생</th>\n",
       "      <th>전체.1</th>\n",
       "      <th>남학생.1</th>\n",
       "      <th>여학생.1</th>\n",
       "      <th>전체.2</th>\n",
       "      <th>남학생.2</th>\n",
       "      <th>여학생.2</th>\n",
       "    </tr>\n",
       "  </thead>\n",
       "  <tbody>\n",
       "    <tr>\n",
       "      <th>0</th>\n",
       "      <td>43.5</td>\n",
       "      <td>38.8</td>\n",
       "      <td>48.6</td>\n",
       "      <td>30.2</td>\n",
       "      <td>25.5</td>\n",
       "      <td>35.1</td>\n",
       "      <td>15.8</td>\n",
       "      <td>11.9</td>\n",
       "      <td>19.9</td>\n",
       "    </tr>\n",
       "  </tbody>\n",
       "</table>\n",
       "</div>"
      ],
      "text/plain": [
       "     전체   남학생   여학생  전체.1  남학생.1  여학생.1  전체.2  남학생.2  여학생.2\n",
       "0  43.5  38.8  48.6  30.2   25.5   35.1  15.8   11.9   19.9"
      ]
     },
     "execution_count": 24,
     "metadata": {},
     "output_type": "execute_result"
    }
   ],
   "source": [
    "pd.read_excel(\"./src/teenage_mental.xls\", header=1, usecols=\"B:J\")"
   ]
  },
  {
   "attachments": {},
   "cell_type": "markdown",
   "metadata": {},
   "source": [
    "읽기 전에 usecols 옵션으로 두 칼럼을 읽고 지울지 선택할 수 있다."
   ]
  },
  {
   "cell_type": "code",
   "execution_count": 25,
   "metadata": {},
   "outputs": [
    {
     "data": {
      "text/html": [
       "<div>\n",
       "<style scoped>\n",
       "    .dataframe tbody tr th:only-of-type {\n",
       "        vertical-align: middle;\n",
       "    }\n",
       "\n",
       "    .dataframe tbody tr th {\n",
       "        vertical-align: top;\n",
       "    }\n",
       "\n",
       "    .dataframe thead th {\n",
       "        text-align: right;\n",
       "    }\n",
       "</style>\n",
       "<table border=\"1\" class=\"dataframe\">\n",
       "  <thead>\n",
       "    <tr style=\"text-align: right;\">\n",
       "      <th></th>\n",
       "      <th>스트레스</th>\n",
       "      <th>스트레스남학생</th>\n",
       "      <th>스트레스여학생</th>\n",
       "      <th>우울감경험률</th>\n",
       "      <th>우울남학생</th>\n",
       "      <th>우울여학생</th>\n",
       "      <th>자살생각율</th>\n",
       "      <th>자살남학생</th>\n",
       "      <th>자살여학생</th>\n",
       "    </tr>\n",
       "  </thead>\n",
       "  <tbody>\n",
       "    <tr>\n",
       "      <th>0</th>\n",
       "      <td>43.5</td>\n",
       "      <td>38.8</td>\n",
       "      <td>48.6</td>\n",
       "      <td>30.2</td>\n",
       "      <td>25.5</td>\n",
       "      <td>35.1</td>\n",
       "      <td>15.8</td>\n",
       "      <td>11.9</td>\n",
       "      <td>19.9</td>\n",
       "    </tr>\n",
       "  </tbody>\n",
       "</table>\n",
       "</div>"
      ],
      "text/plain": [
       "   스트레스  스트레스남학생  스트레스여학생  우울감경험률  우울남학생  우울여학생  자살생각율  자살남학생  자살여학생\n",
       "0  43.5     38.8     48.6    30.2   25.5   35.1   15.8   11.9   19.9"
      ]
     },
     "execution_count": 25,
     "metadata": {},
     "output_type": "execute_result"
    }
   ],
   "source": [
    "col_names = ['스트레스', '스트레스남학생', '스트레스여학생', '우울감경험률', '우울남학생', '우울여학생', '자살생각율', '자살남학생', '자살여학생']\n",
    "pd.read_excel(\"./src/teenage_mental.xls\", header=1, usecols=\"B:J\", names=col_names)"
   ]
  },
  {
   "attachments": {},
   "cell_type": "markdown",
   "metadata": {},
   "source": [
    "마지막으로 칼럼 이름을 지정하는 옵션인 names 옵션에 미리 정해놓은 칼럼 이름을 지정해 주면 된다. 이렇게 함수의 옵션을 테스트할 수 있다. 이것을 raw_data라는 변수에 저장하겠다."
   ]
  },
  {
   "cell_type": "code",
   "execution_count": 26,
   "metadata": {},
   "outputs": [
    {
     "data": {
      "text/html": [
       "<div>\n",
       "<style scoped>\n",
       "    .dataframe tbody tr th:only-of-type {\n",
       "        vertical-align: middle;\n",
       "    }\n",
       "\n",
       "    .dataframe tbody tr th {\n",
       "        vertical-align: top;\n",
       "    }\n",
       "\n",
       "    .dataframe thead th {\n",
       "        text-align: right;\n",
       "    }\n",
       "</style>\n",
       "<table border=\"1\" class=\"dataframe\">\n",
       "  <thead>\n",
       "    <tr style=\"text-align: right;\">\n",
       "      <th></th>\n",
       "      <th>스트레스</th>\n",
       "      <th>스트레스남학생</th>\n",
       "      <th>스트레스여학생</th>\n",
       "      <th>우울감경험률</th>\n",
       "      <th>우울남학생</th>\n",
       "      <th>우울여학생</th>\n",
       "      <th>자살생각율</th>\n",
       "      <th>자살남학생</th>\n",
       "      <th>자살여학생</th>\n",
       "    </tr>\n",
       "  </thead>\n",
       "  <tbody>\n",
       "    <tr>\n",
       "      <th>0</th>\n",
       "      <td>43.5</td>\n",
       "      <td>38.8</td>\n",
       "      <td>48.6</td>\n",
       "      <td>30.2</td>\n",
       "      <td>25.5</td>\n",
       "      <td>35.1</td>\n",
       "      <td>15.8</td>\n",
       "      <td>11.9</td>\n",
       "      <td>19.9</td>\n",
       "    </tr>\n",
       "  </tbody>\n",
       "</table>\n",
       "</div>"
      ],
      "text/plain": [
       "   스트레스  스트레스남학생  스트레스여학생  우울감경험률  우울남학생  우울여학생  자살생각율  자살남학생  자살여학생\n",
       "0  43.5     38.8     48.6    30.2   25.5   35.1   15.8   11.9   19.9"
      ]
     },
     "execution_count": 26,
     "metadata": {},
     "output_type": "execute_result"
    }
   ],
   "source": [
    "raw_data = pd.read_excel(\"./src/teenage_mental.xls\", header=1, usecols=\"B:J\", names=col_names)\n",
    "raw_data"
   ]
  },
  {
   "attachments": {},
   "cell_type": "markdown",
   "metadata": {},
   "source": [
    "이제 raw_data라는 변수에 서울시 10대의 정신건강에 대한 통계 자료가 저장되었다.\n",
    "이번장의 목표 중 하나를 떠올리면 위 코드의 결과는 반만 있다. 위 코드의 결과는 '스트레스를 받은 적이 있는가?' 등의 질문에 '그렇다' 라고 대답한 결과이다. 파이(pie) 그래프를 그리기 위해서는 '아니다' 라고 대답한 것도 표에 있어야 한다. 즉, 위 코드 결과는 퍼센트(%) 결과로 보이니, 100에서 뺀 행이 하나 있으면 되겠다."
   ]
  },
  {
   "cell_type": "code",
   "execution_count": 27,
   "metadata": {},
   "outputs": [
    {
     "data": {
      "text/html": [
       "<div>\n",
       "<style scoped>\n",
       "    .dataframe tbody tr th:only-of-type {\n",
       "        vertical-align: middle;\n",
       "    }\n",
       "\n",
       "    .dataframe tbody tr th {\n",
       "        vertical-align: top;\n",
       "    }\n",
       "\n",
       "    .dataframe thead th {\n",
       "        text-align: right;\n",
       "    }\n",
       "</style>\n",
       "<table border=\"1\" class=\"dataframe\">\n",
       "  <thead>\n",
       "    <tr style=\"text-align: right;\">\n",
       "      <th></th>\n",
       "      <th>스트레스</th>\n",
       "      <th>스트레스남학생</th>\n",
       "      <th>스트레스여학생</th>\n",
       "      <th>우울감경험률</th>\n",
       "      <th>우울남학생</th>\n",
       "      <th>우울여학생</th>\n",
       "      <th>자살생각율</th>\n",
       "      <th>자살남학생</th>\n",
       "      <th>자살여학생</th>\n",
       "    </tr>\n",
       "  </thead>\n",
       "  <tbody>\n",
       "    <tr>\n",
       "      <th>0</th>\n",
       "      <td>43.5</td>\n",
       "      <td>38.8</td>\n",
       "      <td>48.6</td>\n",
       "      <td>30.2</td>\n",
       "      <td>25.5</td>\n",
       "      <td>35.1</td>\n",
       "      <td>15.8</td>\n",
       "      <td>11.9</td>\n",
       "      <td>19.9</td>\n",
       "    </tr>\n",
       "    <tr>\n",
       "      <th>1</th>\n",
       "      <td>56.5</td>\n",
       "      <td>61.2</td>\n",
       "      <td>51.4</td>\n",
       "      <td>69.8</td>\n",
       "      <td>74.5</td>\n",
       "      <td>64.9</td>\n",
       "      <td>84.2</td>\n",
       "      <td>88.1</td>\n",
       "      <td>80.1</td>\n",
       "    </tr>\n",
       "  </tbody>\n",
       "</table>\n",
       "</div>"
      ],
      "text/plain": [
       "   스트레스  스트레스남학생  스트레스여학생  우울감경험률  우울남학생  우울여학생  자살생각율  자살남학생  자살여학생\n",
       "0  43.5     38.8     48.6    30.2   25.5   35.1   15.8   11.9   19.9\n",
       "1  56.5     61.2     51.4    69.8   74.5   64.9   84.2   88.1   80.1"
      ]
     },
     "execution_count": 27,
     "metadata": {},
     "output_type": "execute_result"
    }
   ],
   "source": [
    "raw_data.loc[1] = 100. - raw_data.loc[0]\n",
    "raw_data"
   ]
  },
  {
   "attachments": {},
   "cell_type": "markdown",
   "metadata": {},
   "source": [
    "loc 옵션에서 1번 행을 추가하고 100에서 0번째 행을 빼도록 하면 코드 36의 결과처럼 손쉽게 데이터를 만들 수 있다. 그러나 스트레스나 우울감을 경험했는가에 대한 질문에 대한 대답이 없어서 쉽게 표를 구분하기는 어렵다."
   ]
  },
  {
   "cell_type": "code",
   "execution_count": 28,
   "metadata": {},
   "outputs": [
    {
     "data": {
      "text/html": [
       "<div>\n",
       "<style scoped>\n",
       "    .dataframe tbody tr th:only-of-type {\n",
       "        vertical-align: middle;\n",
       "    }\n",
       "\n",
       "    .dataframe tbody tr th {\n",
       "        vertical-align: top;\n",
       "    }\n",
       "\n",
       "    .dataframe thead th {\n",
       "        text-align: right;\n",
       "    }\n",
       "</style>\n",
       "<table border=\"1\" class=\"dataframe\">\n",
       "  <thead>\n",
       "    <tr style=\"text-align: right;\">\n",
       "      <th></th>\n",
       "      <th>스트레스</th>\n",
       "      <th>스트레스남학생</th>\n",
       "      <th>스트레스여학생</th>\n",
       "      <th>우울감경험률</th>\n",
       "      <th>우울남학생</th>\n",
       "      <th>우울여학생</th>\n",
       "      <th>자살생각율</th>\n",
       "      <th>자살남학생</th>\n",
       "      <th>자살여학생</th>\n",
       "      <th>응답</th>\n",
       "    </tr>\n",
       "  </thead>\n",
       "  <tbody>\n",
       "    <tr>\n",
       "      <th>0</th>\n",
       "      <td>43.5</td>\n",
       "      <td>38.8</td>\n",
       "      <td>48.6</td>\n",
       "      <td>30.2</td>\n",
       "      <td>25.5</td>\n",
       "      <td>35.1</td>\n",
       "      <td>15.8</td>\n",
       "      <td>11.9</td>\n",
       "      <td>19.9</td>\n",
       "      <td>그렇다</td>\n",
       "    </tr>\n",
       "    <tr>\n",
       "      <th>1</th>\n",
       "      <td>56.5</td>\n",
       "      <td>61.2</td>\n",
       "      <td>51.4</td>\n",
       "      <td>69.8</td>\n",
       "      <td>74.5</td>\n",
       "      <td>64.9</td>\n",
       "      <td>84.2</td>\n",
       "      <td>88.1</td>\n",
       "      <td>80.1</td>\n",
       "      <td>아니다</td>\n",
       "    </tr>\n",
       "  </tbody>\n",
       "</table>\n",
       "</div>"
      ],
      "text/plain": [
       "   스트레스  스트레스남학생  스트레스여학생  우울감경험률  우울남학생  우울여학생  자살생각율  자살남학생  자살여학생   응답\n",
       "0  43.5     38.8     48.6    30.2   25.5   35.1   15.8   11.9   19.9  그렇다\n",
       "1  56.5     61.2     51.4    69.8   74.5   64.9   84.2   88.1   80.1  아니다"
      ]
     },
     "execution_count": 28,
     "metadata": {},
     "output_type": "execute_result"
    }
   ],
   "source": [
    "raw_data['응답'] = ['그렇다', '아니다']\n",
    "raw_data"
   ]
  },
  {
   "attachments": {},
   "cell_type": "markdown",
   "metadata": {},
   "source": [
    "이렇게 하면 칼럼이 추가된다. 이 상태에서 그래프를 그리는데 유리하도록 인덱스를 바꾼다."
   ]
  },
  {
   "cell_type": "code",
   "execution_count": 29,
   "metadata": {},
   "outputs": [
    {
     "data": {
      "text/html": [
       "<div>\n",
       "<style scoped>\n",
       "    .dataframe tbody tr th:only-of-type {\n",
       "        vertical-align: middle;\n",
       "    }\n",
       "\n",
       "    .dataframe tbody tr th {\n",
       "        vertical-align: top;\n",
       "    }\n",
       "\n",
       "    .dataframe thead th {\n",
       "        text-align: right;\n",
       "    }\n",
       "</style>\n",
       "<table border=\"1\" class=\"dataframe\">\n",
       "  <thead>\n",
       "    <tr style=\"text-align: right;\">\n",
       "      <th></th>\n",
       "      <th>스트레스</th>\n",
       "      <th>스트레스남학생</th>\n",
       "      <th>스트레스여학생</th>\n",
       "      <th>우울감경험률</th>\n",
       "      <th>우울남학생</th>\n",
       "      <th>우울여학생</th>\n",
       "      <th>자살생각율</th>\n",
       "      <th>자살남학생</th>\n",
       "      <th>자살여학생</th>\n",
       "    </tr>\n",
       "    <tr>\n",
       "      <th>응답</th>\n",
       "      <th></th>\n",
       "      <th></th>\n",
       "      <th></th>\n",
       "      <th></th>\n",
       "      <th></th>\n",
       "      <th></th>\n",
       "      <th></th>\n",
       "      <th></th>\n",
       "      <th></th>\n",
       "    </tr>\n",
       "  </thead>\n",
       "  <tbody>\n",
       "    <tr>\n",
       "      <th>그렇다</th>\n",
       "      <td>43.5</td>\n",
       "      <td>38.8</td>\n",
       "      <td>48.6</td>\n",
       "      <td>30.2</td>\n",
       "      <td>25.5</td>\n",
       "      <td>35.1</td>\n",
       "      <td>15.8</td>\n",
       "      <td>11.9</td>\n",
       "      <td>19.9</td>\n",
       "    </tr>\n",
       "    <tr>\n",
       "      <th>아니다</th>\n",
       "      <td>56.5</td>\n",
       "      <td>61.2</td>\n",
       "      <td>51.4</td>\n",
       "      <td>69.8</td>\n",
       "      <td>74.5</td>\n",
       "      <td>64.9</td>\n",
       "      <td>84.2</td>\n",
       "      <td>88.1</td>\n",
       "      <td>80.1</td>\n",
       "    </tr>\n",
       "  </tbody>\n",
       "</table>\n",
       "</div>"
      ],
      "text/plain": [
       "     스트레스  스트레스남학생  스트레스여학생  우울감경험률  우울남학생  우울여학생  자살생각율  자살남학생  자살여학생\n",
       "응답                                                                    \n",
       "그렇다  43.5     38.8     48.6    30.2   25.5   35.1   15.8   11.9   19.9\n",
       "아니다  56.5     61.2     51.4    69.8   74.5   64.9   84.2   88.1   80.1"
      ]
     },
     "execution_count": 29,
     "metadata": {},
     "output_type": "execute_result"
    }
   ],
   "source": [
    "raw_data.set_index('응답', drop=True, inplace=True)\n",
    "raw_data"
   ]
  },
  {
   "attachments": {},
   "cell_type": "markdown",
   "metadata": {},
   "source": [
    "위 코드는 지금까지와는 조금 다른 스타일이다. pandas에서는 이런 스타일로도 코드를 많이 작성한다.  \n",
    "먼저 set_index는 인덱스를 다른 칼럼으로 교체할 수 있다. 여기서 drop 옵션은 인덱스를 해제하고 남은 데이터를 칼럼으로 사용할 것인지 아닌지 결정한다. inplace는 raw_data의 내용을 갱신할 것인지 아닌지를 결정한다.\n"
   ]
  },
  {
   "cell_type": "code",
   "execution_count": null,
   "metadata": {},
   "outputs": [],
   "source": [
    "import pandas as pd\n",
    "col_names = ['스트레스', '스트레스남학생', '스트레스여학생', '우울감경험률', '우울남학생', '우울여학생', '자살생각율', '자살남학생', '자살여학생']\n",
    "raw_data = pd.read_excel(\"./src/teenage_mental.xls\", header=1, usecols=\"B:J\", names=col_names)\n",
    "raw_data.loc[1] = 100. - raw_data.loc[0]\n",
    "raw_data['응답'] = ['그렇다', '아니다']\n",
    "raw_data.set_index('응답', drop=True, inplace=True)"
   ]
  }
 ],
 "metadata": {
  "kernelspec": {
   "display_name": "study36",
   "language": "python",
   "name": "python3"
  },
  "language_info": {
   "codemirror_mode": {
    "name": "ipython",
    "version": 3
   },
   "file_extension": ".py",
   "mimetype": "text/x-python",
   "name": "python",
   "nbconvert_exporter": "python",
   "pygments_lexer": "ipython3",
   "version": "3.6.13"
  },
  "orig_nbformat": 4
 },
 "nbformat": 4,
 "nbformat_minor": 2
}
